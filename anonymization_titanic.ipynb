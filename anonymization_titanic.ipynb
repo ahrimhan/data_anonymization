{
  "nbformat": 4,
  "nbformat_minor": 0,
  "metadata": {
    "colab": {
      "name": "anonymization_titanic.ipynb",
      "provenance": [],
      "collapsed_sections": [],
      "toc_visible": true,
      "mount_file_id": "1CxEwM6r0Jd6WcLmYhlMSRX9r-Yfp1AIi",
      "authorship_tag": "ABX9TyM5J+oyMva6bzRKUJWd6FI2",
      "include_colab_link": true
    },
    "kernelspec": {
      "name": "python3",
      "display_name": "Python 3"
    }
  },
  "cells": [
    {
      "cell_type": "markdown",
      "metadata": {
        "id": "view-in-github",
        "colab_type": "text"
      },
      "source": [
        "<a href=\"https://colab.research.google.com/github/ahrimhan/data_anonymization/blob/master/anonymization_titanic.ipynb\" target=\"_parent\"><img src=\"https://colab.research.google.com/assets/colab-badge.svg\" alt=\"Open In Colab\"/></a>"
      ]
    },
    {
      "cell_type": "markdown",
      "metadata": {
        "id": "6qpNkhxLRauY",
        "colab_type": "text"
      },
      "source": [
        "# **Data Anonymization for Privacy vs. Utility**\n",
        "\n",
        "\n",
        "---\n"
      ]
    },
    {
      "cell_type": "markdown",
      "metadata": {
        "id": "UGHfN4ZT0Hpi",
        "colab_type": "text"
      },
      "source": [
        "<!-- [![Open In Colab](https://colab.research.google.com/assets/colab-badge.svg)](\n",
        "https://colab.research.google.com/github/ahrimhan/data_anonymization/blob/master/anonymization_titanic.ipynb) -->"
      ]
    },
    {
      "cell_type": "markdown",
      "metadata": {
        "id": "KDnU5xIPjwu7",
        "colab_type": "text"
      },
      "source": [
        "## **Data anonymization**\n",
        "\n",
        "Data anonymization is the process of protecting private or sensitive information by erasing or encrypting identifiers that connect an individual to stored data. For example, Personally Identifiable Information (PII) such as names, social security numbers, and addresses should be anonymized.\n",
        "\n",
        "Personal data can be divided into sensitive and non-sensitive data, and the sensitive data has to be dealt carefully. The examples of sensitive data are as follows:\n",
        "* Social security number (including truncated form)\n",
        "* Place of birth\n",
        "* Date of birth\n",
        "* Mother's maiden name\n",
        "* Biometric information\n",
        "* Medical information (excluding brief references to absence from work)\n",
        "* Personal financial information\n",
        "* Credit card/purchase card account numbers\n",
        "* Passport numbers\n",
        "* Potentially sensitive employment information (e.g., performance ratings, discipinary actions, results of background investigations)\n",
        "* Criminal history\n",
        "* Information that may stigmatize or adversely affect an individual\n",
        "\n",
        "Even when you clear data of identifiers, data may be reidentified by attackers. Through multiple sources (e.g., data available to the public), de-anonymization techniques can cross-reference the sources and reveal personal information. It is important to anonymize/encrypt data sufficiently for the preventive actions of later attacks. "
      ]
    },
    {
      "cell_type": "markdown",
      "metadata": {
        "id": "765URXyQmBRz",
        "colab_type": "text"
      },
      "source": [
        "**Reidentification attack examples**\n",
        "\n",
        "* Linkage attack on Netflix prize dataset for movie rating prediction\n",
        "  * In 2008, papers were published the individual data could be identified with the iMDB (public data for movies available online)  \n",
        "  http://citeseerx.ist.psu.edu/viewdoc/download?doi=10.1.1.100.3581&rep=rep1&type=pdf\n",
        "\n",
        "* Linkage attack on Governor medical record (Massachusetts Governor William Weld’s medical data)\n",
        "  * Linked with voter records and the anonymized public medical data by removing names, addresses, and other fields that could identify people\n",
        "  * Only 1 person with same zip code, gender, birthday"
      ]
    },
    {
      "cell_type": "markdown",
      "metadata": {
        "id": "jufIXuSt8YdV",
        "colab_type": "text"
      },
      "source": [
        "## **Goal**\n",
        "\n",
        "In this project, I aim to do hands-on-experience on de-identifying sensitive data using various anonymization techniques and observe the effects of accuracy on machine learning models.\n",
        "\n"
      ]
    },
    {
      "cell_type": "markdown",
      "metadata": {
        "id": "6dexdI3I8juX",
        "colab_type": "text"
      },
      "source": [
        "## **Titanic Data**\n",
        "\n",
        "This is Kaggle competition data\n",
        "to predict if a passenger survived the sinking of the Titanic or not.\n",
        "You can download the here. [[Titanic data]](https://www.kaggle.com/c/titanic/data)\n",
        "\n",
        "All used data and obtained results in this project can be downloaded here. [[Data download]](https://drive.google.com/drive/folders/1ufkU7MC-tMf4JP9uCMhTiJot8DpL1Wu6?usp=sharing)\n",
        "\n",
        "I selected this data because it is simple but has sensitive data `(e.g., \"Name\", \"PassengerId\", ...)` so that I can practice on applying various anonymization techqnies and make predictive machine learning models.\n",
        "\n",
        "The data has been split into two groups: training set (train.csv) and test set (test.csv). Each data is used for training machine learing models and testing the fitness of the models on unseen data, respectively. \n",
        "\n",
        "Here are simple explanation for data.\n",
        "\n",
        ">Variable|\tDefinition|\tKey\n",
        ">--- | ---| ---\n",
        "> PassengerId | Passenger ID |\n",
        ">Survived| Survival |\t0 = No, 1 = Yes\n",
        ">Pclass|\tTicket class|\t1 = 1st, 2 = 2nd, 3 = 3rd\n",
        ">Sex\t|Sex|\tmale, female\n",
        ">Age|\tAge in years\t|\n",
        ">Sibsp|\t# of siblings / spouses aboard the Titanic\t|\n",
        ">Parch\t|# of parents / children aboard the Titanic\t|\n",
        ">Ticket|\tTicket number\t|\n",
        ">Fare|\tPassenger fare\t|\n",
        ">Cabin\t|Cabin number\t|\n",
        ">Embarked|\tPort of Embarkation\t|C = Cherbourg, Q = Queenstown, S = Southampton\n",
        "\n",
        "* Pclass: A proxy for socio-economic status (SES)  \n",
        "1st = Upper\n",
        "2nd = Middle\n",
        "3rd = Lower\n",
        "\n",
        "* Age: Age is fractional if less than 1.   \n",
        "If the age is estimated, it is in the form of xx.5\n",
        "\n",
        "* Sibsp: The dataset defines family relations  \n",
        "Sibling = brother, sister, stepbrother, and stepsister  \n",
        "Spouse = husband and wife (mistresses and fiancés were ignored)\n",
        "\n",
        "* Parch: The dataset defines family relations  \n",
        "Parent = mother and father  \n",
        "Child = daughter, son, stepdaughter, and stepson  \n",
        "Some children traveled only with a nanny, therefore parch=0 for them."
      ]
    },
    {
      "cell_type": "code",
      "metadata": {
        "id": "C7hB8BOPR7q0",
        "colab_type": "code",
        "outputId": "fd816c15-0d28-48c9-8abb-bb4ef3bda604",
        "colab": {
          "base_uri": "https://localhost:8080/",
          "height": 51
        }
      },
      "source": [
        "import numpy as np\n",
        "import pandas as pd\n",
        "import matplotlib.pyplot as plt\n",
        "import seaborn as sns\n",
        "import re\n",
        "\n",
        "# import import_ipynb"
      ],
      "execution_count": 0,
      "outputs": [
        {
          "output_type": "stream",
          "text": [
            "/usr/local/lib/python3.6/dist-packages/statsmodels/tools/_testing.py:19: FutureWarning: pandas.util.testing is deprecated. Use the functions in the public API at pandas.testing instead.\n",
            "  import pandas.util.testing as tm\n"
          ],
          "name": "stderr"
        }
      ]
    },
    {
      "cell_type": "code",
      "metadata": {
        "id": "ckXEO65DB69u",
        "colab_type": "code",
        "colab": {}
      },
      "source": [
        "import warnings\n",
        "warnings.filterwarnings('ignore')"
      ],
      "execution_count": 0,
      "outputs": []
    },
    {
      "cell_type": "markdown",
      "metadata": {
        "id": "-u2sVPhMtNkZ",
        "colab_type": "text"
      },
      "source": [
        "Since Titanic data is publicized for the competition purpose, test data does not have \"Survived\" column, which is for the target variable for prediction and expected to be predicted and subimitted.\n",
        "I aim to explore the accuracy of the machine learning models, so I need the \"Survived\" data. So, I will not use the test data but split and train using the train data only."
      ]
    },
    {
      "cell_type": "code",
      "metadata": {
        "id": "v3TXHYhj9BrT",
        "colab_type": "code",
        "colab": {}
      },
      "source": [
        "train_df = pd.read_csv('./drive/My Drive/data_anonymization/data/train.csv')"
      ],
      "execution_count": 0,
      "outputs": []
    },
    {
      "cell_type": "code",
      "metadata": {
        "id": "nIO7mokFBR_T",
        "colab_type": "code",
        "colab": {}
      },
      "source": [
        "# url = (\"http://biostat.mc.vanderbilt.edu/wiki/pub/Main/DataSets/titanic3.xls\")\n",
        "# df = pd.read_excel(url)"
      ],
      "execution_count": 0,
      "outputs": []
    },
    {
      "cell_type": "markdown",
      "metadata": {
        "id": "WycdzC_jjsnX",
        "colab_type": "text"
      },
      "source": [
        "There are 12 columns (attributes) with 891 rows (records)."
      ]
    },
    {
      "cell_type": "code",
      "metadata": {
        "id": "LlMbBj-Fz-ez",
        "colab_type": "code",
        "outputId": "27acab60-5560-4b44-cc41-0a4eb39a5bc1",
        "colab": {
          "base_uri": "https://localhost:8080/",
          "height": 34
        }
      },
      "source": [
        "train_df.shape"
      ],
      "execution_count": 0,
      "outputs": [
        {
          "output_type": "execute_result",
          "data": {
            "text/plain": [
              "(891, 12)"
            ]
          },
          "metadata": {
            "tags": []
          },
          "execution_count": 5
        }
      ]
    },
    {
      "cell_type": "code",
      "metadata": {
        "id": "AaUElNHs9unp",
        "colab_type": "code",
        "outputId": "2e509749-6640-4217-e649-4cd44500db2c",
        "colab": {
          "base_uri": "https://localhost:8080/",
          "height": 204
        }
      },
      "source": [
        "train_df.head()"
      ],
      "execution_count": 0,
      "outputs": [
        {
          "output_type": "execute_result",
          "data": {
            "text/html": [
              "<div>\n",
              "<style scoped>\n",
              "    .dataframe tbody tr th:only-of-type {\n",
              "        vertical-align: middle;\n",
              "    }\n",
              "\n",
              "    .dataframe tbody tr th {\n",
              "        vertical-align: top;\n",
              "    }\n",
              "\n",
              "    .dataframe thead th {\n",
              "        text-align: right;\n",
              "    }\n",
              "</style>\n",
              "<table border=\"1\" class=\"dataframe\">\n",
              "  <thead>\n",
              "    <tr style=\"text-align: right;\">\n",
              "      <th></th>\n",
              "      <th>PassengerId</th>\n",
              "      <th>Survived</th>\n",
              "      <th>Pclass</th>\n",
              "      <th>Name</th>\n",
              "      <th>Sex</th>\n",
              "      <th>Age</th>\n",
              "      <th>SibSp</th>\n",
              "      <th>Parch</th>\n",
              "      <th>Ticket</th>\n",
              "      <th>Fare</th>\n",
              "      <th>Cabin</th>\n",
              "      <th>Embarked</th>\n",
              "    </tr>\n",
              "  </thead>\n",
              "  <tbody>\n",
              "    <tr>\n",
              "      <th>0</th>\n",
              "      <td>1</td>\n",
              "      <td>0</td>\n",
              "      <td>3</td>\n",
              "      <td>Braund, Mr. Owen Harris</td>\n",
              "      <td>male</td>\n",
              "      <td>22.0</td>\n",
              "      <td>1</td>\n",
              "      <td>0</td>\n",
              "      <td>A/5 21171</td>\n",
              "      <td>7.2500</td>\n",
              "      <td>NaN</td>\n",
              "      <td>S</td>\n",
              "    </tr>\n",
              "    <tr>\n",
              "      <th>1</th>\n",
              "      <td>2</td>\n",
              "      <td>1</td>\n",
              "      <td>1</td>\n",
              "      <td>Cumings, Mrs. John Bradley (Florence Briggs Th...</td>\n",
              "      <td>female</td>\n",
              "      <td>38.0</td>\n",
              "      <td>1</td>\n",
              "      <td>0</td>\n",
              "      <td>PC 17599</td>\n",
              "      <td>71.2833</td>\n",
              "      <td>C85</td>\n",
              "      <td>C</td>\n",
              "    </tr>\n",
              "    <tr>\n",
              "      <th>2</th>\n",
              "      <td>3</td>\n",
              "      <td>1</td>\n",
              "      <td>3</td>\n",
              "      <td>Heikkinen, Miss. Laina</td>\n",
              "      <td>female</td>\n",
              "      <td>26.0</td>\n",
              "      <td>0</td>\n",
              "      <td>0</td>\n",
              "      <td>STON/O2. 3101282</td>\n",
              "      <td>7.9250</td>\n",
              "      <td>NaN</td>\n",
              "      <td>S</td>\n",
              "    </tr>\n",
              "    <tr>\n",
              "      <th>3</th>\n",
              "      <td>4</td>\n",
              "      <td>1</td>\n",
              "      <td>1</td>\n",
              "      <td>Futrelle, Mrs. Jacques Heath (Lily May Peel)</td>\n",
              "      <td>female</td>\n",
              "      <td>35.0</td>\n",
              "      <td>1</td>\n",
              "      <td>0</td>\n",
              "      <td>113803</td>\n",
              "      <td>53.1000</td>\n",
              "      <td>C123</td>\n",
              "      <td>S</td>\n",
              "    </tr>\n",
              "    <tr>\n",
              "      <th>4</th>\n",
              "      <td>5</td>\n",
              "      <td>0</td>\n",
              "      <td>3</td>\n",
              "      <td>Allen, Mr. William Henry</td>\n",
              "      <td>male</td>\n",
              "      <td>35.0</td>\n",
              "      <td>0</td>\n",
              "      <td>0</td>\n",
              "      <td>373450</td>\n",
              "      <td>8.0500</td>\n",
              "      <td>NaN</td>\n",
              "      <td>S</td>\n",
              "    </tr>\n",
              "  </tbody>\n",
              "</table>\n",
              "</div>"
            ],
            "text/plain": [
              "   PassengerId  Survived  Pclass  ...     Fare Cabin  Embarked\n",
              "0            1         0       3  ...   7.2500   NaN         S\n",
              "1            2         1       1  ...  71.2833   C85         C\n",
              "2            3         1       3  ...   7.9250   NaN         S\n",
              "3            4         1       1  ...  53.1000  C123         S\n",
              "4            5         0       3  ...   8.0500   NaN         S\n",
              "\n",
              "[5 rows x 12 columns]"
            ]
          },
          "metadata": {
            "tags": []
          },
          "execution_count": 6
        }
      ]
    },
    {
      "cell_type": "markdown",
      "metadata": {
        "id": "BKCIP4kXdfS8",
        "colab_type": "text"
      },
      "source": [
        "**Data Types**\n",
        "\n",
        "We can get insight overview of data as below. Among the 12 attributes, 7 are numerical types (type `float` and `int`) and 5 are object types (`object`). \n",
        "\n",
        "* `Pclass` is an ordinal feature. \n",
        "* `Sex` and `Embark` are categorical features.\n",
        "* `Age`, `Fare`, `SibSp`, and `Parch` are numerical features."
      ]
    },
    {
      "cell_type": "code",
      "metadata": {
        "id": "xK_Xd_N6cLYB",
        "colab_type": "code",
        "outputId": "e350fc7f-7b7d-4760-8295-f299c6263774",
        "colab": {
          "base_uri": "https://localhost:8080/",
          "height": 340
        }
      },
      "source": [
        "train_df.info()"
      ],
      "execution_count": 0,
      "outputs": [
        {
          "output_type": "stream",
          "text": [
            "<class 'pandas.core.frame.DataFrame'>\n",
            "RangeIndex: 891 entries, 0 to 890\n",
            "Data columns (total 12 columns):\n",
            " #   Column       Non-Null Count  Dtype  \n",
            "---  ------       --------------  -----  \n",
            " 0   PassengerId  891 non-null    int64  \n",
            " 1   Survived     891 non-null    int64  \n",
            " 2   Pclass       891 non-null    int64  \n",
            " 3   Name         891 non-null    object \n",
            " 4   Sex          891 non-null    object \n",
            " 5   Age          714 non-null    float64\n",
            " 6   SibSp        891 non-null    int64  \n",
            " 7   Parch        891 non-null    int64  \n",
            " 8   Ticket       891 non-null    object \n",
            " 9   Fare         891 non-null    float64\n",
            " 10  Cabin        204 non-null    object \n",
            " 11  Embarked     889 non-null    object \n",
            "dtypes: float64(2), int64(5), object(5)\n",
            "memory usage: 83.7+ KB\n"
          ],
          "name": "stdout"
        }
      ]
    },
    {
      "cell_type": "code",
      "metadata": {
        "id": "cKvQu7f2HarD",
        "colab_type": "code",
        "outputId": "1c6e3d2d-3ddc-48cc-8b09-a2a729d1b1c6",
        "colab": {
          "base_uri": "https://localhost:8080/",
          "height": 297
        }
      },
      "source": [
        "train_df.describe()"
      ],
      "execution_count": 0,
      "outputs": [
        {
          "output_type": "execute_result",
          "data": {
            "text/html": [
              "<div>\n",
              "<style scoped>\n",
              "    .dataframe tbody tr th:only-of-type {\n",
              "        vertical-align: middle;\n",
              "    }\n",
              "\n",
              "    .dataframe tbody tr th {\n",
              "        vertical-align: top;\n",
              "    }\n",
              "\n",
              "    .dataframe thead th {\n",
              "        text-align: right;\n",
              "    }\n",
              "</style>\n",
              "<table border=\"1\" class=\"dataframe\">\n",
              "  <thead>\n",
              "    <tr style=\"text-align: right;\">\n",
              "      <th></th>\n",
              "      <th>PassengerId</th>\n",
              "      <th>Survived</th>\n",
              "      <th>Pclass</th>\n",
              "      <th>Age</th>\n",
              "      <th>SibSp</th>\n",
              "      <th>Parch</th>\n",
              "      <th>Fare</th>\n",
              "    </tr>\n",
              "  </thead>\n",
              "  <tbody>\n",
              "    <tr>\n",
              "      <th>count</th>\n",
              "      <td>891.000000</td>\n",
              "      <td>891.000000</td>\n",
              "      <td>891.000000</td>\n",
              "      <td>714.000000</td>\n",
              "      <td>891.000000</td>\n",
              "      <td>891.000000</td>\n",
              "      <td>891.000000</td>\n",
              "    </tr>\n",
              "    <tr>\n",
              "      <th>mean</th>\n",
              "      <td>446.000000</td>\n",
              "      <td>0.383838</td>\n",
              "      <td>2.308642</td>\n",
              "      <td>29.699118</td>\n",
              "      <td>0.523008</td>\n",
              "      <td>0.381594</td>\n",
              "      <td>32.204208</td>\n",
              "    </tr>\n",
              "    <tr>\n",
              "      <th>std</th>\n",
              "      <td>257.353842</td>\n",
              "      <td>0.486592</td>\n",
              "      <td>0.836071</td>\n",
              "      <td>14.526497</td>\n",
              "      <td>1.102743</td>\n",
              "      <td>0.806057</td>\n",
              "      <td>49.693429</td>\n",
              "    </tr>\n",
              "    <tr>\n",
              "      <th>min</th>\n",
              "      <td>1.000000</td>\n",
              "      <td>0.000000</td>\n",
              "      <td>1.000000</td>\n",
              "      <td>0.420000</td>\n",
              "      <td>0.000000</td>\n",
              "      <td>0.000000</td>\n",
              "      <td>0.000000</td>\n",
              "    </tr>\n",
              "    <tr>\n",
              "      <th>25%</th>\n",
              "      <td>223.500000</td>\n",
              "      <td>0.000000</td>\n",
              "      <td>2.000000</td>\n",
              "      <td>20.125000</td>\n",
              "      <td>0.000000</td>\n",
              "      <td>0.000000</td>\n",
              "      <td>7.910400</td>\n",
              "    </tr>\n",
              "    <tr>\n",
              "      <th>50%</th>\n",
              "      <td>446.000000</td>\n",
              "      <td>0.000000</td>\n",
              "      <td>3.000000</td>\n",
              "      <td>28.000000</td>\n",
              "      <td>0.000000</td>\n",
              "      <td>0.000000</td>\n",
              "      <td>14.454200</td>\n",
              "    </tr>\n",
              "    <tr>\n",
              "      <th>75%</th>\n",
              "      <td>668.500000</td>\n",
              "      <td>1.000000</td>\n",
              "      <td>3.000000</td>\n",
              "      <td>38.000000</td>\n",
              "      <td>1.000000</td>\n",
              "      <td>0.000000</td>\n",
              "      <td>31.000000</td>\n",
              "    </tr>\n",
              "    <tr>\n",
              "      <th>max</th>\n",
              "      <td>891.000000</td>\n",
              "      <td>1.000000</td>\n",
              "      <td>3.000000</td>\n",
              "      <td>80.000000</td>\n",
              "      <td>8.000000</td>\n",
              "      <td>6.000000</td>\n",
              "      <td>512.329200</td>\n",
              "    </tr>\n",
              "  </tbody>\n",
              "</table>\n",
              "</div>"
            ],
            "text/plain": [
              "       PassengerId    Survived      Pclass  ...       SibSp       Parch        Fare\n",
              "count   891.000000  891.000000  891.000000  ...  891.000000  891.000000  891.000000\n",
              "mean    446.000000    0.383838    2.308642  ...    0.523008    0.381594   32.204208\n",
              "std     257.353842    0.486592    0.836071  ...    1.102743    0.806057   49.693429\n",
              "min       1.000000    0.000000    1.000000  ...    0.000000    0.000000    0.000000\n",
              "25%     223.500000    0.000000    2.000000  ...    0.000000    0.000000    7.910400\n",
              "50%     446.000000    0.000000    3.000000  ...    0.000000    0.000000   14.454200\n",
              "75%     668.500000    1.000000    3.000000  ...    1.000000    0.000000   31.000000\n",
              "max     891.000000    1.000000    3.000000  ...    8.000000    6.000000  512.329200\n",
              "\n",
              "[8 rows x 7 columns]"
            ]
          },
          "metadata": {
            "tags": []
          },
          "execution_count": 8
        }
      ]
    },
    {
      "cell_type": "code",
      "metadata": {
        "id": "YueI5EaH37wg",
        "colab_type": "code",
        "outputId": "2f6001d9-b8ff-41ea-8c18-4716cbeae74b",
        "colab": {
          "base_uri": "https://localhost:8080/",
          "height": 238
        }
      },
      "source": [
        "train_df.nunique()"
      ],
      "execution_count": 0,
      "outputs": [
        {
          "output_type": "execute_result",
          "data": {
            "text/plain": [
              "PassengerId    891\n",
              "Survived         2\n",
              "Pclass           3\n",
              "Name           891\n",
              "Sex              2\n",
              "Age             88\n",
              "SibSp            7\n",
              "Parch            7\n",
              "Ticket         681\n",
              "Fare           248\n",
              "Cabin          147\n",
              "Embarked         3\n",
              "dtype: int64"
            ]
          },
          "metadata": {
            "tags": []
          },
          "execution_count": 9
        }
      ]
    },
    {
      "cell_type": "markdown",
      "metadata": {
        "id": "K2lJMyUDVx9m",
        "colab_type": "text"
      },
      "source": [
        "**Missing Values**"
      ]
    },
    {
      "cell_type": "markdown",
      "metadata": {
        "id": "kUhgFHRM4u1n",
        "colab_type": "text"
      },
      "source": [
        "\n",
        "\n",
        "There are missing values in columns of `Age`, `Cabin`, and `Embarked`. \n",
        "\n",
        "* Since `Cabin` has missed the large amounts of data (77.1 %), it may not be represent valuable insights and should be removed. This will be deleted in Suppression.\n",
        "* There are only two missing values in `Embarked`, so we just delete two rows having missing values.\n",
        "* 20% data is missing in `Age`. I do not want loose these data, so I decided to impute the age with the median age of each `Pclass`."
      ]
    },
    {
      "cell_type": "code",
      "metadata": {
        "id": "Fb5_zQG536Nb",
        "colab_type": "code",
        "outputId": "6a32ba8b-f99f-41cf-d2ea-575c401b8127",
        "colab": {
          "base_uri": "https://localhost:8080/",
          "height": 142
        }
      },
      "source": [
        "total = train_df.isnull().sum().sort_values(ascending=False)\n",
        "percent_1 = train_df.isnull().sum()/train_df.isnull().count()*100\n",
        "percent_2 = (round(percent_1, 1)).sort_values(ascending=False)\n",
        "missing_data = pd.concat([total, percent_2], axis=1, keys=['Total', 'Missing Rate %'])\n",
        "missing_data.loc[missing_data['Total'] != 0]"
      ],
      "execution_count": 0,
      "outputs": [
        {
          "output_type": "execute_result",
          "data": {
            "text/html": [
              "<div>\n",
              "<style scoped>\n",
              "    .dataframe tbody tr th:only-of-type {\n",
              "        vertical-align: middle;\n",
              "    }\n",
              "\n",
              "    .dataframe tbody tr th {\n",
              "        vertical-align: top;\n",
              "    }\n",
              "\n",
              "    .dataframe thead th {\n",
              "        text-align: right;\n",
              "    }\n",
              "</style>\n",
              "<table border=\"1\" class=\"dataframe\">\n",
              "  <thead>\n",
              "    <tr style=\"text-align: right;\">\n",
              "      <th></th>\n",
              "      <th>Total</th>\n",
              "      <th>Missing Rate %</th>\n",
              "    </tr>\n",
              "  </thead>\n",
              "  <tbody>\n",
              "    <tr>\n",
              "      <th>Cabin</th>\n",
              "      <td>687</td>\n",
              "      <td>77.1</td>\n",
              "    </tr>\n",
              "    <tr>\n",
              "      <th>Age</th>\n",
              "      <td>177</td>\n",
              "      <td>19.9</td>\n",
              "    </tr>\n",
              "    <tr>\n",
              "      <th>Embarked</th>\n",
              "      <td>2</td>\n",
              "      <td>0.2</td>\n",
              "    </tr>\n",
              "  </tbody>\n",
              "</table>\n",
              "</div>"
            ],
            "text/plain": [
              "          Total  Missing Rate %\n",
              "Cabin       687            77.1\n",
              "Age         177            19.9\n",
              "Embarked      2             0.2"
            ]
          },
          "metadata": {
            "tags": []
          },
          "execution_count": 10
        }
      ]
    },
    {
      "cell_type": "markdown",
      "metadata": {
        "id": "ok0Kjc3JSIjb",
        "colab_type": "text"
      },
      "source": [
        "Delete two rows having missing values in `Embarked`"
      ]
    },
    {
      "cell_type": "code",
      "metadata": {
        "id": "hc7pgCXVcf6J",
        "colab_type": "code",
        "colab": {}
      },
      "source": [
        "train_df = train_df[train_df['Embarked'].notna()]"
      ],
      "execution_count": 0,
      "outputs": []
    },
    {
      "cell_type": "markdown",
      "metadata": {
        "id": "DgsihPoGSloX",
        "colab_type": "text"
      },
      "source": [
        "Impute the `Age` with the **median age** of each `Pclass`.  \n",
        "\n",
        ": `Age` has high correlation with the `Pclass`."
      ]
    },
    {
      "cell_type": "code",
      "metadata": {
        "id": "cPqV4ap8SF68",
        "colab_type": "code",
        "outputId": "7564520a-d909-4596-bed1-535355f5bfa5",
        "colab": {
          "base_uri": "https://localhost:8080/",
          "height": 369
        }
      },
      "source": [
        "sns.catplot(data = train_df , x = 'Pclass' , y = 'Age', kind = 'box')\n",
        "plt.show()"
      ],
      "execution_count": 0,
      "outputs": [
        {
          "output_type": "display_data",
          "data": {
            "image/png": "[encoded data removed]",
            "text/plain": [
              "<Figure size 360x360 with 1 Axes>"
            ]
          },
          "metadata": {
            "tags": [],
            "needs_background": "light"
          }
        }
      ]
    },
    {
      "cell_type": "markdown",
      "metadata": {
        "id": "6OYBHWRvVh78",
        "colab_type": "text"
      },
      "source": [
        ": Median age of each `Pclass`."
      ]
    },
    {
      "cell_type": "code",
      "metadata": {
        "id": "GczyvGjFU_ym",
        "colab_type": "code",
        "outputId": "e2e6de23-17c2-4a6c-810b-c1f66ad7e909",
        "colab": {
          "base_uri": "https://localhost:8080/",
          "height": 142
        }
      },
      "source": [
        "train_df[[\"Pclass\", \"Age\"]].groupby(['Pclass'], as_index=False).median().sort_values(by='Age', ascending=False)"
      ],
      "execution_count": 0,
      "outputs": [
        {
          "output_type": "execute_result",
          "data": {
            "text/html": [
              "<div>\n",
              "<style scoped>\n",
              "    .dataframe tbody tr th:only-of-type {\n",
              "        vertical-align: middle;\n",
              "    }\n",
              "\n",
              "    .dataframe tbody tr th {\n",
              "        vertical-align: top;\n",
              "    }\n",
              "\n",
              "    .dataframe thead th {\n",
              "        text-align: right;\n",
              "    }\n",
              "</style>\n",
              "<table border=\"1\" class=\"dataframe\">\n",
              "  <thead>\n",
              "    <tr style=\"text-align: right;\">\n",
              "      <th></th>\n",
              "      <th>Pclass</th>\n",
              "      <th>Age</th>\n",
              "    </tr>\n",
              "  </thead>\n",
              "  <tbody>\n",
              "    <tr>\n",
              "      <th>0</th>\n",
              "      <td>1</td>\n",
              "      <td>37.0</td>\n",
              "    </tr>\n",
              "    <tr>\n",
              "      <th>1</th>\n",
              "      <td>2</td>\n",
              "      <td>29.0</td>\n",
              "    </tr>\n",
              "    <tr>\n",
              "      <th>2</th>\n",
              "      <td>3</td>\n",
              "      <td>24.0</td>\n",
              "    </tr>\n",
              "  </tbody>\n",
              "</table>\n",
              "</div>"
            ],
            "text/plain": [
              "   Pclass   Age\n",
              "0       1  37.0\n",
              "1       2  29.0\n",
              "2       3  24.0"
            ]
          },
          "metadata": {
            "tags": []
          },
          "execution_count": 13
        }
      ]
    },
    {
      "cell_type": "markdown",
      "metadata": {
        "id": "zGUN1pUZWK0b",
        "colab_type": "text"
      },
      "source": [
        ": Impute the `Age` with the **median age** of each `Pclass`.  "
      ]
    },
    {
      "cell_type": "code",
      "metadata": {
        "id": "ibmh16a0WOcj",
        "colab_type": "code",
        "colab": {}
      },
      "source": [
        "# a custom function for age imputation\n",
        "def AgeImpute(df):\n",
        "    Age = df[0]\n",
        "    Pclass = df[1]\n",
        "    \n",
        "    if pd.isnull(Age):\n",
        "        if Pclass == 1: return 37\n",
        "        elif Pclass == 2: return 29\n",
        "        elif Pclass == 3: return 24\n",
        "        else: print(\"no class, error\")\n",
        "    else:\n",
        "        return Age\n",
        "\n",
        "# Age Impute\n",
        "train_df['Age'] = train_df[['Age', 'Pclass']].apply(AgeImpute, axis = 1)"
      ],
      "execution_count": 0,
      "outputs": []
    },
    {
      "cell_type": "markdown",
      "metadata": {
        "id": "EN37G0WubjlI",
        "colab_type": "text"
      },
      "source": [
        "**Survival rate for each feature**\n",
        "\n",
        "**Categorical Type**\n"
      ]
    },
    {
      "cell_type": "markdown",
      "metadata": {
        "id": "xiESIVNlY4Ho",
        "colab_type": "text"
      },
      "source": [
        "`Sex = female`, `Pclass = 1`, and `Embarked = C` indicate the strong correlations with the survived rates."
      ]
    },
    {
      "cell_type": "code",
      "metadata": {
        "id": "IFEAfhXMpBII",
        "colab_type": "code",
        "outputId": "15cb593b-8363-41f3-b955-d31e0d71fa41",
        "colab": {
          "base_uri": "https://localhost:8080/",
          "height": 295
        }
      },
      "source": [
        "fig, axes = plt.subplots(nrows=1, ncols=2, figsize=(10, 4))\n",
        "\n",
        "women = train_df[train_df['Sex']=='female']\n",
        "men = train_df[train_df['Sex']=='male']\n",
        "ax = sns.distplot(women[women['Survived']==1].Age.dropna(), bins=18, label = 'survived', ax = axes[0], kde =False)\n",
        "ax = sns.distplot(women[women['Survived']==0].Age.dropna(), bins=40, label = 'not_survived', ax = axes[0], kde =False)\n",
        "ax.legend()\n",
        "ax.set_title('Female')\n",
        "\n",
        "ax = sns.distplot(men[men['Survived']==1].Age.dropna(), bins=18, label = 'survived', ax = axes[1], kde = False)\n",
        "ax = sns.distplot(men[men['Survived']==0].Age.dropna(), bins=40, label = 'not_survived', ax = axes[1], kde = False)\n",
        "ax.legend()\n",
        "_ = ax.set_title('Male')"
      ],
      "execution_count": 0,
      "outputs": [
        {
          "output_type": "display_data",
          "data": {
            "image/png": "[encoded data removed]",
            "text/plain": [
              "<Figure size 720x288 with 2 Axes>"
            ]
          },
          "metadata": {
            "tags": [],
            "needs_background": "light"
          }
        }
      ]
    },
    {
      "cell_type": "code",
      "metadata": {
        "id": "g3fmZi4CZzQu",
        "colab_type": "code",
        "outputId": "a3ffeb32-6c68-40ae-8cb6-ca5cd558a0ef",
        "colab": {
          "base_uri": "https://localhost:8080/",
          "height": 111
        }
      },
      "source": [
        "train_df[[\"Sex\", \"Survived\"]].groupby(['Sex'], as_index=False).mean().sort_values(by='Survived', ascending=False)"
      ],
      "execution_count": 0,
      "outputs": [
        {
          "output_type": "execute_result",
          "data": {
            "text/html": [
              "<div>\n",
              "<style scoped>\n",
              "    .dataframe tbody tr th:only-of-type {\n",
              "        vertical-align: middle;\n",
              "    }\n",
              "\n",
              "    .dataframe tbody tr th {\n",
              "        vertical-align: top;\n",
              "    }\n",
              "\n",
              "    .dataframe thead th {\n",
              "        text-align: right;\n",
              "    }\n",
              "</style>\n",
              "<table border=\"1\" class=\"dataframe\">\n",
              "  <thead>\n",
              "    <tr style=\"text-align: right;\">\n",
              "      <th></th>\n",
              "      <th>Sex</th>\n",
              "      <th>Survived</th>\n",
              "    </tr>\n",
              "  </thead>\n",
              "  <tbody>\n",
              "    <tr>\n",
              "      <th>0</th>\n",
              "      <td>female</td>\n",
              "      <td>0.740385</td>\n",
              "    </tr>\n",
              "    <tr>\n",
              "      <th>1</th>\n",
              "      <td>male</td>\n",
              "      <td>0.188908</td>\n",
              "    </tr>\n",
              "  </tbody>\n",
              "</table>\n",
              "</div>"
            ],
            "text/plain": [
              "      Sex  Survived\n",
              "0  female  0.740385\n",
              "1    male  0.188908"
            ]
          },
          "metadata": {
            "tags": []
          },
          "execution_count": 16
        }
      ]
    },
    {
      "cell_type": "code",
      "metadata": {
        "id": "pJme-wkl3t0w",
        "colab_type": "code",
        "outputId": "9094b6b6-7b6c-4859-eed6-59df2279e491",
        "colab": {
          "base_uri": "https://localhost:8080/",
          "height": 142
        }
      },
      "source": [
        "train_df[[\"Pclass\", \"Survived\"]].groupby(['Pclass'], as_index=False).mean().sort_values(by='Survived', ascending=False)"
      ],
      "execution_count": 0,
      "outputs": [
        {
          "output_type": "execute_result",
          "data": {
            "text/html": [
              "<div>\n",
              "<style scoped>\n",
              "    .dataframe tbody tr th:only-of-type {\n",
              "        vertical-align: middle;\n",
              "    }\n",
              "\n",
              "    .dataframe tbody tr th {\n",
              "        vertical-align: top;\n",
              "    }\n",
              "\n",
              "    .dataframe thead th {\n",
              "        text-align: right;\n",
              "    }\n",
              "</style>\n",
              "<table border=\"1\" class=\"dataframe\">\n",
              "  <thead>\n",
              "    <tr style=\"text-align: right;\">\n",
              "      <th></th>\n",
              "      <th>Pclass</th>\n",
              "      <th>Survived</th>\n",
              "    </tr>\n",
              "  </thead>\n",
              "  <tbody>\n",
              "    <tr>\n",
              "      <th>0</th>\n",
              "      <td>1</td>\n",
              "      <td>0.626168</td>\n",
              "    </tr>\n",
              "    <tr>\n",
              "      <th>1</th>\n",
              "      <td>2</td>\n",
              "      <td>0.472826</td>\n",
              "    </tr>\n",
              "    <tr>\n",
              "      <th>2</th>\n",
              "      <td>3</td>\n",
              "      <td>0.242363</td>\n",
              "    </tr>\n",
              "  </tbody>\n",
              "</table>\n",
              "</div>"
            ],
            "text/plain": [
              "   Pclass  Survived\n",
              "0       1  0.626168\n",
              "1       2  0.472826\n",
              "2       3  0.242363"
            ]
          },
          "metadata": {
            "tags": []
          },
          "execution_count": 17
        }
      ]
    },
    {
      "cell_type": "code",
      "metadata": {
        "id": "2wWcivX64Rcl",
        "colab_type": "code",
        "outputId": "edab42a2-13b0-462e-8d8f-41fe4c0b4a26",
        "colab": {
          "base_uri": "https://localhost:8080/",
          "height": 142
        }
      },
      "source": [
        "train_df[[\"Embarked\", \"Survived\"]].groupby(['Embarked'], as_index=False).mean().sort_values(by='Survived', ascending=False)"
      ],
      "execution_count": 0,
      "outputs": [
        {
          "output_type": "execute_result",
          "data": {
            "text/html": [
              "<div>\n",
              "<style scoped>\n",
              "    .dataframe tbody tr th:only-of-type {\n",
              "        vertical-align: middle;\n",
              "    }\n",
              "\n",
              "    .dataframe tbody tr th {\n",
              "        vertical-align: top;\n",
              "    }\n",
              "\n",
              "    .dataframe thead th {\n",
              "        text-align: right;\n",
              "    }\n",
              "</style>\n",
              "<table border=\"1\" class=\"dataframe\">\n",
              "  <thead>\n",
              "    <tr style=\"text-align: right;\">\n",
              "      <th></th>\n",
              "      <th>Embarked</th>\n",
              "      <th>Survived</th>\n",
              "    </tr>\n",
              "  </thead>\n",
              "  <tbody>\n",
              "    <tr>\n",
              "      <th>0</th>\n",
              "      <td>C</td>\n",
              "      <td>0.553571</td>\n",
              "    </tr>\n",
              "    <tr>\n",
              "      <th>1</th>\n",
              "      <td>Q</td>\n",
              "      <td>0.389610</td>\n",
              "    </tr>\n",
              "    <tr>\n",
              "      <th>2</th>\n",
              "      <td>S</td>\n",
              "      <td>0.336957</td>\n",
              "    </tr>\n",
              "  </tbody>\n",
              "</table>\n",
              "</div>"
            ],
            "text/plain": [
              "  Embarked  Survived\n",
              "0        C  0.553571\n",
              "1        Q  0.389610\n",
              "2        S  0.336957"
            ]
          },
          "metadata": {
            "tags": []
          },
          "execution_count": 18
        }
      ]
    },
    {
      "cell_type": "markdown",
      "metadata": {
        "id": "tjtk2MBPpsMn",
        "colab_type": "text"
      },
      "source": [
        "**Continuous Type**\n",
        "\n",
        "I could see that low `Fare` strongly correlates to died people."
      ]
    },
    {
      "cell_type": "code",
      "metadata": {
        "id": "3kaKp5uT7Rfi",
        "colab_type": "code",
        "outputId": "5cd0d190-9569-4908-fce7-f9fc91d02648",
        "colab": {
          "base_uri": "https://localhost:8080/",
          "height": 514
        }
      },
      "source": [
        "fig, ax = plt.subplots(figsize=(12,8))\n",
        "#mask = train_df.Survived == 1\n",
        "\n",
        "# ax = sns.distplot(train_df[mask].Fare, label ='survived')\n",
        "ax = sns.distplot(train_df.loc[train_df[\"Survived\"] == 1][\"Fare\"], label ='survived')\n",
        "ax = sns.distplot(train_df.loc[train_df[\"Survived\"] == 0][\"Fare\"], label ='died')\n",
        "ax.legend()"
      ],
      "execution_count": 0,
      "outputs": [
        {
          "output_type": "execute_result",
          "data": {
            "text/plain": [
              "<matplotlib.legend.Legend at 0x7fa34777bbe0>"
            ]
          },
          "metadata": {
            "tags": []
          },
          "execution_count": 19
        },
        {
          "output_type": "display_data",
          "data": {
            "image/png": "[encoded data removed]",
            "text/plain": [
              "<Figure size 864x576 with 1 Axes>"
            ]
          },
          "metadata": {
            "tags": [],
            "needs_background": "light"
          }
        }
      ]
    },
    {
      "cell_type": "markdown",
      "metadata": {
        "id": "n3LMor37iIK7",
        "colab_type": "text"
      },
      "source": [
        "## **Trade-off: privacy vs. utility**\n",
        "\n",
        "A **k-anonymized data** set has the property that each record is similar to at least another **k-1 other records** on the potentially identifying variables.\n",
        "\n",
        "The more specific definition can be found here.\n",
        "> El Emam, Khaled, and Fida Kamal Dankar. “Protecting privacy using k-anonymity.” Journal of the American Medical Informatics Association : JAMIA vol. 15,5 (2008): 627-37. [DOI](doi:10.1197/jamia.M2716)\n",
        "\n",
        "Higher values of *k* imply a lower probability reidentification.  \n",
        "But large *k* also means that data is more distorted, so there would be  greater information data loss, which results in low accuracy of prediction model and degrades the utility of data.  \n",
        "\n",
        "In short, there are trade-off relationship between privacy and utility.\n",
        "As the data gets harder to be reidentified (privacy level goes \"up\"), the data gets less useful (utility level goes \"down\").\n",
        "\n",
        "Therefore, it is important to find the proper *k*."
      ]
    },
    {
      "cell_type": "markdown",
      "metadata": {
        "id": "cZX45R8vF_gF",
        "colab_type": "text"
      },
      "source": [
        "I implemented anonymity measures of `k-anoanymity` and `l-diversity`, and `information loss`."
      ]
    },
    {
      "cell_type": "markdown",
      "metadata": {
        "id": "unKKlrex9kYE",
        "colab_type": "text"
      },
      "source": [
        "### Anonymity Measure (k-anonymity, l-diversity)\n"
      ]
    },
    {
      "cell_type": "code",
      "metadata": {
        "id": "KOibrITWROJK",
        "colab_type": "code",
        "colab": {}
      },
      "source": [
        "def get_k_anonymity(df, groupby):\n",
        "  size_group = df.groupby(groupby).size()\n",
        "  return min(size_group)"
      ],
      "execution_count": 0,
      "outputs": []
    },
    {
      "cell_type": "code",
      "metadata": {
        "id": "AdzED6-MywtR",
        "colab_type": "code",
        "colab": {}
      },
      "source": [
        "def get_l_diversity(df, groupby, sensitive):\n",
        "  unique_num = df_ex.groupby(groupby, as_index=False)[sensitive].transform('nunique').iloc[0, 0]\n",
        "  return unique_num"
      ],
      "execution_count": 0,
      "outputs": []
    },
    {
      "cell_type": "markdown",
      "metadata": {
        "id": "tCL5jy2Lb0QN",
        "colab_type": "text"
      },
      "source": [
        "### Information Loss\n",
        "\n",
        "I used the concept of the **information loss** [(from Cryptonumerics page)](https://docs.cryptonumerics.com/cn-protect-ds/?page=docs.cryptonumerics.com/cn-protect-ds-html/overview.html) and implemented as below.\n",
        "\n",
        "Information loss is a measure of the average amount of information removed by making the data more general. This metric is used to minimize the amount of generalization applied to the data, while satisfying the privacy constraints.\n",
        "\n",
        "As an example, suppose you have a dataset with age as a feature and entries: 23, 23, 43, 45, 34, 34, 58, 59. Now you want to apply k-anonymity with k=2, that is you want to have a minimum of 2 entries in each grouping. Age gets generalized to (20-30), (20-30), (40-50), (40-50), (30-40), (30-40), (50-60), (50-60) in order to satisfy the grouping of at least 2 entries in each group while attempting to minimize information loss. Information loss is calculated per entry as the new entry range divided by the range for the entire feature, (30-20)/(60-20) for the first entry. Then it is averaged over all entries, the resulting information loss would be 25%."
      ]
    },
    {
      "cell_type": "code",
      "metadata": {
        "id": "ek8F822rgbmw",
        "colab_type": "code",
        "colab": {}
      },
      "source": [
        "def getInformationLoss_interval(df, bins):\n",
        "  b_max = bins.max()\n",
        "  b_min = bins.min()\n",
        "  range_val = b_max - b_min\n",
        "  sum_val = 0\n",
        "  \n",
        "  for d in df: #d: pandas Interval\n",
        "    if type(d) == pd.Interval:\n",
        "      sum_val += (d.length / range_val)\n",
        "    elif type(d) == int:\n",
        "      sum_val += 0\n",
        "    else:\n",
        "      print(\"type error.\")\n",
        "    # print(re.search(r'\\d+\\.\\d+', d).group())\n",
        "    # sum_val += bin_dict[re.search(r'\\d+\\.\\d+', d).group()]  \n",
        "  \n",
        "  return round(sum_val/(len(df))*100,2)"
      ],
      "execution_count": 0,
      "outputs": []
    },
    {
      "cell_type": "code",
      "metadata": {
        "id": "suhHGsHJWGfJ",
        "colab_type": "code",
        "colab": {}
      },
      "source": [
        "def getDict(bins):\n",
        "  bin_dict = {}\n",
        "  \n",
        "  for prev, curr in zip(bins, bins[1:]):\n",
        "    if prev not in bin_dict:\n",
        "      bin_dict[prev] = round(curr - prev,2)\n",
        "\n",
        "  return bin_dict"
      ],
      "execution_count": 0,
      "outputs": []
    },
    {
      "cell_type": "code",
      "metadata": {
        "id": "RCQ7JBRTOOMU",
        "colab_type": "code",
        "colab": {}
      },
      "source": [
        "def getInformationLoss(df, col, bins):\n",
        "  range_val = df[col].max() - df[col].min()\n",
        "  sum_val = 0\n",
        "  \n",
        "  if range_val !=0:\n",
        "    for prev, curr in zip(bins, bins[1:]):\n",
        "      if curr > df[col].max():\n",
        "        curr = df[col].max()\n",
        "      if prev < df[col].min():\n",
        "        prev = df[col].min()\n",
        "      sum_val += (curr - prev)/range_val\n",
        "    sum_val = sum_val / (len(bins) - 1) #average\n",
        "  return round(sum_val*100, 2) #decimal 2 point"
      ],
      "execution_count": 0,
      "outputs": []
    },
    {
      "cell_type": "markdown",
      "metadata": {
        "id": "lBFRCNwl87jG",
        "colab_type": "text"
      },
      "source": [
        "## Anonymization Techniques"
      ]
    },
    {
      "cell_type": "markdown",
      "metadata": {
        "id": "o2IQtC3777tk",
        "colab_type": "text"
      },
      "source": [
        "### Suppression\n",
        "\n",
        "**Description**  \n",
        "Suppression refers to removal of data. The types of suppression are as follows.\n",
        "\n",
        "1. **Attribute suppression**: **column deletion** in a dataset (in databases and spreadsheets).\n",
        "2. **Record suppression**: **row deletion**. \n",
        "3. **Masking**: **partial deletion** (i.e., applied only to some characters in attributes); Character masking is the change of the characters of a data value, e.g., by using a constant symbol (e.g., “*” or “x”). \n",
        "\n",
        "**When to use**  \n",
        "Attribute suppression:    \n",
        "When an attribute is not required in the anonymised dataset, or when the attribute cannot otherwise be suitably anonymised with another technique.\n",
        "\n",
        "Record suppression:  \n",
        "To remove **outlier** records which are unique or do not meet other criteria such as k-anonymity, and not to keep in the anonymised dataset. Outliers can lead to easy re-identification. \n",
        "\n",
        "Masking:  \n",
        "When the data value is a string of characters and hiding part of it is sufficient to certain degree of anonymity required. Masking gives the benefit for retaining data as possible.\n",
        "\n",
        "**How to use**   \n",
        "Attribute suppression:   \n",
        "Delete (e.g. remove) the attribute(s), or if the structure of the dataset\n",
        "needs to be maintained, clear the data (and possibly the header). Note that the\n",
        "suppression should be actual removal (i.e., permanent), and not just ”hiding the\n",
        "column” . Similarly, ‘redacting’ may not be sufficient if the underlying data remains somewhat accessible.\n",
        "\n",
        "Record suppression:  \n",
        "Delete the entire record. Note that the suppression should be permanent, and not just a ‘”hide row”6 function; similarly, ‘redacting’ may not be sufficient if the underlying data remains accessible.\n",
        "\n",
        "Masking:  \n",
        "Depending on the nature of attribute, replace the appropriate characters with a chosen symbol. Depending on the attribute type, you may decide to replace a fixed number of characters (e.g., for credit card numbers), or a variable number of characters (e.g., for email address).\n",
        "\n",
        "**In Titanic Data**"
      ]
    },
    {
      "cell_type": "markdown",
      "metadata": {
        "id": "wvYZs5S1z5iZ",
        "colab_type": "text"
      },
      "source": [
        "#### Delete columns: \"PassengerId\", \"Ticket\" and \"Cabin\"\n",
        "\n",
        "* \"PassengerId\" is personal data, and it has unique values for every row. I delete this attribute.\n",
        "* \"Ticket\" does not seem to give useful insight for predicting the survival. \"Ticket\" is not directly related to personal data, but it has unique 681 records (out of 891 records). In this case, when joined/combined with other public and multiple resources, it is risky to reveal personal information. I decide to delete \"Ticket\" attribute.\n",
        "* I could find that the cabins starting with `C` and `B` have most number of survivals. But, in the cabin of `C`, there was also significant number of dying people. In the perspective of the survival ratio, the cabins of `D` and `E` have the highest rates.  \n",
        "\"Cabin\" has too many missing values (data existing 204 out of 891 records), so we delete this attribute.\n",
        "\n",
        "<!-- Removing outliers -->\n"
      ]
    },
    {
      "cell_type": "code",
      "metadata": {
        "id": "kpdImDDtkE_f",
        "colab_type": "code",
        "colab": {}
      },
      "source": [
        "df_cabin = train_df.loc[train_df[\"Cabin\"].notnull()].copy()\n",
        "df_cabin['Deck'] = [x[:1] for x in df_cabin['Cabin']]"
      ],
      "execution_count": 0,
      "outputs": []
    },
    {
      "cell_type": "code",
      "metadata": {
        "id": "Wx_8zu4AsTlJ",
        "colab_type": "code",
        "outputId": "5215ddd4-1c39-467e-da8e-c3146a3a559c",
        "colab": {
          "base_uri": "https://localhost:8080/",
          "height": 400
        }
      },
      "source": [
        "sns.catplot(y=\"Deck\", hue=\"Survived\", kind=\"count\",\n",
        "            palette=\"pastel\", edgecolor=\".6\",\n",
        "            data=df_cabin)\n"
      ],
      "execution_count": 0,
      "outputs": [
        {
          "output_type": "execute_result",
          "data": {
            "text/plain": [
              "<seaborn.axisgrid.FacetGrid at 0x7fa347474278>"
            ]
          },
          "metadata": {
            "tags": []
          },
          "execution_count": 26
        },
        {
          "output_type": "display_data",
          "data": {
            "image/png": "[encoded data removed]",
            "text/plain": [
              "<Figure size 411.875x360 with 1 Axes>"
            ]
          },
          "metadata": {
            "tags": [],
            "needs_background": "light"
          }
        }
      ]
    },
    {
      "cell_type": "code",
      "metadata": {
        "id": "TC6h_QnOpgL6",
        "colab_type": "code",
        "outputId": "d73a712b-c64a-4c69-8e92-a89e2e418d9d",
        "colab": {
          "base_uri": "https://localhost:8080/",
          "height": 297
        }
      },
      "source": [
        "df_cabin[[\"Deck\", \"Survived\"]].groupby(['Deck'], as_index=False).mean().sort_values(by='Survived', ascending=False)"
      ],
      "execution_count": 0,
      "outputs": [
        {
          "output_type": "execute_result",
          "data": {
            "text/html": [
              "<div>\n",
              "<style scoped>\n",
              "    .dataframe tbody tr th:only-of-type {\n",
              "        vertical-align: middle;\n",
              "    }\n",
              "\n",
              "    .dataframe tbody tr th {\n",
              "        vertical-align: top;\n",
              "    }\n",
              "\n",
              "    .dataframe thead th {\n",
              "        text-align: right;\n",
              "    }\n",
              "</style>\n",
              "<table border=\"1\" class=\"dataframe\">\n",
              "  <thead>\n",
              "    <tr style=\"text-align: right;\">\n",
              "      <th></th>\n",
              "      <th>Deck</th>\n",
              "      <th>Survived</th>\n",
              "    </tr>\n",
              "  </thead>\n",
              "  <tbody>\n",
              "    <tr>\n",
              "      <th>3</th>\n",
              "      <td>D</td>\n",
              "      <td>0.757576</td>\n",
              "    </tr>\n",
              "    <tr>\n",
              "      <th>4</th>\n",
              "      <td>E</td>\n",
              "      <td>0.750000</td>\n",
              "    </tr>\n",
              "    <tr>\n",
              "      <th>1</th>\n",
              "      <td>B</td>\n",
              "      <td>0.733333</td>\n",
              "    </tr>\n",
              "    <tr>\n",
              "      <th>5</th>\n",
              "      <td>F</td>\n",
              "      <td>0.615385</td>\n",
              "    </tr>\n",
              "    <tr>\n",
              "      <th>2</th>\n",
              "      <td>C</td>\n",
              "      <td>0.593220</td>\n",
              "    </tr>\n",
              "    <tr>\n",
              "      <th>6</th>\n",
              "      <td>G</td>\n",
              "      <td>0.500000</td>\n",
              "    </tr>\n",
              "    <tr>\n",
              "      <th>0</th>\n",
              "      <td>A</td>\n",
              "      <td>0.466667</td>\n",
              "    </tr>\n",
              "    <tr>\n",
              "      <th>7</th>\n",
              "      <td>T</td>\n",
              "      <td>0.000000</td>\n",
              "    </tr>\n",
              "  </tbody>\n",
              "</table>\n",
              "</div>"
            ],
            "text/plain": [
              "  Deck  Survived\n",
              "3    D  0.757576\n",
              "4    E  0.750000\n",
              "1    B  0.733333\n",
              "5    F  0.615385\n",
              "2    C  0.593220\n",
              "6    G  0.500000\n",
              "0    A  0.466667\n",
              "7    T  0.000000"
            ]
          },
          "metadata": {
            "tags": []
          },
          "execution_count": 27
        }
      ]
    },
    {
      "cell_type": "markdown",
      "metadata": {
        "id": "_T8ZQw2fPWVX",
        "colab_type": "text"
      },
      "source": [
        "Delete Columns [\"PassengerId\", \"Ticket\", \"Cabin\"]"
      ]
    },
    {
      "cell_type": "code",
      "metadata": {
        "id": "rPkO_2JoU3Ng",
        "colab_type": "code",
        "colab": {}
      },
      "source": [
        "train_df.drop(columns = [\"PassengerId\", \"Ticket\", \"Cabin\"], inplace=True) #the inplace parameter will change the dataframe without assignment"
      ],
      "execution_count": 0,
      "outputs": []
    },
    {
      "cell_type": "markdown",
      "metadata": {
        "id": "J4-97qog9VIG",
        "colab_type": "text"
      },
      "source": [
        "### Generalization: Bucketing\n",
        "\n",
        "**Description**  \n",
        "A deliberate reduction in the precision of data. \n",
        "\n",
        "1. Generalize the range of values:\n",
        "  - Example: Test scores\n",
        "    - 0-25: Low, 26-75: Medium, 76-100: High\n",
        "2. Generalize the strings or enumerated values:  \n",
        "  - Example: Job titles   \n",
        "    - \"university dean\", \"assistant/associate professor\" to \"educator\"\n",
        "    - \"senior/junior/distiguished engineer\" to \"engineer\"\n",
        "\n",
        "\n",
        "**When to use**  \n",
        "It is used for values that can be generalised and still be useful for the intended purpose.\n",
        "\n",
        "**How to use**  \n",
        "Design appropriate data categories and rules for translating data."
      ]
    },
    {
      "cell_type": "markdown",
      "metadata": {
        "id": "Qlnwg7NVGych",
        "colab_type": "text"
      },
      "source": [
        "**In Titanic Data**\n",
        "\n",
        "1. Generalize the range of values: \"Age\"\n",
        "2. Generalize the strings or enumerated values: \"Name\"\n",
        "3. Derive the new feature and generalize the range of values: \"Familysize\" = \"SibSp\" + \"Parch\""
      ]
    },
    {
      "cell_type": "markdown",
      "metadata": {
        "id": "XJV75X4Fjj30",
        "colab_type": "text"
      },
      "source": [
        "**Observations on Age**\n",
        "\n",
        "I provide age distribution and histogram on the counts of survived or not according to passengers' ages.\n",
        "\n",
        "* Infants (Age <=3) had high survival rate.\n",
        "* Large number of 15-25 year olds did not survive.\n",
        "* Most passengers are in 15-35 age range."
      ]
    },
    {
      "cell_type": "code",
      "metadata": {
        "id": "ILKmcWKxnibw",
        "colab_type": "code",
        "outputId": "a707ae9f-8cd3-4575-ce39-2f3ae9ba572f",
        "colab": {
          "base_uri": "https://localhost:8080/",
          "height": 514
        }
      },
      "source": [
        "###\n",
        "# #plots a bar graph of the age distribution\n",
        "# plt.figure(figsize=(8,4))\n",
        "# train_df[\"Age\"].plot(kind='kde', alpha=0.6, title='Age distribution', xlim=(-20, 80))\n",
        "# plt.tight_layout()\n",
        "# plt.show()\n",
        "###\n",
        "\n",
        "fig, ax = plt.subplots(figsize=(12,8))\n",
        "ax = sns.distplot(train_df.loc[train_df[\"Survived\"] == 1][\"Age\"], label ='survived')\n",
        "ax = sns.distplot(train_df.loc[train_df[\"Survived\"] == 0][\"Age\"], label ='died')\n",
        "ax.legend()"
      ],
      "execution_count": 0,
      "outputs": [
        {
          "output_type": "execute_result",
          "data": {
            "text/plain": [
              "<matplotlib.legend.Legend at 0x7fa3473cb160>"
            ]
          },
          "metadata": {
            "tags": []
          },
          "execution_count": 29
        },
        {
          "output_type": "display_data",
          "data": {
            "image/png": "[encoded data removed]",
            "text/plain": [
              "<Figure size 864x576 with 1 Axes>"
            ]
          },
          "metadata": {
            "tags": [],
            "needs_background": "light"
          }
        }
      ]
    },
    {
      "cell_type": "code",
      "metadata": {
        "id": "J5MtbueOGLqp",
        "colab_type": "code",
        "outputId": "453c870e-8d32-4a54-fd91-5024a25b097f",
        "colab": {
          "base_uri": "https://localhost:8080/",
          "height": 242
        }
      },
      "source": [
        "g = sns.FacetGrid(train_df, col='Survived')\n",
        "g.map(plt.hist, 'Age', bins=20)"
      ],
      "execution_count": 0,
      "outputs": [
        {
          "output_type": "execute_result",
          "data": {
            "text/plain": [
              "<seaborn.axisgrid.FacetGrid at 0x7fa3561fe3c8>"
            ]
          },
          "metadata": {
            "tags": []
          },
          "execution_count": 30
        },
        {
          "output_type": "display_data",
          "data": {
            "image/png": "[encoded data removed]",
            "text/plain": [
              "<Figure size 432x216 with 2 Axes>"
            ]
          },
          "metadata": {
            "tags": [],
            "needs_background": "light"
          }
        }
      ]
    },
    {
      "cell_type": "markdown",
      "metadata": {
        "id": "lyAQAHrnIafL",
        "colab_type": "text"
      },
      "source": [
        "#### Generalize the range of values: \"Age\" "
      ]
    },
    {
      "cell_type": "code",
      "metadata": {
        "id": "BFIuEi2oJenC",
        "colab_type": "code",
        "colab": {}
      },
      "source": [
        "# def getPrivacyAndInfoLoss(df, col, label, bins):\n",
        "#   k_anony_list = []\n",
        "#   label_list = []\n",
        "#   data_loss_list = []\n",
        "\n",
        "#   for c, l, b in zip(col, label, bins):\n",
        "#     k_anony_list.append(get_k_anonymity(df, [c]))\n",
        "#     label_list.append(l)\n",
        "#     data_loss_list.append(getInformationLoss_interval(df[c], b))\n",
        "\n",
        "#   result = pd.DataFrame(list(zip(label_list, k_anony_list, data_loss_list)), columns=['anonymization', 'k-anonymity', \"data_loss %\"])\n",
        "#   return result\n",
        "\n",
        "def getPrivacyAndInfoLoss(df, col, label, bins):\n",
        "  k_anony_list = []\n",
        "  data_loss_list = []\n",
        "\n",
        "  for c, b in zip(col, bins):\n",
        "    k_anony_list.append(get_k_anonymity(df, [c]))\n",
        "    data_loss_list.append(getInformationLoss_interval(df[c], b))\n",
        "\n",
        "  result = pd.DataFrame(list(zip(label, k_anony_list, data_loss_list)), columns=['anonymization', 'k-anonymity', \"data_loss %\"])\n",
        "  return result"
      ],
      "execution_count": 0,
      "outputs": []
    },
    {
      "cell_type": "code",
      "metadata": {
        "id": "IF1r_Q2j1waX",
        "colab_type": "code",
        "colab": {}
      },
      "source": [
        "def drawPrivacyAndInfoLoss(result, col):\n",
        "  plt.plot(result[\"k-anonymity\"], result[\"data_loss %\"])\n",
        "  plt.ylabel(\"data_loss %\")\n",
        "  plt.xlabel(\"k-anonymity\")\n",
        "  plt.title(col + \" Anonymization\")\n",
        "  plt.show()"
      ],
      "execution_count": 0,
      "outputs": []
    },
    {
      "cell_type": "markdown",
      "metadata": {
        "id": "3qqTIxsLr9GM",
        "colab_type": "text"
      },
      "source": [
        "**Auto Bucketing: Giving By Total Bin Number**"
      ]
    },
    {
      "cell_type": "markdown",
      "metadata": {
        "id": "s_vCY56QA3KL",
        "colab_type": "text"
      },
      "source": [
        "The \"Age\" columns have been generalized according to the various total number of bins (bins = 5, 10, 15, 20). "
      ]
    },
    {
      "cell_type": "code",
      "metadata": {
        "id": "ssS8puagRyui",
        "colab_type": "code",
        "colab": {}
      },
      "source": [
        "# bins nums\n",
        "train_df['Age_bin5'], res_bin5 = pd.cut(train_df['Age'], bins=5, right=True, retbins=True)\n",
        "train_df['Age_bin10'], res_bin10 = pd.cut(train_df['Age'], bins=10, right=True, retbins=True)\n",
        "train_df['Age_bin15'], res_bin15 = pd.cut(train_df['Age'], bins=15, right=True, retbins=True)\n",
        "train_df['Age_bin20'], res_bin20 = pd.cut(train_df['Age'], bins=20, right=True, retbins=True)"
      ],
      "execution_count": 0,
      "outputs": []
    },
    {
      "cell_type": "code",
      "metadata": {
        "id": "jDS6dX7Sgb8p",
        "colab_type": "code",
        "outputId": "e17a9dc4-3042-43cf-e4d7-065104f8e757",
        "colab": {
          "base_uri": "https://localhost:8080/",
          "height": 173
        }
      },
      "source": [
        "cols = ['Age_bin5', 'Age_bin10', 'Age_bin15', 'Age_bin20']\n",
        "labels = ['Age_bin5', 'Age_bin10', 'Age_bin15', 'Age_bin20']\n",
        "bins = [res_bin5, res_bin10, res_bin15, res_bin20]\n",
        "age_result = getPrivacyAndInfoLoss(train_df, cols, labels, bins)\n",
        "age_result.sort_values(by='data_loss %', ascending=True)"
      ],
      "execution_count": 0,
      "outputs": [
        {
          "output_type": "execute_result",
          "data": {
            "text/html": [
              "<div>\n",
              "<style scoped>\n",
              "    .dataframe tbody tr th:only-of-type {\n",
              "        vertical-align: middle;\n",
              "    }\n",
              "\n",
              "    .dataframe tbody tr th {\n",
              "        vertical-align: top;\n",
              "    }\n",
              "\n",
              "    .dataframe thead th {\n",
              "        text-align: right;\n",
              "    }\n",
              "</style>\n",
              "<table border=\"1\" class=\"dataframe\">\n",
              "  <thead>\n",
              "    <tr style=\"text-align: right;\">\n",
              "      <th></th>\n",
              "      <th>anonymization</th>\n",
              "      <th>k-anonymity</th>\n",
              "      <th>data_loss %</th>\n",
              "    </tr>\n",
              "  </thead>\n",
              "  <tbody>\n",
              "    <tr>\n",
              "      <th>3</th>\n",
              "      <td>Age_bin20</td>\n",
              "      <td>1</td>\n",
              "      <td>5.00</td>\n",
              "    </tr>\n",
              "    <tr>\n",
              "      <th>2</th>\n",
              "      <td>Age_bin15</td>\n",
              "      <td>1</td>\n",
              "      <td>6.67</td>\n",
              "    </tr>\n",
              "    <tr>\n",
              "      <th>1</th>\n",
              "      <td>Age_bin10</td>\n",
              "      <td>2</td>\n",
              "      <td>10.00</td>\n",
              "    </tr>\n",
              "    <tr>\n",
              "      <th>0</th>\n",
              "      <td>Age_bin5</td>\n",
              "      <td>11</td>\n",
              "      <td>19.99</td>\n",
              "    </tr>\n",
              "  </tbody>\n",
              "</table>\n",
              "</div>"
            ],
            "text/plain": [
              "  anonymization  k-anonymity  data_loss %\n",
              "3     Age_bin20            1         5.00\n",
              "2     Age_bin15            1         6.67\n",
              "1     Age_bin10            2        10.00\n",
              "0      Age_bin5           11        19.99"
            ]
          },
          "metadata": {
            "tags": []
          },
          "execution_count": 34
        }
      ]
    },
    {
      "cell_type": "code",
      "metadata": {
        "id": "CVFrIIJe2IFR",
        "colab_type": "code",
        "outputId": "136f4f06-1255-4631-98cb-2e5adc235d63",
        "colab": {
          "base_uri": "https://localhost:8080/",
          "height": 312
        }
      },
      "source": [
        "#drawPrivacyAndInfoLoss(result, \"Age\")\n",
        "ax = sns.regplot(x=\"k-anonymity\", y=\"data_loss %\", data=age_result,\n",
        "                 x_estimator=np.mean, logx=True)\n",
        "ax.set_title(\"Age Anonymization\")"
      ],
      "execution_count": 0,
      "outputs": [
        {
          "output_type": "execute_result",
          "data": {
            "text/plain": [
              "Text(0.5, 1.0, 'Age Anonymization')"
            ]
          },
          "metadata": {
            "tags": []
          },
          "execution_count": 35
        },
        {
          "output_type": "display_data",
          "data": {
            "image/png": "[encoded data removed]",
            "text/plain": [
              "<Figure size 432x288 with 1 Axes>"
            ]
          },
          "metadata": {
            "tags": [],
            "needs_background": "light"
          }
        }
      ]
    },
    {
      "cell_type": "markdown",
      "metadata": {
        "id": "6jTAS-pItQNS",
        "colab_type": "text"
      },
      "source": [
        "**Auto Bucketing Anonymization Results**:\n",
        "\n",
        "Please not that the small number of total number of bins indicates that each bin size gets bigger and more coarse grained data is retained. \n",
        "On the other hand, as the total number of bins increases, each bin size gets smaller and more fine grained data is retained.\n",
        "\n",
        "I could observe the as the **total number of bins decreases (each bin gets larger and more coarse)**, the percent of data loss increases (in other hand, **accuracy decreases**) while the k-anonymity measure increases as there are more same records (**privacy increases**). \n",
        "\n",
        "When the total number of bins is 5, we get the k-anonymity of 11 and the data loss of 19.99%, which seems reasonable level of the anonymization."
      ]
    },
    {
      "cell_type": "markdown",
      "metadata": {
        "id": "Ddq5nu89p-fk",
        "colab_type": "text"
      },
      "source": [
        "The range of (0.34, 16.336] when the number of bins 5 represents the 0.55 survived rate."
      ]
    },
    {
      "cell_type": "code",
      "metadata": {
        "id": "7mb5q3JqYBNO",
        "colab_type": "code",
        "outputId": "dedd959b-10b3-404f-9ae1-9d66124a2667",
        "colab": {
          "base_uri": "https://localhost:8080/",
          "height": 204
        }
      },
      "source": [
        "train_df[[\"Age_bin5\", \"Survived\"]].groupby(['Age_bin5'], as_index=False).mean().sort_values(by='Survived', ascending=False)"
      ],
      "execution_count": 0,
      "outputs": [
        {
          "output_type": "execute_result",
          "data": {
            "text/html": [
              "<div>\n",
              "<style scoped>\n",
              "    .dataframe tbody tr th:only-of-type {\n",
              "        vertical-align: middle;\n",
              "    }\n",
              "\n",
              "    .dataframe tbody tr th {\n",
              "        vertical-align: top;\n",
              "    }\n",
              "\n",
              "    .dataframe thead th {\n",
              "        text-align: right;\n",
              "    }\n",
              "</style>\n",
              "<table border=\"1\" class=\"dataframe\">\n",
              "  <thead>\n",
              "    <tr style=\"text-align: right;\">\n",
              "      <th></th>\n",
              "      <th>Age_bin5</th>\n",
              "      <th>Survived</th>\n",
              "    </tr>\n",
              "  </thead>\n",
              "  <tbody>\n",
              "    <tr>\n",
              "      <th>0</th>\n",
              "      <td>(0.34, 16.336]</td>\n",
              "      <td>0.550000</td>\n",
              "    </tr>\n",
              "    <tr>\n",
              "      <th>3</th>\n",
              "      <td>(48.168, 64.084]</td>\n",
              "      <td>0.426471</td>\n",
              "    </tr>\n",
              "    <tr>\n",
              "      <th>2</th>\n",
              "      <td>(32.252, 48.168]</td>\n",
              "      <td>0.410138</td>\n",
              "    </tr>\n",
              "    <tr>\n",
              "      <th>1</th>\n",
              "      <td>(16.336, 32.252]</td>\n",
              "      <td>0.336714</td>\n",
              "    </tr>\n",
              "    <tr>\n",
              "      <th>4</th>\n",
              "      <td>(64.084, 80.0]</td>\n",
              "      <td>0.090909</td>\n",
              "    </tr>\n",
              "  </tbody>\n",
              "</table>\n",
              "</div>"
            ],
            "text/plain": [
              "           Age_bin5  Survived\n",
              "0    (0.34, 16.336]  0.550000\n",
              "3  (48.168, 64.084]  0.426471\n",
              "2  (32.252, 48.168]  0.410138\n",
              "1  (16.336, 32.252]  0.336714\n",
              "4    (64.084, 80.0]  0.090909"
            ]
          },
          "metadata": {
            "tags": []
          },
          "execution_count": 36
        }
      ]
    },
    {
      "cell_type": "markdown",
      "metadata": {
        "id": "51GSVSH-qbJF",
        "colab_type": "text"
      },
      "source": [
        "The range of (76.021, 80.0] when the number of bins 20 represents the 1 survaval rate. However, in this case, **the k-anonymity is 1, so this anonymization must not be used.**\n",
        "This means that there is only one person whose age is range from 76.021 to 80.0. The age in this range reveals personal identity which compromises privacy."
      ]
    },
    {
      "cell_type": "code",
      "metadata": {
        "id": "42nxf2NIAtZb",
        "colab_type": "code",
        "outputId": "b294864e-6f44-4678-8712-82cea8880c3d",
        "colab": {
          "base_uri": "https://localhost:8080/",
          "height": 669
        }
      },
      "source": [
        "train_df[[\"Age_bin20\", \"Survived\"]].groupby(['Age_bin20'], as_index=False).mean().sort_values(by='Survived', ascending=False)"
      ],
      "execution_count": 0,
      "outputs": [
        {
          "output_type": "execute_result",
          "data": {
            "text/html": [
              "<div>\n",
              "<style scoped>\n",
              "    .dataframe tbody tr th:only-of-type {\n",
              "        vertical-align: middle;\n",
              "    }\n",
              "\n",
              "    .dataframe tbody tr th {\n",
              "        vertical-align: top;\n",
              "    }\n",
              "\n",
              "    .dataframe thead th {\n",
              "        text-align: right;\n",
              "    }\n",
              "</style>\n",
              "<table border=\"1\" class=\"dataframe\">\n",
              "  <thead>\n",
              "    <tr style=\"text-align: right;\">\n",
              "      <th></th>\n",
              "      <th>Age_bin20</th>\n",
              "      <th>Survived</th>\n",
              "    </tr>\n",
              "  </thead>\n",
              "  <tbody>\n",
              "    <tr>\n",
              "      <th>19</th>\n",
              "      <td>(76.021, 80.0]</td>\n",
              "      <td>1.000000</td>\n",
              "    </tr>\n",
              "    <tr>\n",
              "      <th>0</th>\n",
              "      <td>(0.34, 4.399]</td>\n",
              "      <td>0.675000</td>\n",
              "    </tr>\n",
              "    <tr>\n",
              "      <th>1</th>\n",
              "      <td>(4.399, 8.378]</td>\n",
              "      <td>0.642857</td>\n",
              "    </tr>\n",
              "    <tr>\n",
              "      <th>3</th>\n",
              "      <td>(12.357, 16.336]</td>\n",
              "      <td>0.483871</td>\n",
              "    </tr>\n",
              "    <tr>\n",
              "      <th>12</th>\n",
              "      <td>(48.168, 52.147]</td>\n",
              "      <td>0.482759</td>\n",
              "    </tr>\n",
              "    <tr>\n",
              "      <th>8</th>\n",
              "      <td>(32.252, 36.231]</td>\n",
              "      <td>0.479452</td>\n",
              "    </tr>\n",
              "    <tr>\n",
              "      <th>13</th>\n",
              "      <td>(52.147, 56.126]</td>\n",
              "      <td>0.437500</td>\n",
              "    </tr>\n",
              "    <tr>\n",
              "      <th>7</th>\n",
              "      <td>(28.273, 32.252]</td>\n",
              "      <td>0.410526</td>\n",
              "    </tr>\n",
              "    <tr>\n",
              "      <th>9</th>\n",
              "      <td>(36.231, 40.21]</td>\n",
              "      <td>0.405405</td>\n",
              "    </tr>\n",
              "    <tr>\n",
              "      <th>14</th>\n",
              "      <td>(56.126, 60.105]</td>\n",
              "      <td>0.384615</td>\n",
              "    </tr>\n",
              "    <tr>\n",
              "      <th>6</th>\n",
              "      <td>(24.294, 28.273]</td>\n",
              "      <td>0.352941</td>\n",
              "    </tr>\n",
              "    <tr>\n",
              "      <th>11</th>\n",
              "      <td>(44.189, 48.168]</td>\n",
              "      <td>0.342857</td>\n",
              "    </tr>\n",
              "    <tr>\n",
              "      <th>10</th>\n",
              "      <td>(40.21, 44.189]</td>\n",
              "      <td>0.342857</td>\n",
              "    </tr>\n",
              "    <tr>\n",
              "      <th>4</th>\n",
              "      <td>(16.336, 20.315]</td>\n",
              "      <td>0.341772</td>\n",
              "    </tr>\n",
              "    <tr>\n",
              "      <th>15</th>\n",
              "      <td>(60.105, 64.084]</td>\n",
              "      <td>0.300000</td>\n",
              "    </tr>\n",
              "    <tr>\n",
              "      <th>5</th>\n",
              "      <td>(20.315, 24.294]</td>\n",
              "      <td>0.299145</td>\n",
              "    </tr>\n",
              "    <tr>\n",
              "      <th>2</th>\n",
              "      <td>(8.378, 12.357]</td>\n",
              "      <td>0.266667</td>\n",
              "    </tr>\n",
              "    <tr>\n",
              "      <th>16</th>\n",
              "      <td>(64.084, 68.063]</td>\n",
              "      <td>0.000000</td>\n",
              "    </tr>\n",
              "    <tr>\n",
              "      <th>17</th>\n",
              "      <td>(68.063, 72.042]</td>\n",
              "      <td>0.000000</td>\n",
              "    </tr>\n",
              "    <tr>\n",
              "      <th>18</th>\n",
              "      <td>(72.042, 76.021]</td>\n",
              "      <td>0.000000</td>\n",
              "    </tr>\n",
              "  </tbody>\n",
              "</table>\n",
              "</div>"
            ],
            "text/plain": [
              "           Age_bin20  Survived\n",
              "19    (76.021, 80.0]  1.000000\n",
              "0      (0.34, 4.399]  0.675000\n",
              "1     (4.399, 8.378]  0.642857\n",
              "3   (12.357, 16.336]  0.483871\n",
              "12  (48.168, 52.147]  0.482759\n",
              "8   (32.252, 36.231]  0.479452\n",
              "13  (52.147, 56.126]  0.437500\n",
              "7   (28.273, 32.252]  0.410526\n",
              "9    (36.231, 40.21]  0.405405\n",
              "14  (56.126, 60.105]  0.384615\n",
              "6   (24.294, 28.273]  0.352941\n",
              "11  (44.189, 48.168]  0.342857\n",
              "10   (40.21, 44.189]  0.342857\n",
              "4   (16.336, 20.315]  0.341772\n",
              "15  (60.105, 64.084]  0.300000\n",
              "5   (20.315, 24.294]  0.299145\n",
              "2    (8.378, 12.357]  0.266667\n",
              "16  (64.084, 68.063]  0.000000\n",
              "17  (68.063, 72.042]  0.000000\n",
              "18  (72.042, 76.021]  0.000000"
            ]
          },
          "metadata": {
            "tags": []
          },
          "execution_count": 37
        }
      ]
    },
    {
      "cell_type": "markdown",
      "metadata": {
        "id": "HxhXxeJPdBTV",
        "colab_type": "text"
      },
      "source": [
        "**Manual Bucketing**\n",
        "\n",
        "By referring the age distribution, I categorize the age groups manually (number of bins = 1, 5, and 8).\n",
        "\n",
        "To see the extreme case, I made the one bin, and it apparently shows that k-anonymity of 889 (i.e., an age has 889 records which are the entire records of a dataset) and the loss of data is 100%.\n",
        "\n",
        "When the number of bins is 5, we set the specific age ranges into age groups. We made two groups where only infant age ranges are different:\n",
        "* Infant: 0\\~4 (`Age_man_bin5`) | 0\\~1 (`Age_man_bin5_v2`)\n",
        "* Kid_Teen: 5\\~20\n",
        "* Young Adult: 21\\~34\n",
        "* Middle-Aged Adult: 35\\~55\n",
        "* Senior: 56\\~80.  \n",
        "It is good to substitute the range of age into the age category because we can hide the specific and anonymize age.\n",
        "\n",
        "To see the effect of the more fine grained level of age group, we also use the number of bins of 8.\n"
      ]
    },
    {
      "cell_type": "code",
      "metadata": {
        "id": "R6gGu0K-slX1",
        "colab_type": "code",
        "colab": {}
      },
      "source": [
        "## manual bins\n",
        "# extreme case\n",
        "bins_man_bin1= [-1, 80]\n",
        "labels_man_bin1 = ['One']\n",
        "\n",
        "bins_man_bin5= [-1, 4, 20, 34, 55, 80]\n",
        "labels_man_bin5 = ['Infant', 'Kid_Teen', 'Young_Adult', 'Middle_Aged_Adult', 'Senior']\n",
        "\n",
        "bins_man_bin5_v2= [-1, 1, 20, 34, 55, 80]\n",
        "\n",
        "bins_man_bin8= [-1, 1, 12, 20, 30, 40, 50, 60, 80]\n",
        "labels_man_bin8 = ['0-1', '2-12', '13-20', '21-30', '31-40', '41-50', '51-60', '60>']\n",
        "\n",
        "train_df['Age_man_bin1'], res_man_bin1 = pd.cut(train_df['Age'], bins=bins_man_bin1, right=True, retbins=True) #right = True: default\n",
        "train_df['Age_man_bin1_cat'] = pd.cut(train_df['Age'], bins=bins_man_bin1, labels=labels_man_bin1, right=True) \n",
        "\n",
        "train_df['Age_man_bin5'], res_man_bin5 = pd.cut(train_df['Age'], bins=bins_man_bin5, right=True, retbins=True) \n",
        "train_df['Age_man_bin5_cat'] = pd.cut(train_df['Age'], bins=bins_man_bin5, labels=labels_man_bin5, right=True) \n",
        "\n",
        "train_df['Age_man_bin5_v2'], res_man_bin5_v2 = pd.cut(train_df['Age'], bins=bins_man_bin5_v2, right=True, retbins=True) \n",
        "train_df['Age_man_bin5_v2_cat'] = pd.cut(train_df['Age'], bins=bins_man_bin5_v2, labels=labels_man_bin5, right=True) \n",
        "\n",
        "train_df['Age_man_bin8'], res_man_bin8 = pd.cut(train_df['Age'], bins=bins_man_bin8, right=True, retbins=True) \n",
        "train_df['Age_man_bin8_cat'] = pd.cut(train_df['Age'], bins=bins_man_bin8, labels=labels_man_bin8, right=True) "
      ],
      "execution_count": 0,
      "outputs": []
    },
    {
      "cell_type": "code",
      "metadata": {
        "id": "LueSiGTgBeQP",
        "colab_type": "code",
        "outputId": "82d875b5-ffd0-48b1-bae3-4ae240b3a372",
        "colab": {
          "base_uri": "https://localhost:8080/",
          "height": 173
        }
      },
      "source": [
        "cols = ['Age_man_bin1', 'Age_man_bin5', 'Age_man_bin5_v2', 'Age_man_bin8']\n",
        "labels = [\"Age_man_bin1\", \"Age_man_bin5\", 'Age_man_bin5_v2', \"Age_man_bin8\"]\n",
        "bins = [res_man_bin1, res_man_bin5,res_man_bin5_v2, res_man_bin8]\n",
        "age_man_result = getPrivacyAndInfoLoss(train_df, cols, labels, bins)\n",
        "age_man_result[\"category\"] = [labels_man_bin1, labels_man_bin5, labels_man_bin5, labels_man_bin8]\n",
        "age_man_result[\"bin range (,]\"] = [res_man_bin1, res_man_bin5, res_man_bin5_v2, res_man_bin8]\n",
        "age_man_result"
      ],
      "execution_count": 0,
      "outputs": [
        {
          "output_type": "execute_result",
          "data": {
            "text/html": [
              "<div>\n",
              "<style scoped>\n",
              "    .dataframe tbody tr th:only-of-type {\n",
              "        vertical-align: middle;\n",
              "    }\n",
              "\n",
              "    .dataframe tbody tr th {\n",
              "        vertical-align: top;\n",
              "    }\n",
              "\n",
              "    .dataframe thead th {\n",
              "        text-align: right;\n",
              "    }\n",
              "</style>\n",
              "<table border=\"1\" class=\"dataframe\">\n",
              "  <thead>\n",
              "    <tr style=\"text-align: right;\">\n",
              "      <th></th>\n",
              "      <th>anonymization</th>\n",
              "      <th>k-anonymity</th>\n",
              "      <th>data_loss %</th>\n",
              "      <th>category</th>\n",
              "      <th>bin range (,]</th>\n",
              "    </tr>\n",
              "  </thead>\n",
              "  <tbody>\n",
              "    <tr>\n",
              "      <th>0</th>\n",
              "      <td>Age_man_bin1</td>\n",
              "      <td>889</td>\n",
              "      <td>100.00</td>\n",
              "      <td>[One]</td>\n",
              "      <td>[-1, 80]</td>\n",
              "    </tr>\n",
              "    <tr>\n",
              "      <th>1</th>\n",
              "      <td>Age_man_bin5</td>\n",
              "      <td>39</td>\n",
              "      <td>19.95</td>\n",
              "      <td>[Infant, Kid_Teen, Young_Adult, Middel_Aged_Ad...</td>\n",
              "      <td>[-1, 4, 20, 34, 55, 80]</td>\n",
              "    </tr>\n",
              "    <tr>\n",
              "      <th>2</th>\n",
              "      <td>Age_man_bin5_v2</td>\n",
              "      <td>14</td>\n",
              "      <td>20.98</td>\n",
              "      <td>[Infant, Kid_Teen, Young_Adult, Middel_Aged_Ad...</td>\n",
              "      <td>[-1, 1, 20, 34, 55, 80]</td>\n",
              "    </tr>\n",
              "    <tr>\n",
              "      <th>3</th>\n",
              "      <td>Age_man_bin8</td>\n",
              "      <td>14</td>\n",
              "      <td>12.25</td>\n",
              "      <td>[0-1, 2-12, 13-20, 21-30, 31-40, 41-50, 51-60,...</td>\n",
              "      <td>[-1, 1, 12, 20, 30, 40, 50, 60, 80]</td>\n",
              "    </tr>\n",
              "  </tbody>\n",
              "</table>\n",
              "</div>"
            ],
            "text/plain": [
              "     anonymization  ...                        bin range (,]\n",
              "0     Age_man_bin1  ...                             [-1, 80]\n",
              "1     Age_man_bin5  ...              [-1, 4, 20, 34, 55, 80]\n",
              "2  Age_man_bin5_v2  ...              [-1, 1, 20, 34, 55, 80]\n",
              "3     Age_man_bin8  ...  [-1, 1, 12, 20, 30, 40, 50, 60, 80]\n",
              "\n",
              "[4 rows x 5 columns]"
            ]
          },
          "metadata": {
            "tags": []
          },
          "execution_count": 39
        }
      ]
    },
    {
      "cell_type": "code",
      "metadata": {
        "id": "69HSGkpeeEbH",
        "colab_type": "code",
        "outputId": "61c5b1e5-7833-452c-93df-123fbd1381a4",
        "colab": {
          "base_uri": "https://localhost:8080/",
          "height": 312
        }
      },
      "source": [
        "ax = sns.regplot(x=\"k-anonymity\", y=\"data_loss %\", data=age_man_result,\n",
        "                 x_estimator=np.mean, logx=True)\n",
        "ax.set_title(\"Age Anonymization\")"
      ],
      "execution_count": 0,
      "outputs": [
        {
          "output_type": "execute_result",
          "data": {
            "text/plain": [
              "Text(0.5, 1.0, 'Age Anonymization')"
            ]
          },
          "metadata": {
            "tags": []
          },
          "execution_count": 40
        },
        {
          "output_type": "display_data",
          "data": {
            "image/png": "[encoded data removed]",
            "text/plain": [
              "<Figure size 432x288 with 1 Axes>"
            ]
          },
          "metadata": {
            "tags": [],
            "needs_background": "light"
          }
        }
      ]
    },
    {
      "cell_type": "markdown",
      "metadata": {
        "id": "Ec3x4MxeBhJE",
        "colab_type": "text"
      },
      "source": [
        "**Manual Bucketing Anonymization Result**:\n",
        "\n",
        "* `Age_man_bin5` and `Age_bin5`:  \n",
        "When compared to the auto bucketing of the number of 5 (`Age_bin5`), which has the k-anonymity of 11 and data loss of 19.99%, the manual bucketing of the number of 5 (`Age_man_bin5`) has larger k-anonymity of 39 and more less data loss of 19.95%. **This manual bucketing indicates stronger privacy and higher (or similar level of) utility of data.** \n",
        "\n",
        "* `Age_man_bin5` and `Age_man_bin5_v2`:  \n",
        "When adjusting the first bucket of age (i.e., infant: (-1, 4] (`Age_man_bin5`) --> (-1, 1] (`Age_man_bin5_v2`)),\n",
        "the age group of (-1, 1] becomes the significant feature by relating to the high survived rate (0.857143). This attribute can be an important indicator when building prediction model for survivals. However, the k-anonymity is decreased to 14, and data loss slightly increased to 20.98%.\n",
        "\n",
        "* `Age_man_bin5` and  `Age_man_bin8`:  \n",
        "When using the `Age_man_bin8` bins, the data loss decreased to 12.25% and the k-anonymity is 14, while retaining the infant age range (-1, 1] indicating the high survived rate (0.857143). \n",
        "\n",
        "* **Conclusion**:  \n",
        "The anonymization level has to be controlled by the privacy policy/goal/situation.\n",
        "  * If we need sufficient high number of k-anonymity, we need to sacrifice data loss.\n",
        "  * If we need minimum loss of data, we may get low number of k-anonymity.  \n",
        "\n",
        "  Let's say we will anonymize data as following condition: k-anonymity > 10 and data_loss < 20%. The satisfying anonymizations are `Age_man_bin5` and `Age_man_bin8`. Since the infant (age 0~1) has high correlation with the `Survived` in `Age_man_bin8`, we choose this attribute as the representative of the \"Age\". \n"
      ]
    },
    {
      "cell_type": "code",
      "metadata": {
        "id": "h9etrZVKloYV",
        "colab_type": "code",
        "outputId": "ebbc8408-7157-4698-c663-962de19c8844",
        "colab": {
          "base_uri": "https://localhost:8080/",
          "height": 204
        }
      },
      "source": [
        "train_df[[\"Age_man_bin5\", \"Survived\"]].groupby(['Age_man_bin5'], as_index=False).mean().sort_values(by='Survived', ascending=False)"
      ],
      "execution_count": 0,
      "outputs": [
        {
          "output_type": "execute_result",
          "data": {
            "text/html": [
              "<div>\n",
              "<style scoped>\n",
              "    .dataframe tbody tr th:only-of-type {\n",
              "        vertical-align: middle;\n",
              "    }\n",
              "\n",
              "    .dataframe tbody tr th {\n",
              "        vertical-align: top;\n",
              "    }\n",
              "\n",
              "    .dataframe thead th {\n",
              "        text-align: right;\n",
              "    }\n",
              "</style>\n",
              "<table border=\"1\" class=\"dataframe\">\n",
              "  <thead>\n",
              "    <tr style=\"text-align: right;\">\n",
              "      <th></th>\n",
              "      <th>Age_man_bin5</th>\n",
              "      <th>Survived</th>\n",
              "    </tr>\n",
              "  </thead>\n",
              "  <tbody>\n",
              "    <tr>\n",
              "      <th>0</th>\n",
              "      <td>(-1, 4]</td>\n",
              "      <td>0.675000</td>\n",
              "    </tr>\n",
              "    <tr>\n",
              "      <th>3</th>\n",
              "      <td>(34, 55]</td>\n",
              "      <td>0.422222</td>\n",
              "    </tr>\n",
              "    <tr>\n",
              "      <th>1</th>\n",
              "      <td>(4, 20]</td>\n",
              "      <td>0.395683</td>\n",
              "    </tr>\n",
              "    <tr>\n",
              "      <th>2</th>\n",
              "      <td>(20, 34]</td>\n",
              "      <td>0.340807</td>\n",
              "    </tr>\n",
              "    <tr>\n",
              "      <th>4</th>\n",
              "      <td>(55, 80]</td>\n",
              "      <td>0.282051</td>\n",
              "    </tr>\n",
              "  </tbody>\n",
              "</table>\n",
              "</div>"
            ],
            "text/plain": [
              "  Age_man_bin5  Survived\n",
              "0      (-1, 4]  0.675000\n",
              "3     (34, 55]  0.422222\n",
              "1      (4, 20]  0.395683\n",
              "2     (20, 34]  0.340807\n",
              "4     (55, 80]  0.282051"
            ]
          },
          "metadata": {
            "tags": []
          },
          "execution_count": 41
        }
      ]
    },
    {
      "cell_type": "markdown",
      "metadata": {
        "id": "SRRN9KX1AADx",
        "colab_type": "text"
      },
      "source": [
        "Infant age range (-1, 1] represents the high survived rate (0.857143)."
      ]
    },
    {
      "cell_type": "code",
      "metadata": {
        "id": "DE47xzdeWFV8",
        "colab_type": "code",
        "outputId": "0af0cd52-f0d5-4eb5-8912-6747636b5c01",
        "colab": {
          "base_uri": "https://localhost:8080/",
          "height": 204
        }
      },
      "source": [
        "train_df[[\"Age_man_bin5_v2\", \"Survived\"]].groupby(['Age_man_bin5_v2'], as_index=False).mean().sort_values(by='Survived', ascending=False)"
      ],
      "execution_count": 0,
      "outputs": [
        {
          "output_type": "execute_result",
          "data": {
            "text/html": [
              "<div>\n",
              "<style scoped>\n",
              "    .dataframe tbody tr th:only-of-type {\n",
              "        vertical-align: middle;\n",
              "    }\n",
              "\n",
              "    .dataframe tbody tr th {\n",
              "        vertical-align: top;\n",
              "    }\n",
              "\n",
              "    .dataframe thead th {\n",
              "        text-align: right;\n",
              "    }\n",
              "</style>\n",
              "<table border=\"1\" class=\"dataframe\">\n",
              "  <thead>\n",
              "    <tr style=\"text-align: right;\">\n",
              "      <th></th>\n",
              "      <th>Age_man_bin5_v2</th>\n",
              "      <th>Survived</th>\n",
              "    </tr>\n",
              "  </thead>\n",
              "  <tbody>\n",
              "    <tr>\n",
              "      <th>0</th>\n",
              "      <td>(-1, 1]</td>\n",
              "      <td>0.857143</td>\n",
              "    </tr>\n",
              "    <tr>\n",
              "      <th>1</th>\n",
              "      <td>(1, 20]</td>\n",
              "      <td>0.424242</td>\n",
              "    </tr>\n",
              "    <tr>\n",
              "      <th>3</th>\n",
              "      <td>(34, 55]</td>\n",
              "      <td>0.422222</td>\n",
              "    </tr>\n",
              "    <tr>\n",
              "      <th>2</th>\n",
              "      <td>(20, 34]</td>\n",
              "      <td>0.340807</td>\n",
              "    </tr>\n",
              "    <tr>\n",
              "      <th>4</th>\n",
              "      <td>(55, 80]</td>\n",
              "      <td>0.282051</td>\n",
              "    </tr>\n",
              "  </tbody>\n",
              "</table>\n",
              "</div>"
            ],
            "text/plain": [
              "  Age_man_bin5_v2  Survived\n",
              "0         (-1, 1]  0.857143\n",
              "1         (1, 20]  0.424242\n",
              "3        (34, 55]  0.422222\n",
              "2        (20, 34]  0.340807\n",
              "4        (55, 80]  0.282051"
            ]
          },
          "metadata": {
            "tags": []
          },
          "execution_count": 42
        }
      ]
    },
    {
      "cell_type": "code",
      "metadata": {
        "id": "uJpm2qHWb-Lt",
        "colab_type": "code",
        "outputId": "5241bff9-5de9-448c-f498-7180bb3e1c79",
        "colab": {
          "base_uri": "https://localhost:8080/",
          "height": 297
        }
      },
      "source": [
        "train_df[[\"Age_man_bin8\", \"Survived\"]].groupby(['Age_man_bin8'], as_index=False).mean().sort_values(by='Survived', ascending=False)"
      ],
      "execution_count": 0,
      "outputs": [
        {
          "output_type": "execute_result",
          "data": {
            "text/html": [
              "<div>\n",
              "<style scoped>\n",
              "    .dataframe tbody tr th:only-of-type {\n",
              "        vertical-align: middle;\n",
              "    }\n",
              "\n",
              "    .dataframe tbody tr th {\n",
              "        vertical-align: top;\n",
              "    }\n",
              "\n",
              "    .dataframe thead th {\n",
              "        text-align: right;\n",
              "    }\n",
              "</style>\n",
              "<table border=\"1\" class=\"dataframe\">\n",
              "  <thead>\n",
              "    <tr style=\"text-align: right;\">\n",
              "      <th></th>\n",
              "      <th>Age_man_bin8</th>\n",
              "      <th>Survived</th>\n",
              "    </tr>\n",
              "  </thead>\n",
              "  <tbody>\n",
              "    <tr>\n",
              "      <th>0</th>\n",
              "      <td>(-1, 1]</td>\n",
              "      <td>0.857143</td>\n",
              "    </tr>\n",
              "    <tr>\n",
              "      <th>1</th>\n",
              "      <td>(1, 12]</td>\n",
              "      <td>0.509091</td>\n",
              "    </tr>\n",
              "    <tr>\n",
              "      <th>4</th>\n",
              "      <td>(30, 40]</td>\n",
              "      <td>0.445652</td>\n",
              "    </tr>\n",
              "    <tr>\n",
              "      <th>6</th>\n",
              "      <td>(50, 60]</td>\n",
              "      <td>0.404762</td>\n",
              "    </tr>\n",
              "    <tr>\n",
              "      <th>5</th>\n",
              "      <td>(40, 50]</td>\n",
              "      <td>0.383721</td>\n",
              "    </tr>\n",
              "    <tr>\n",
              "      <th>2</th>\n",
              "      <td>(12, 20]</td>\n",
              "      <td>0.381818</td>\n",
              "    </tr>\n",
              "    <tr>\n",
              "      <th>3</th>\n",
              "      <td>(20, 30]</td>\n",
              "      <td>0.323607</td>\n",
              "    </tr>\n",
              "    <tr>\n",
              "      <th>7</th>\n",
              "      <td>(60, 80]</td>\n",
              "      <td>0.190476</td>\n",
              "    </tr>\n",
              "  </tbody>\n",
              "</table>\n",
              "</div>"
            ],
            "text/plain": [
              "  Age_man_bin8  Survived\n",
              "0      (-1, 1]  0.857143\n",
              "1      (1, 12]  0.509091\n",
              "4     (30, 40]  0.445652\n",
              "6     (50, 60]  0.404762\n",
              "5     (40, 50]  0.383721\n",
              "2     (12, 20]  0.381818\n",
              "3     (20, 30]  0.323607\n",
              "7     (60, 80]  0.190476"
            ]
          },
          "metadata": {
            "tags": []
          },
          "execution_count": 43
        }
      ]
    },
    {
      "cell_type": "markdown",
      "metadata": {
        "id": "6h80Q8N1s2T4",
        "colab_type": "text"
      },
      "source": [
        "Both \"Age_man_bin8\" and \"Age_man_bin8_cat\" are the results of same binning technique. \n",
        "\n",
        "\"Age_man_bin8\" represents bucket ranges and \"Age_man_bin8_cat\" shows specific category names (e.g., (-1, 1]: range, \"Infant\": category name). \n",
        "\n",
        "I only remain \"Age_man_bin8_cat\" and substitue it with \"Age\" column. \n",
        "I drop all age related columns. "
      ]
    },
    {
      "cell_type": "code",
      "metadata": {
        "id": "Nyuz2rdIshOh",
        "colab_type": "code",
        "colab": {}
      },
      "source": [
        "train_df.drop(columns=[\"Age_man_bin1\", \"Age_man_bin1_cat\", \"Age_man_bin5_v2\", \"Age_man_bin5_v2_cat\", \"Age_man_bin5\", \"Age_man_bin8\", \"Age_bin5\", \"Age_bin10\", \"Age_bin15\", \"Age_bin20\"], inplace=True)\n",
        "train_df.rename(columns = {\"Age_man_bin5_cat\":\"Age_man_bin5\", \"Age_man_bin8_cat\": \"Age_man_bin8\"}, inplace=True)"
      ],
      "execution_count": 0,
      "outputs": []
    },
    {
      "cell_type": "markdown",
      "metadata": {
        "id": "Vo885RK9o6_A",
        "colab_type": "text"
      },
      "source": [
        "#### Generalize the range of values: \"Fare\" "
      ]
    },
    {
      "cell_type": "code",
      "metadata": {
        "id": "7FKEijkK_FOz",
        "colab_type": "code",
        "colab": {}
      },
      "source": [
        "train_df['Fare'] = train_df['Fare'].apply(np.int64)"
      ],
      "execution_count": 0,
      "outputs": []
    },
    {
      "cell_type": "code",
      "metadata": {
        "id": "XMvQbcInpIri",
        "colab_type": "code",
        "colab": {}
      },
      "source": [
        "fare_labels=['Cheap', 'Moderate', 'Expensive']\n",
        "fare_bins = [-1, 30, 200, 512]\n",
        "\n",
        "train_df['Fare_bin3'], res_fare_bin5 = pd.cut(train_df['Fare'], bins=fare_bins, labels=fare_labels, right=True, retbins=True)"
      ],
      "execution_count": 0,
      "outputs": []
    },
    {
      "cell_type": "code",
      "metadata": {
        "id": "ppmlTO3OqK7V",
        "colab_type": "code",
        "outputId": "4590118e-47bf-4081-c089-4affa268a578",
        "colab": {
          "base_uri": "https://localhost:8080/",
          "height": 142
        }
      },
      "source": [
        "train_df[[\"Fare_bin3\", \"Survived\"]].groupby(['Fare_bin3'], as_index=False).mean().sort_values(by='Survived', ascending=False)"
      ],
      "execution_count": 0,
      "outputs": [
        {
          "output_type": "execute_result",
          "data": {
            "text/html": [
              "<div>\n",
              "<style scoped>\n",
              "    .dataframe tbody tr th:only-of-type {\n",
              "        vertical-align: middle;\n",
              "    }\n",
              "\n",
              "    .dataframe tbody tr th {\n",
              "        vertical-align: top;\n",
              "    }\n",
              "\n",
              "    .dataframe thead th {\n",
              "        text-align: right;\n",
              "    }\n",
              "</style>\n",
              "<table border=\"1\" class=\"dataframe\">\n",
              "  <thead>\n",
              "    <tr style=\"text-align: right;\">\n",
              "      <th></th>\n",
              "      <th>Fare_bin3</th>\n",
              "      <th>Survived</th>\n",
              "    </tr>\n",
              "  </thead>\n",
              "  <tbody>\n",
              "    <tr>\n",
              "      <th>2</th>\n",
              "      <td>Expensive</td>\n",
              "      <td>0.700000</td>\n",
              "    </tr>\n",
              "    <tr>\n",
              "      <th>1</th>\n",
              "      <td>Moderate</td>\n",
              "      <td>0.566502</td>\n",
              "    </tr>\n",
              "    <tr>\n",
              "      <th>0</th>\n",
              "      <td>Cheap</td>\n",
              "      <td>0.316817</td>\n",
              "    </tr>\n",
              "  </tbody>\n",
              "</table>\n",
              "</div>"
            ],
            "text/plain": [
              "   Fare_bin3  Survived\n",
              "2  Expensive  0.700000\n",
              "1   Moderate  0.566502\n",
              "0      Cheap  0.316817"
            ]
          },
          "metadata": {
            "tags": []
          },
          "execution_count": 47
        }
      ]
    },
    {
      "cell_type": "markdown",
      "metadata": {
        "id": "rPgRnyCEX8-Y",
        "colab_type": "text"
      },
      "source": [
        "#### Generalize the range of values: \"Familysize\" = \"SibSp\" + \"Parch\" "
      ]
    },
    {
      "cell_type": "markdown",
      "metadata": {
        "id": "eMD5l4DYYvPl",
        "colab_type": "text"
      },
      "source": [
        "Since \"SibSp\" and \"Parch\" do not represent the different correlations on survival rate, we reduce the two features and derive the new feature \"FamilySize\"."
      ]
    },
    {
      "cell_type": "code",
      "metadata": {
        "id": "Lflt0AJt3WNy",
        "colab_type": "code",
        "outputId": "0504534b-7dd4-4006-8c60-d422a330d463",
        "colab": {
          "base_uri": "https://localhost:8080/",
          "height": 266
        }
      },
      "source": [
        "train_df[[\"SibSp\", \"Survived\"]].groupby(['SibSp'], as_index=False).mean().sort_values(by='Survived', ascending=False)"
      ],
      "execution_count": 0,
      "outputs": [
        {
          "output_type": "execute_result",
          "data": {
            "text/html": [
              "<div>\n",
              "<style scoped>\n",
              "    .dataframe tbody tr th:only-of-type {\n",
              "        vertical-align: middle;\n",
              "    }\n",
              "\n",
              "    .dataframe tbody tr th {\n",
              "        vertical-align: top;\n",
              "    }\n",
              "\n",
              "    .dataframe thead th {\n",
              "        text-align: right;\n",
              "    }\n",
              "</style>\n",
              "<table border=\"1\" class=\"dataframe\">\n",
              "  <thead>\n",
              "    <tr style=\"text-align: right;\">\n",
              "      <th></th>\n",
              "      <th>SibSp</th>\n",
              "      <th>Survived</th>\n",
              "    </tr>\n",
              "  </thead>\n",
              "  <tbody>\n",
              "    <tr>\n",
              "      <th>1</th>\n",
              "      <td>1</td>\n",
              "      <td>0.535885</td>\n",
              "    </tr>\n",
              "    <tr>\n",
              "      <th>2</th>\n",
              "      <td>2</td>\n",
              "      <td>0.464286</td>\n",
              "    </tr>\n",
              "    <tr>\n",
              "      <th>0</th>\n",
              "      <td>0</td>\n",
              "      <td>0.343234</td>\n",
              "    </tr>\n",
              "    <tr>\n",
              "      <th>3</th>\n",
              "      <td>3</td>\n",
              "      <td>0.250000</td>\n",
              "    </tr>\n",
              "    <tr>\n",
              "      <th>4</th>\n",
              "      <td>4</td>\n",
              "      <td>0.166667</td>\n",
              "    </tr>\n",
              "    <tr>\n",
              "      <th>5</th>\n",
              "      <td>5</td>\n",
              "      <td>0.000000</td>\n",
              "    </tr>\n",
              "    <tr>\n",
              "      <th>6</th>\n",
              "      <td>8</td>\n",
              "      <td>0.000000</td>\n",
              "    </tr>\n",
              "  </tbody>\n",
              "</table>\n",
              "</div>"
            ],
            "text/plain": [
              "   SibSp  Survived\n",
              "1      1  0.535885\n",
              "2      2  0.464286\n",
              "0      0  0.343234\n",
              "3      3  0.250000\n",
              "4      4  0.166667\n",
              "5      5  0.000000\n",
              "6      8  0.000000"
            ]
          },
          "metadata": {
            "tags": []
          },
          "execution_count": 49
        }
      ]
    },
    {
      "cell_type": "code",
      "metadata": {
        "id": "upAaGDMj3lKM",
        "colab_type": "code",
        "outputId": "16d94032-9350-436e-c561-6ead6a28d3a0",
        "colab": {
          "base_uri": "https://localhost:8080/",
          "height": 266
        }
      },
      "source": [
        "train_df[[\"Parch\", \"Survived\"]].groupby(['Parch'], as_index=False).mean().sort_values(by='Survived', ascending=False)"
      ],
      "execution_count": 0,
      "outputs": [
        {
          "output_type": "execute_result",
          "data": {
            "text/html": [
              "<div>\n",
              "<style scoped>\n",
              "    .dataframe tbody tr th:only-of-type {\n",
              "        vertical-align: middle;\n",
              "    }\n",
              "\n",
              "    .dataframe tbody tr th {\n",
              "        vertical-align: top;\n",
              "    }\n",
              "\n",
              "    .dataframe thead th {\n",
              "        text-align: right;\n",
              "    }\n",
              "</style>\n",
              "<table border=\"1\" class=\"dataframe\">\n",
              "  <thead>\n",
              "    <tr style=\"text-align: right;\">\n",
              "      <th></th>\n",
              "      <th>Parch</th>\n",
              "      <th>Survived</th>\n",
              "    </tr>\n",
              "  </thead>\n",
              "  <tbody>\n",
              "    <tr>\n",
              "      <th>3</th>\n",
              "      <td>3</td>\n",
              "      <td>0.600000</td>\n",
              "    </tr>\n",
              "    <tr>\n",
              "      <th>1</th>\n",
              "      <td>1</td>\n",
              "      <td>0.550847</td>\n",
              "    </tr>\n",
              "    <tr>\n",
              "      <th>2</th>\n",
              "      <td>2</td>\n",
              "      <td>0.500000</td>\n",
              "    </tr>\n",
              "    <tr>\n",
              "      <th>0</th>\n",
              "      <td>0</td>\n",
              "      <td>0.341716</td>\n",
              "    </tr>\n",
              "    <tr>\n",
              "      <th>5</th>\n",
              "      <td>5</td>\n",
              "      <td>0.200000</td>\n",
              "    </tr>\n",
              "    <tr>\n",
              "      <th>4</th>\n",
              "      <td>4</td>\n",
              "      <td>0.000000</td>\n",
              "    </tr>\n",
              "    <tr>\n",
              "      <th>6</th>\n",
              "      <td>6</td>\n",
              "      <td>0.000000</td>\n",
              "    </tr>\n",
              "  </tbody>\n",
              "</table>\n",
              "</div>"
            ],
            "text/plain": [
              "   Parch  Survived\n",
              "3      3  0.600000\n",
              "1      1  0.550847\n",
              "2      2  0.500000\n",
              "0      0  0.341716\n",
              "5      5  0.200000\n",
              "4      4  0.000000\n",
              "6      6  0.000000"
            ]
          },
          "metadata": {
            "tags": []
          },
          "execution_count": 50
        }
      ]
    },
    {
      "cell_type": "code",
      "metadata": {
        "id": "U1EohNdtW41g",
        "colab_type": "code",
        "colab": {}
      },
      "source": [
        "train_df['FamilySize'] = train_df[\"SibSp\"] + train_df[\"Parch\"] + 1 #family size including me"
      ],
      "execution_count": 0,
      "outputs": []
    },
    {
      "cell_type": "code",
      "metadata": {
        "id": "kkGvMA-l5qqD",
        "colab_type": "code",
        "outputId": "a304caa4-601a-4d1e-c172-d0ec8ab8b749",
        "colab": {
          "base_uri": "https://localhost:8080/",
          "height": 369
        }
      },
      "source": [
        "# axes = sns.factorplot('relatives','Survived', \n",
        "#                       data=train_df, aspect = 2.5, )\n",
        "axes = sns.factorplot(x='FamilySize', y='Survived', \n",
        "                      data=train_df, aspect = 2.5)"
      ],
      "execution_count": 0,
      "outputs": [
        {
          "output_type": "display_data",
          "data": {
            "image/png": "[encoded data removed]",
            "text/plain": [
              "<Figure size 900x360 with 1 Axes>"
            ]
          },
          "metadata": {
            "tags": [],
            "needs_background": "light"
          }
        }
      ]
    },
    {
      "cell_type": "code",
      "metadata": {
        "id": "cYm9O1rVScF_",
        "colab_type": "code",
        "outputId": "24a79372-91aa-4d76-e2af-eeac6396968f",
        "colab": {
          "base_uri": "https://localhost:8080/",
          "height": 328
        }
      },
      "source": [
        "train_df[[\"FamilySize\", \"Survived\"]].groupby(['FamilySize'], as_index=False).mean().sort_values(by='Survived', ascending=False)"
      ],
      "execution_count": 0,
      "outputs": [
        {
          "output_type": "execute_result",
          "data": {
            "text/html": [
              "<div>\n",
              "<style scoped>\n",
              "    .dataframe tbody tr th:only-of-type {\n",
              "        vertical-align: middle;\n",
              "    }\n",
              "\n",
              "    .dataframe tbody tr th {\n",
              "        vertical-align: top;\n",
              "    }\n",
              "\n",
              "    .dataframe thead th {\n",
              "        text-align: right;\n",
              "    }\n",
              "</style>\n",
              "<table border=\"1\" class=\"dataframe\">\n",
              "  <thead>\n",
              "    <tr style=\"text-align: right;\">\n",
              "      <th></th>\n",
              "      <th>FamilySize</th>\n",
              "      <th>Survived</th>\n",
              "    </tr>\n",
              "  </thead>\n",
              "  <tbody>\n",
              "    <tr>\n",
              "      <th>3</th>\n",
              "      <td>4</td>\n",
              "      <td>0.724138</td>\n",
              "    </tr>\n",
              "    <tr>\n",
              "      <th>2</th>\n",
              "      <td>3</td>\n",
              "      <td>0.578431</td>\n",
              "    </tr>\n",
              "    <tr>\n",
              "      <th>1</th>\n",
              "      <td>2</td>\n",
              "      <td>0.552795</td>\n",
              "    </tr>\n",
              "    <tr>\n",
              "      <th>6</th>\n",
              "      <td>7</td>\n",
              "      <td>0.333333</td>\n",
              "    </tr>\n",
              "    <tr>\n",
              "      <th>0</th>\n",
              "      <td>1</td>\n",
              "      <td>0.300935</td>\n",
              "    </tr>\n",
              "    <tr>\n",
              "      <th>4</th>\n",
              "      <td>5</td>\n",
              "      <td>0.200000</td>\n",
              "    </tr>\n",
              "    <tr>\n",
              "      <th>5</th>\n",
              "      <td>6</td>\n",
              "      <td>0.136364</td>\n",
              "    </tr>\n",
              "    <tr>\n",
              "      <th>7</th>\n",
              "      <td>8</td>\n",
              "      <td>0.000000</td>\n",
              "    </tr>\n",
              "    <tr>\n",
              "      <th>8</th>\n",
              "      <td>11</td>\n",
              "      <td>0.000000</td>\n",
              "    </tr>\n",
              "  </tbody>\n",
              "</table>\n",
              "</div>"
            ],
            "text/plain": [
              "   FamilySize  Survived\n",
              "3           4  0.724138\n",
              "2           3  0.578431\n",
              "1           2  0.552795\n",
              "6           7  0.333333\n",
              "0           1  0.300935\n",
              "4           5  0.200000\n",
              "5           6  0.136364\n",
              "7           8  0.000000\n",
              "8          11  0.000000"
            ]
          },
          "metadata": {
            "tags": []
          },
          "execution_count": 53
        }
      ]
    },
    {
      "cell_type": "markdown",
      "metadata": {
        "id": "-24F8mMmEQw0",
        "colab_type": "text"
      },
      "source": [
        "I anonymize the ``FamilySize`` into 3 levels of categories: 'Alone' (``FamilySize`` = 1), 'Small' (``FamilySize`` = 2\\~4), and 'Large' (``FamilySize`` = 5\\~11)."
      ]
    },
    {
      "cell_type": "code",
      "metadata": {
        "id": "TLTTP2dQC0Db",
        "colab_type": "code",
        "colab": {}
      },
      "source": [
        "fam_bin11 = list(range(12))"
      ],
      "execution_count": 0,
      "outputs": []
    },
    {
      "cell_type": "code",
      "metadata": {
        "id": "mhpfZbyuaYl9",
        "colab_type": "code",
        "colab": {}
      },
      "source": [
        "familysize_labels = ['Alone','Small','Large']\n",
        "familysize_bins = [0,1,4,11]"
      ],
      "execution_count": 0,
      "outputs": []
    },
    {
      "cell_type": "code",
      "metadata": {
        "id": "XMThT3aCAJOH",
        "colab_type": "code",
        "colab": {}
      },
      "source": [
        "train_df['FamilySize_bin3'], res_fam_bin3 = pd.cut(train_df['FamilySize'], bins=familysize_bins, retbins=True, right=True)\n",
        "train_df['FamilySize_bin3_cat'] = pd.cut(train_df['FamilySize'], bins=familysize_bins, labels=familysize_labels, right=True)"
      ],
      "execution_count": 0,
      "outputs": []
    },
    {
      "cell_type": "code",
      "metadata": {
        "id": "EKK2ly5jHDQF",
        "colab_type": "code",
        "colab": {}
      },
      "source": [
        "train_df['FamilySize_bin11'], res_fam_bin11 = pd.cut(train_df['FamilySize'], bins=fam_bin11, retbins=True, right=True)"
      ],
      "execution_count": 0,
      "outputs": []
    },
    {
      "cell_type": "code",
      "metadata": {
        "id": "S3hco9FubdHU",
        "colab_type": "code",
        "outputId": "bcf2d4de-2019-44c5-b7cb-d254157180ea",
        "colab": {
          "base_uri": "https://localhost:8080/",
          "height": 142
        }
      },
      "source": [
        "train_df[[\"FamilySize_bin3_cat\", \"Survived\"]].groupby(['FamilySize_bin3_cat'], as_index=False).mean().sort_values(by='Survived', ascending=False)"
      ],
      "execution_count": 0,
      "outputs": [
        {
          "output_type": "execute_result",
          "data": {
            "text/html": [
              "<div>\n",
              "<style scoped>\n",
              "    .dataframe tbody tr th:only-of-type {\n",
              "        vertical-align: middle;\n",
              "    }\n",
              "\n",
              "    .dataframe tbody tr th {\n",
              "        vertical-align: top;\n",
              "    }\n",
              "\n",
              "    .dataframe thead th {\n",
              "        text-align: right;\n",
              "    }\n",
              "</style>\n",
              "<table border=\"1\" class=\"dataframe\">\n",
              "  <thead>\n",
              "    <tr style=\"text-align: right;\">\n",
              "      <th></th>\n",
              "      <th>FamilySize_bin3_cat</th>\n",
              "      <th>Survived</th>\n",
              "    </tr>\n",
              "  </thead>\n",
              "  <tbody>\n",
              "    <tr>\n",
              "      <th>1</th>\n",
              "      <td>Small</td>\n",
              "      <td>0.578767</td>\n",
              "    </tr>\n",
              "    <tr>\n",
              "      <th>0</th>\n",
              "      <td>Alone</td>\n",
              "      <td>0.300935</td>\n",
              "    </tr>\n",
              "    <tr>\n",
              "      <th>2</th>\n",
              "      <td>Large</td>\n",
              "      <td>0.161290</td>\n",
              "    </tr>\n",
              "  </tbody>\n",
              "</table>\n",
              "</div>"
            ],
            "text/plain": [
              "  FamilySize_bin3_cat  Survived\n",
              "1               Small  0.578767\n",
              "0               Alone  0.300935\n",
              "2               Large  0.161290"
            ]
          },
          "metadata": {
            "tags": []
          },
          "execution_count": 58
        }
      ]
    },
    {
      "cell_type": "markdown",
      "metadata": {
        "id": "S25tA1COTjUp",
        "colab_type": "text"
      },
      "source": [
        "**Anonymization Result**\n",
        "\n",
        "By anonymizing the \"FamilySize\" into 3 categories, \\[\"Alone\", \"Small\", \"Large\"\\], the k-anonymity increased to 62 while data loss becomes 18.87%. \n",
        "This data loss is acceptable while increasing privacy. "
      ]
    },
    {
      "cell_type": "code",
      "metadata": {
        "id": "xLSDkf4sBUrM",
        "colab_type": "code",
        "outputId": "5bb4e6bb-0e42-4be1-88f1-544e010a0c82",
        "colab": {
          "base_uri": "https://localhost:8080/",
          "height": 111
        }
      },
      "source": [
        "cols = ['FamilySize', 'FamilySize_bin3']\n",
        "labels = [\"FamilySize: No Anonymization\", \"FamilySize_bin: [Alone, Small, Large]\"]\n",
        "bins = [res_fam_bin11, res_fam_bin3]\n",
        "family_result = getPrivacyAndInfoLoss(train_df, cols, labels, bins)\n",
        "family_result[\"category\"] = [\"Numeric\", familysize_labels]\n",
        "family_result[\"bin range (,]\"] = [res_fam_bin11, res_fam_bin3]\n",
        "family_result"
      ],
      "execution_count": 0,
      "outputs": [
        {
          "output_type": "execute_result",
          "data": {
            "text/html": [
              "<div>\n",
              "<style scoped>\n",
              "    .dataframe tbody tr th:only-of-type {\n",
              "        vertical-align: middle;\n",
              "    }\n",
              "\n",
              "    .dataframe tbody tr th {\n",
              "        vertical-align: top;\n",
              "    }\n",
              "\n",
              "    .dataframe thead th {\n",
              "        text-align: right;\n",
              "    }\n",
              "</style>\n",
              "<table border=\"1\" class=\"dataframe\">\n",
              "  <thead>\n",
              "    <tr style=\"text-align: right;\">\n",
              "      <th></th>\n",
              "      <th>anonymization</th>\n",
              "      <th>k-anonymity</th>\n",
              "      <th>data_loss %</th>\n",
              "      <th>category</th>\n",
              "      <th>bin range (,]</th>\n",
              "    </tr>\n",
              "  </thead>\n",
              "  <tbody>\n",
              "    <tr>\n",
              "      <th>0</th>\n",
              "      <td>FamilySize: No Anonymization</td>\n",
              "      <td>6</td>\n",
              "      <td>0.00</td>\n",
              "      <td>Numeric</td>\n",
              "      <td>[0, 1, 2, 3, 4, 5, 6, 7, 8, 9, 10, 11]</td>\n",
              "    </tr>\n",
              "    <tr>\n",
              "      <th>1</th>\n",
              "      <td>FamilySize_bin: [Alone, Small, Large]</td>\n",
              "      <td>62</td>\n",
              "      <td>18.87</td>\n",
              "      <td>[Alone, Small, Large]</td>\n",
              "      <td>[0, 1, 4, 11]</td>\n",
              "    </tr>\n",
              "  </tbody>\n",
              "</table>\n",
              "</div>"
            ],
            "text/plain": [
              "                           anonymization  ...                           bin range (,]\n",
              "0           FamilySize: No Anonymization  ...  [0, 1, 2, 3, 4, 5, 6, 7, 8, 9, 10, 11]\n",
              "1  FamilySize_bin: [Alone, Small, Large]  ...                           [0, 1, 4, 11]\n",
              "\n",
              "[2 rows x 5 columns]"
            ]
          },
          "metadata": {
            "tags": []
          },
          "execution_count": 59
        }
      ]
    },
    {
      "cell_type": "code",
      "metadata": {
        "id": "ElXx-R3MUuF2",
        "colab_type": "code",
        "colab": {}
      },
      "source": [
        "train_df.drop(columns=[\"SibSp\", \"Parch\", \"FamilySize_bin3\", \"FamilySize_bin11\"], inplace=True)\n",
        "train_df.rename(columns = {\"FamilySize_bin3_cat\":\"FamilySize_bin\"}, inplace=True)"
      ],
      "execution_count": 0,
      "outputs": []
    },
    {
      "cell_type": "markdown",
      "metadata": {
        "id": "ekVxKWFHdmIx",
        "colab_type": "text"
      },
      "source": [
        "#### Generalize the strings or enumerated values: delete \"Name\" and new column \"Title\"\n",
        "\n"
      ]
    },
    {
      "cell_type": "code",
      "metadata": {
        "id": "7Q29EYLLhmqi",
        "colab_type": "code",
        "outputId": "dcdd6812-15ba-4a24-90de-53cac6dfc5e7",
        "colab": {
          "base_uri": "https://localhost:8080/",
          "height": 607
        }
      },
      "source": [
        "for col, df in train_df.items():\n",
        "  train_df['Title'] = train_df['Name'].apply(lambda name: re.search(' ([A-Za-z]+)\\.', name).group(1))\n",
        "\n",
        "pd.crosstab(train_df['Title'], train_df['Sex'])"
      ],
      "execution_count": 0,
      "outputs": [
        {
          "output_type": "execute_result",
          "data": {
            "text/html": [
              "<div>\n",
              "<style scoped>\n",
              "    .dataframe tbody tr th:only-of-type {\n",
              "        vertical-align: middle;\n",
              "    }\n",
              "\n",
              "    .dataframe tbody tr th {\n",
              "        vertical-align: top;\n",
              "    }\n",
              "\n",
              "    .dataframe thead th {\n",
              "        text-align: right;\n",
              "    }\n",
              "</style>\n",
              "<table border=\"1\" class=\"dataframe\">\n",
              "  <thead>\n",
              "    <tr style=\"text-align: right;\">\n",
              "      <th>Sex</th>\n",
              "      <th>female</th>\n",
              "      <th>male</th>\n",
              "    </tr>\n",
              "    <tr>\n",
              "      <th>Title</th>\n",
              "      <th></th>\n",
              "      <th></th>\n",
              "    </tr>\n",
              "  </thead>\n",
              "  <tbody>\n",
              "    <tr>\n",
              "      <th>Capt</th>\n",
              "      <td>0</td>\n",
              "      <td>1</td>\n",
              "    </tr>\n",
              "    <tr>\n",
              "      <th>Col</th>\n",
              "      <td>0</td>\n",
              "      <td>2</td>\n",
              "    </tr>\n",
              "    <tr>\n",
              "      <th>Countess</th>\n",
              "      <td>1</td>\n",
              "      <td>0</td>\n",
              "    </tr>\n",
              "    <tr>\n",
              "      <th>Don</th>\n",
              "      <td>0</td>\n",
              "      <td>1</td>\n",
              "    </tr>\n",
              "    <tr>\n",
              "      <th>Dr</th>\n",
              "      <td>1</td>\n",
              "      <td>6</td>\n",
              "    </tr>\n",
              "    <tr>\n",
              "      <th>Jonkheer</th>\n",
              "      <td>0</td>\n",
              "      <td>1</td>\n",
              "    </tr>\n",
              "    <tr>\n",
              "      <th>Lady</th>\n",
              "      <td>1</td>\n",
              "      <td>0</td>\n",
              "    </tr>\n",
              "    <tr>\n",
              "      <th>Major</th>\n",
              "      <td>0</td>\n",
              "      <td>2</td>\n",
              "    </tr>\n",
              "    <tr>\n",
              "      <th>Master</th>\n",
              "      <td>0</td>\n",
              "      <td>40</td>\n",
              "    </tr>\n",
              "    <tr>\n",
              "      <th>Miss</th>\n",
              "      <td>181</td>\n",
              "      <td>0</td>\n",
              "    </tr>\n",
              "    <tr>\n",
              "      <th>Mlle</th>\n",
              "      <td>2</td>\n",
              "      <td>0</td>\n",
              "    </tr>\n",
              "    <tr>\n",
              "      <th>Mme</th>\n",
              "      <td>1</td>\n",
              "      <td>0</td>\n",
              "    </tr>\n",
              "    <tr>\n",
              "      <th>Mr</th>\n",
              "      <td>0</td>\n",
              "      <td>517</td>\n",
              "    </tr>\n",
              "    <tr>\n",
              "      <th>Mrs</th>\n",
              "      <td>124</td>\n",
              "      <td>0</td>\n",
              "    </tr>\n",
              "    <tr>\n",
              "      <th>Ms</th>\n",
              "      <td>1</td>\n",
              "      <td>0</td>\n",
              "    </tr>\n",
              "    <tr>\n",
              "      <th>Rev</th>\n",
              "      <td>0</td>\n",
              "      <td>6</td>\n",
              "    </tr>\n",
              "    <tr>\n",
              "      <th>Sir</th>\n",
              "      <td>0</td>\n",
              "      <td>1</td>\n",
              "    </tr>\n",
              "  </tbody>\n",
              "</table>\n",
              "</div>"
            ],
            "text/plain": [
              "Sex       female  male\n",
              "Title                 \n",
              "Capt           0     1\n",
              "Col            0     2\n",
              "Countess       1     0\n",
              "Don            0     1\n",
              "Dr             1     6\n",
              "Jonkheer       0     1\n",
              "Lady           1     0\n",
              "Major          0     2\n",
              "Master         0    40\n",
              "Miss         181     0\n",
              "Mlle           2     0\n",
              "Mme            1     0\n",
              "Mr             0   517\n",
              "Mrs          124     0\n",
              "Ms             1     0\n",
              "Rev            0     6\n",
              "Sir            0     1"
            ]
          },
          "metadata": {
            "tags": []
          },
          "execution_count": 61
        }
      ]
    },
    {
      "cell_type": "markdown",
      "metadata": {
        "id": "t6l3ApGI74ec",
        "colab_type": "text"
      },
      "source": [
        "The title \"Master\" comes with only male names, but represents high possibility of \"Survived\". This record may have significant indicator for predicting the survived."
      ]
    },
    {
      "cell_type": "code",
      "metadata": {
        "id": "_YlzVxuKl_xo",
        "colab_type": "code",
        "outputId": "67854b0e-ddcc-43f4-92b5-3a5a3d6d7bfd",
        "colab": {
          "base_uri": "https://localhost:8080/",
          "height": 204
        }
      },
      "source": [
        "train_df['Title'] = train_df['Title'].replace(['Lady', 'Countess','Capt', 'Col',\\\n",
        " \t'Don', 'Dr', 'Major', 'Rev', 'Sir', 'Jonkheer', 'Dona'], 'Rare')\n",
        "\n",
        "# train_df['Title'] = train_df['Title'].replace(['Lady', 'Countess','Capt', 'Col',\\\n",
        "#  \t'Don', 'Dr', 'Major', 'Rev', 'Sir', 'Jonkheer', 'Dona', 'Master'], 'Rare')\n",
        "\n",
        "train_df['Title'] = train_df['Title'].replace('Mlle', 'Miss')\n",
        "train_df['Title'] = train_df['Title'].replace('Ms', 'Miss')\n",
        "train_df['Title'] = train_df['Title'].replace('Mme', 'Mrs')\n",
        "    \n",
        "train_df[['Title', 'Survived']].groupby(['Title'], as_index=False).mean().sort_values(by=\"Survived\", ascending=False)"
      ],
      "execution_count": 0,
      "outputs": [
        {
          "output_type": "execute_result",
          "data": {
            "text/html": [
              "<div>\n",
              "<style scoped>\n",
              "    .dataframe tbody tr th:only-of-type {\n",
              "        vertical-align: middle;\n",
              "    }\n",
              "\n",
              "    .dataframe tbody tr th {\n",
              "        vertical-align: top;\n",
              "    }\n",
              "\n",
              "    .dataframe thead th {\n",
              "        text-align: right;\n",
              "    }\n",
              "</style>\n",
              "<table border=\"1\" class=\"dataframe\">\n",
              "  <thead>\n",
              "    <tr style=\"text-align: right;\">\n",
              "      <th></th>\n",
              "      <th>Title</th>\n",
              "      <th>Survived</th>\n",
              "    </tr>\n",
              "  </thead>\n",
              "  <tbody>\n",
              "    <tr>\n",
              "      <th>3</th>\n",
              "      <td>Mrs</td>\n",
              "      <td>0.792000</td>\n",
              "    </tr>\n",
              "    <tr>\n",
              "      <th>1</th>\n",
              "      <td>Miss</td>\n",
              "      <td>0.701087</td>\n",
              "    </tr>\n",
              "    <tr>\n",
              "      <th>0</th>\n",
              "      <td>Master</td>\n",
              "      <td>0.575000</td>\n",
              "    </tr>\n",
              "    <tr>\n",
              "      <th>4</th>\n",
              "      <td>Rare</td>\n",
              "      <td>0.347826</td>\n",
              "    </tr>\n",
              "    <tr>\n",
              "      <th>2</th>\n",
              "      <td>Mr</td>\n",
              "      <td>0.156673</td>\n",
              "    </tr>\n",
              "  </tbody>\n",
              "</table>\n",
              "</div>"
            ],
            "text/plain": [
              "    Title  Survived\n",
              "3     Mrs  0.792000\n",
              "1    Miss  0.701087\n",
              "0  Master  0.575000\n",
              "4    Rare  0.347826\n",
              "2      Mr  0.156673"
            ]
          },
          "metadata": {
            "tags": []
          },
          "execution_count": 62
        }
      ]
    },
    {
      "cell_type": "markdown",
      "metadata": {
        "id": "bFuzMeI4cQTF",
        "colab_type": "text"
      },
      "source": [
        "**Anonymization Result**"
      ]
    },
    {
      "cell_type": "code",
      "metadata": {
        "id": "fQxryvsmma41",
        "colab_type": "code",
        "outputId": "9d75bc81-7e71-4ee3-dda7-3779745bf0c4",
        "colab": {
          "base_uri": "https://localhost:8080/",
          "height": 51
        }
      },
      "source": [
        "print(\"k-anonymity of the attribute \\\"Title\\\":\", get_k_anonymity(train_df, ['Title']))\n",
        "print(\"k-anonymity of the attribute \\\"Name\\\":\", get_k_anonymity(train_df, ['Name']))"
      ],
      "execution_count": 0,
      "outputs": [
        {
          "output_type": "stream",
          "text": [
            "k-anonymity of the attribute \"Title\": 23\n",
            "k-anonymity of the attribute \"Name\": 1\n"
          ],
          "name": "stdout"
        }
      ]
    },
    {
      "cell_type": "code",
      "metadata": {
        "id": "cma4OBLb8uyE",
        "colab_type": "code",
        "colab": {}
      },
      "source": [
        "train_df.drop(columns = [\"Name\"], inplace=True)"
      ],
      "execution_count": 0,
      "outputs": []
    },
    {
      "cell_type": "markdown",
      "metadata": {
        "id": "JX45-odIcq_h",
        "colab_type": "text"
      },
      "source": [
        "### Synthetic Data\n",
        "\n",
        "**Description**\n",
        "\n",
        "This synthesizing technique is slightly different as other anonymization techniques, as it is mainly used to generate synthetic datasets directly and separately from the original data, instead of modifying the original dataset.\n",
        "\n",
        "**When to use** \n",
        "\n",
        "Typically, when a large amount of data is required for system testing, but the actual data cannot be used and yet the data should be “realistic” in certain aspects, like format, relationship among attributes, etc.\n",
        "\n",
        "**How to use**\n",
        "\n",
        "Find the patterns from the original dataset (i.e. the actual data) and apply the patterns when creating the “anonymised” dataset (i.e. the synthetic data). The degree to which the patterns from the original dataset need to be replicated depends on the how the anonymised dataset is to be used.\n",
        "\n",
        "**In Titanic Data**\n",
        "\n",
        "I produced the data according to the distribution of original data.\n",
        "I will investigate how the generated data will affect the accuracy in prediction models.\n",
        "\n",
        "I referenced the following article:\n",
        "https://dev.to/r0f1/a-simple-way-to-anonymize-data-with-python-and-pandas-79g"
      ]
    },
    {
      "cell_type": "markdown",
      "metadata": {
        "id": "xcCSRdfoC-tp",
        "colab_type": "text"
      },
      "source": [
        "The 'Pclass' is not the numeric data, but ordered category data. We convert the data type here."
      ]
    },
    {
      "cell_type": "code",
      "metadata": {
        "id": "vGQcgF6rBZOv",
        "colab_type": "code",
        "colab": {}
      },
      "source": [
        "train_df['Pclass'] = train_df[\"Pclass\"].astype(\"category\").cat.as_ordered()"
      ],
      "execution_count": 0,
      "outputs": []
    },
    {
      "cell_type": "code",
      "metadata": {
        "id": "WY17V1oYVy4E",
        "colab_type": "code",
        "colab": {}
      },
      "source": [
        "#Survivied: target variable\n",
        "#train_df['Survived'] = train_df[\"Survived\"].astype(\"category\") "
      ],
      "execution_count": 0,
      "outputs": []
    },
    {
      "cell_type": "code",
      "metadata": {
        "id": "_b4hUw81HpCw",
        "colab_type": "code",
        "outputId": "0c3e8870-df73-42c7-a9f3-c99ac8e04ab9",
        "colab": {
          "base_uri": "https://localhost:8080/",
          "height": 68
        }
      },
      "source": [
        "categorical_feature = train_df.select_dtypes(include=['category', 'object']).columns\n",
        "print(\"categorical feature(s):\", categorical_feature)"
      ],
      "execution_count": 0,
      "outputs": [
        {
          "output_type": "stream",
          "text": [
            "categorical feature(s): Index(['Pclass', 'Sex', 'Embarked', 'Age_man_bin5', 'Age_man_bin8',\n",
            "       'Fare_bin3', 'FamilySize_bin', 'Title'],\n",
            "      dtype='object')\n"
          ],
          "name": "stdout"
        }
      ]
    },
    {
      "cell_type": "code",
      "metadata": {
        "id": "44DtGvCWF7k1",
        "colab_type": "code",
        "colab": {}
      },
      "source": [
        "# train_df['Survived'] = train_df[\"Survived\"].astype(\"category\")"
      ],
      "execution_count": 0,
      "outputs": []
    },
    {
      "cell_type": "code",
      "metadata": {
        "id": "NdBu_NS3fn6Z",
        "colab_type": "code",
        "outputId": "750bd535-ce04-4059-cad2-a1e16c1a6700",
        "colab": {
          "base_uri": "https://localhost:8080/",
          "height": 34
        }
      },
      "source": [
        "continuous_feature = train_df.select_dtypes(include=['int', 'float']).columns\n",
        "print(\"continuous feature(s):\", continuous_feature)"
      ],
      "execution_count": 0,
      "outputs": [
        {
          "output_type": "stream",
          "text": [
            "continuous feature(s): Index(['Survived', 'Age', 'Fare', 'FamilySize'], dtype='object')\n"
          ],
          "name": "stdout"
        }
      ]
    },
    {
      "cell_type": "markdown",
      "metadata": {
        "id": "Wh0lUFBAeyxR",
        "colab_type": "text"
      },
      "source": [
        "**Categorical attributes**\n",
        "\n",
        "I generated the data of categorical types for size of 1000."
      ]
    },
    {
      "cell_type": "code",
      "metadata": {
        "id": "qFHjGfSMbGdb",
        "colab_type": "code",
        "colab": {}
      },
      "source": [
        "dict_cat = {}\n",
        "\n",
        "cat_cols = categorical_feature.to_list()\n",
        "cat_cols.append(\"Survived\")\n",
        "\n",
        "for c in cat_cols:\n",
        "  counts = train_df[c].value_counts() #return type: Series\n",
        "  dict_cat[c] = np.random.choice(list(counts.index), p=(counts/len(train_df)).values, size=1000) #generate records of size"
      ],
      "execution_count": 0,
      "outputs": []
    },
    {
      "cell_type": "code",
      "metadata": {
        "id": "NBHvDEEid05s",
        "colab_type": "code",
        "outputId": "533925b9-de30-43bc-d99c-795b18c4f0f8",
        "colab": {
          "base_uri": "https://localhost:8080/",
          "height": 170
        }
      },
      "source": [
        "from collections import Counter\n",
        "\n",
        "for k,v in dict_cat.items():\n",
        "  print(Counter(v))"
      ],
      "execution_count": 0,
      "outputs": [
        {
          "output_type": "stream",
          "text": [
            "Counter({3: 546, 1: 239, 2: 215})\n",
            "Counter({'male': 648, 'female': 352})\n",
            "Counter({'S': 719, 'C': 197, 'Q': 84})\n",
            "Counter({'Young_Adult': 475, 'Middel_Aged_Adult': 265, 'Kid_Teen': 170, 'Senior': 47, 'Infant': 43})\n",
            "Counter({'21-30': 411, '31-40': 217, '13-20': 125, '41-50': 97, '2-12': 62, '51-60': 42, '60>': 35, '0-1': 11})\n",
            "Counter({'Cheap': 744, 'Moderate': 235, 'Expensive': 21})\n",
            "Counter({'Alone': 601, 'Small': 336, 'Large': 63})\n",
            "Counter({'Mr': 613, 'Miss': 201, 'Mrs': 125, 'Master': 35, 'Rare': 26})\n",
            "Counter({0: 614, 1: 386})\n"
          ],
          "name": "stdout"
        }
      ]
    },
    {
      "cell_type": "code",
      "metadata": {
        "id": "-EkUOe07ghFl",
        "colab_type": "code",
        "colab": {}
      },
      "source": [
        "df_generate = pd.DataFrame.from_dict(dict_cat)"
      ],
      "execution_count": 0,
      "outputs": []
    },
    {
      "cell_type": "markdown",
      "metadata": {
        "id": "xqfhcs17eF2H",
        "colab_type": "text"
      },
      "source": [
        "### Pseudonymization\n",
        "> Data is transformed into other forms but is retained and can be reversed for later use\n",
        "\n",
        "**Description**  \n",
        "Pseudonymization is a data management and de-identification procedure by which personally identifiable information fields within a data record are replaced by one or more artificial identifiers, or pseudonyms. A single pseudonym for each replaced field or collection of replaced fields makes the data record less identifiable while **remaining suitable for data analysis and data processing**.\n",
        "Pseudonymization (or pseudonymisation) can be one way to comply with the European Union's new General Data Protection Regulation demands for **secure data storage of personal information.** \n",
        "\n",
        "* **Pseudonymization vs. Anonymization**  \n",
        "Pseudonymized data can be restored to its original state with the addition of information which then allows individuals to be re-identified, while anonymized data can never be restored to its original state.\n",
        "\n",
        "**When to use**\n",
        "When data values need to be uniquely distinguished and where no character or any other implied information of the original attribute shall be kept.\n",
        "\n",
        "**How to use**  \n",
        "Replace the respective attribute values with made up values. One way to do this is to pre-generate a list of made up values, and randomly select from this list to replace each of the original values. The made up values should be unique, and should have no relationship to the original values (such that one can derive the original values from the pseudonyms).\n",
        "* Techniques\n",
        "  * Format preserving encryption\n",
        "  * Tokenization\n",
        "\n",
        "**In Titanic Data**\n",
        "\n"
      ]
    },
    {
      "cell_type": "markdown",
      "metadata": {
        "id": "uM4lquKO1HUf",
        "colab_type": "text"
      },
      "source": [
        "#### Label Categorical Attributes and Retain the Lookup Table\n",
        "\n",
        "I transformed the categorical values in \"Sex\" and \"Embarked\" into other forms of numeric values for building machine learning models for prediction.\n",
        "The sensitive data can be replaced to artificial numbers and\n",
        "these linked information can be stored as lookup tables. \n",
        "The lookup tables should be stored safely by encrypted or in another storage in practice.\n",
        "\n",
        "I used two layers of the lookup tables: random number and encoding from 0 to n.\n",
        "* The first lookup table links each category value to randomly generated number  \n",
        "* The second lookup table links these random numbers to 0 to n.\n",
        "\n",
        "The random number makes adversary hard to attack the data because pseudonyms and tokens are hard to be identified. In addition, two layered lookup tables keep data even more secure. When data is used for machine learning models for prediction, it should be encoded into 0 to n; because, \n",
        "in the categorical attribute, it should not contain numerical relations.\n",
        "It might be a good idea if label encoding is substituted by the [one hot encoder](https://www.geeksforgeeks.org/ml-one-hot-encoding-of-datasets-in-python/). \n"
      ]
    },
    {
      "cell_type": "code",
      "metadata": {
        "id": "y4bewja0eXUy",
        "colab_type": "code",
        "colab": {}
      },
      "source": [
        "def pseudonymize_df_cat(df, cols, rand=True):\n",
        "  lookup_tb = []\n",
        "  for col_name in cols:\n",
        "    if rand == True:\n",
        "      keys = {cats: np.random.randint(low=100000, high=999999) for cats in df[col_name].unique()}\n",
        "    else: \n",
        "      #dict: keys[cats] = i\n",
        "      keys = {cats: i for i, cats in enumerate(df[col_name].unique())}\n",
        "\n",
        "    lookup_tb.append((col_name, keys))\n",
        "    df[col_name] = df[col_name].apply(lambda x:  keys[x])\n",
        "  return df, lookup_tb"
      ],
      "execution_count": 0,
      "outputs": []
    },
    {
      "cell_type": "code",
      "metadata": {
        "id": "KUUbBAGzffaN",
        "colab_type": "code",
        "outputId": "cafef698-22a4-482c-8335-03cd4f1087d6",
        "colab": {
          "base_uri": "https://localhost:8080/",
          "height": 340
        }
      },
      "source": [
        "df_copy = train_df.copy()\n",
        "df_1st, keys_1st = pseudonymize_df_cat(df_copy, categorical_feature, True)\n",
        "for s in keys_1st:\n",
        "  print(s)\n",
        "df_1st.head(5)"
      ],
      "execution_count": 0,
      "outputs": [
        {
          "output_type": "stream",
          "text": [
            "('Pclass', {3: 963986, 1: 523769, 2: 729345})\n",
            "('Sex', {'male': 213174, 'female': 320197})\n",
            "('Embarked', {'S': 821990, 'C': 246547, 'Q': 138665})\n",
            "('Age_man_bin5', {'Young_Adult': 871508, 'Middel_Aged_Adult': 482756, 'Infant': 896676, 'Kid_Teen': 871822, 'Senior': 653232})\n",
            "('Age_man_bin8', {'21-30': 124394, '31-40': 217175, '51-60': 582705, '2-12': 303221, '13-20': 317510, '60>': 306912, '41-50': 972212, '0-1': 480826})\n",
            "('Fare_bin3', {'Cheap': 274504, 'Moderate': 268256, 'Expensive': 852783})\n",
            "('FamilySize_bin', {'Small': 546125, 'Alone': 937393, 'Large': 948383})\n",
            "('Title', {'Mr': 963429, 'Mrs': 650785, 'Miss': 735014, 'Master': 649730, 'Rare': 187002})\n"
          ],
          "name": "stdout"
        },
        {
          "output_type": "execute_result",
          "data": {
            "text/html": [
              "<div>\n",
              "<style scoped>\n",
              "    .dataframe tbody tr th:only-of-type {\n",
              "        vertical-align: middle;\n",
              "    }\n",
              "\n",
              "    .dataframe tbody tr th {\n",
              "        vertical-align: top;\n",
              "    }\n",
              "\n",
              "    .dataframe thead th {\n",
              "        text-align: right;\n",
              "    }\n",
              "</style>\n",
              "<table border=\"1\" class=\"dataframe\">\n",
              "  <thead>\n",
              "    <tr style=\"text-align: right;\">\n",
              "      <th></th>\n",
              "      <th>Survived</th>\n",
              "      <th>Pclass</th>\n",
              "      <th>Sex</th>\n",
              "      <th>Age</th>\n",
              "      <th>Fare</th>\n",
              "      <th>Embarked</th>\n",
              "      <th>Age_man_bin5</th>\n",
              "      <th>Age_man_bin8</th>\n",
              "      <th>Fare_bin3</th>\n",
              "      <th>FamilySize</th>\n",
              "      <th>FamilySize_bin</th>\n",
              "      <th>Title</th>\n",
              "    </tr>\n",
              "  </thead>\n",
              "  <tbody>\n",
              "    <tr>\n",
              "      <th>0</th>\n",
              "      <td>0</td>\n",
              "      <td>963986</td>\n",
              "      <td>213174</td>\n",
              "      <td>22.0</td>\n",
              "      <td>7</td>\n",
              "      <td>821990</td>\n",
              "      <td>871508</td>\n",
              "      <td>124394</td>\n",
              "      <td>274504</td>\n",
              "      <td>2</td>\n",
              "      <td>546125</td>\n",
              "      <td>963429</td>\n",
              "    </tr>\n",
              "    <tr>\n",
              "      <th>1</th>\n",
              "      <td>1</td>\n",
              "      <td>523769</td>\n",
              "      <td>320197</td>\n",
              "      <td>38.0</td>\n",
              "      <td>71</td>\n",
              "      <td>246547</td>\n",
              "      <td>482756</td>\n",
              "      <td>217175</td>\n",
              "      <td>268256</td>\n",
              "      <td>2</td>\n",
              "      <td>546125</td>\n",
              "      <td>650785</td>\n",
              "    </tr>\n",
              "    <tr>\n",
              "      <th>2</th>\n",
              "      <td>1</td>\n",
              "      <td>963986</td>\n",
              "      <td>320197</td>\n",
              "      <td>26.0</td>\n",
              "      <td>7</td>\n",
              "      <td>821990</td>\n",
              "      <td>871508</td>\n",
              "      <td>124394</td>\n",
              "      <td>274504</td>\n",
              "      <td>1</td>\n",
              "      <td>937393</td>\n",
              "      <td>735014</td>\n",
              "    </tr>\n",
              "    <tr>\n",
              "      <th>3</th>\n",
              "      <td>1</td>\n",
              "      <td>523769</td>\n",
              "      <td>320197</td>\n",
              "      <td>35.0</td>\n",
              "      <td>53</td>\n",
              "      <td>821990</td>\n",
              "      <td>482756</td>\n",
              "      <td>217175</td>\n",
              "      <td>268256</td>\n",
              "      <td>2</td>\n",
              "      <td>546125</td>\n",
              "      <td>650785</td>\n",
              "    </tr>\n",
              "    <tr>\n",
              "      <th>4</th>\n",
              "      <td>0</td>\n",
              "      <td>963986</td>\n",
              "      <td>213174</td>\n",
              "      <td>35.0</td>\n",
              "      <td>8</td>\n",
              "      <td>821990</td>\n",
              "      <td>482756</td>\n",
              "      <td>217175</td>\n",
              "      <td>274504</td>\n",
              "      <td>1</td>\n",
              "      <td>937393</td>\n",
              "      <td>963429</td>\n",
              "    </tr>\n",
              "  </tbody>\n",
              "</table>\n",
              "</div>"
            ],
            "text/plain": [
              "   Survived  Pclass     Sex   Age  ...  Fare_bin3  FamilySize FamilySize_bin   Title\n",
              "0         0  963986  213174  22.0  ...     274504           2         546125  963429\n",
              "1         1  523769  320197  38.0  ...     268256           2         546125  650785\n",
              "2         1  963986  320197  26.0  ...     274504           1         937393  735014\n",
              "3         1  523769  320197  35.0  ...     268256           2         546125  650785\n",
              "4         0  963986  213174  35.0  ...     274504           1         937393  963429\n",
              "\n",
              "[5 rows x 12 columns]"
            ]
          },
          "metadata": {
            "tags": []
          },
          "execution_count": 74
        }
      ]
    },
    {
      "cell_type": "code",
      "metadata": {
        "id": "YB0xzjmJihlT",
        "colab_type": "code",
        "outputId": "96f33aff-aef7-4b64-edc3-62cd9af36633",
        "colab": {
          "base_uri": "https://localhost:8080/",
          "height": 340
        }
      },
      "source": [
        "df_2nd, keys_2nd = pseudonymize_df_cat(df_1st, categorical_feature, False)\n",
        "for s in keys_2nd:\n",
        "  print(s)\n",
        "df_2nd.head(5)"
      ],
      "execution_count": 0,
      "outputs": [
        {
          "output_type": "stream",
          "text": [
            "('Pclass', {963986: 0, 523769: 1, 729345: 2})\n",
            "('Sex', {213174: 0, 320197: 1})\n",
            "('Embarked', {821990: 0, 246547: 1, 138665: 2})\n",
            "('Age_man_bin5', {871508: 0, 482756: 1, 896676: 2, 871822: 3, 653232: 4})\n",
            "('Age_man_bin8', {124394: 0, 217175: 1, 582705: 2, 303221: 3, 317510: 4, 306912: 5, 972212: 6, 480826: 7})\n",
            "('Fare_bin3', {274504: 0, 268256: 1, 852783: 2})\n",
            "('FamilySize_bin', {546125: 0, 937393: 1, 948383: 2})\n",
            "('Title', {963429: 0, 650785: 1, 735014: 2, 649730: 3, 187002: 4})\n"
          ],
          "name": "stdout"
        },
        {
          "output_type": "execute_result",
          "data": {
            "text/html": [
              "<div>\n",
              "<style scoped>\n",
              "    .dataframe tbody tr th:only-of-type {\n",
              "        vertical-align: middle;\n",
              "    }\n",
              "\n",
              "    .dataframe tbody tr th {\n",
              "        vertical-align: top;\n",
              "    }\n",
              "\n",
              "    .dataframe thead th {\n",
              "        text-align: right;\n",
              "    }\n",
              "</style>\n",
              "<table border=\"1\" class=\"dataframe\">\n",
              "  <thead>\n",
              "    <tr style=\"text-align: right;\">\n",
              "      <th></th>\n",
              "      <th>Survived</th>\n",
              "      <th>Pclass</th>\n",
              "      <th>Sex</th>\n",
              "      <th>Age</th>\n",
              "      <th>Fare</th>\n",
              "      <th>Embarked</th>\n",
              "      <th>Age_man_bin5</th>\n",
              "      <th>Age_man_bin8</th>\n",
              "      <th>Fare_bin3</th>\n",
              "      <th>FamilySize</th>\n",
              "      <th>FamilySize_bin</th>\n",
              "      <th>Title</th>\n",
              "    </tr>\n",
              "  </thead>\n",
              "  <tbody>\n",
              "    <tr>\n",
              "      <th>0</th>\n",
              "      <td>0</td>\n",
              "      <td>0</td>\n",
              "      <td>0</td>\n",
              "      <td>22.0</td>\n",
              "      <td>7</td>\n",
              "      <td>0</td>\n",
              "      <td>0</td>\n",
              "      <td>0</td>\n",
              "      <td>0</td>\n",
              "      <td>2</td>\n",
              "      <td>0</td>\n",
              "      <td>0</td>\n",
              "    </tr>\n",
              "    <tr>\n",
              "      <th>1</th>\n",
              "      <td>1</td>\n",
              "      <td>1</td>\n",
              "      <td>1</td>\n",
              "      <td>38.0</td>\n",
              "      <td>71</td>\n",
              "      <td>1</td>\n",
              "      <td>1</td>\n",
              "      <td>1</td>\n",
              "      <td>1</td>\n",
              "      <td>2</td>\n",
              "      <td>0</td>\n",
              "      <td>1</td>\n",
              "    </tr>\n",
              "    <tr>\n",
              "      <th>2</th>\n",
              "      <td>1</td>\n",
              "      <td>0</td>\n",
              "      <td>1</td>\n",
              "      <td>26.0</td>\n",
              "      <td>7</td>\n",
              "      <td>0</td>\n",
              "      <td>0</td>\n",
              "      <td>0</td>\n",
              "      <td>0</td>\n",
              "      <td>1</td>\n",
              "      <td>1</td>\n",
              "      <td>2</td>\n",
              "    </tr>\n",
              "    <tr>\n",
              "      <th>3</th>\n",
              "      <td>1</td>\n",
              "      <td>1</td>\n",
              "      <td>1</td>\n",
              "      <td>35.0</td>\n",
              "      <td>53</td>\n",
              "      <td>0</td>\n",
              "      <td>1</td>\n",
              "      <td>1</td>\n",
              "      <td>1</td>\n",
              "      <td>2</td>\n",
              "      <td>0</td>\n",
              "      <td>1</td>\n",
              "    </tr>\n",
              "    <tr>\n",
              "      <th>4</th>\n",
              "      <td>0</td>\n",
              "      <td>0</td>\n",
              "      <td>0</td>\n",
              "      <td>35.0</td>\n",
              "      <td>8</td>\n",
              "      <td>0</td>\n",
              "      <td>1</td>\n",
              "      <td>1</td>\n",
              "      <td>0</td>\n",
              "      <td>1</td>\n",
              "      <td>1</td>\n",
              "      <td>0</td>\n",
              "    </tr>\n",
              "  </tbody>\n",
              "</table>\n",
              "</div>"
            ],
            "text/plain": [
              "   Survived Pclass  Sex   Age  ...  Fare_bin3  FamilySize FamilySize_bin Title\n",
              "0         0      0    0  22.0  ...          0           2              0     0\n",
              "1         1      1    1  38.0  ...          1           2              0     1\n",
              "2         1      0    1  26.0  ...          0           1              1     2\n",
              "3         1      1    1  35.0  ...          1           2              0     1\n",
              "4         0      0    0  35.0  ...          0           1              1     0\n",
              "\n",
              "[5 rows x 12 columns]"
            ]
          },
          "metadata": {
            "tags": []
          },
          "execution_count": 75
        }
      ]
    },
    {
      "cell_type": "code",
      "metadata": {
        "id": "hWRqS6wX1v_w",
        "colab_type": "code",
        "colab": {}
      },
      "source": [
        "#train_df = df_2nd"
      ],
      "execution_count": 0,
      "outputs": []
    },
    {
      "cell_type": "code",
      "metadata": {
        "id": "x9GklLd3cOuX",
        "colab_type": "code",
        "colab": {}
      },
      "source": [
        "train_df.to_csv(\"./drive/My Drive/data_anonymization/data/anony_org_titanic.csv\", sep='\\t', encoding='utf-8')"
      ],
      "execution_count": 0,
      "outputs": []
    },
    {
      "cell_type": "code",
      "metadata": {
        "id": "eOjCDva3ufSB",
        "colab_type": "code",
        "colab": {}
      },
      "source": [
        "df_2nd.to_csv(\"./drive/My Drive/data_anonymization/data/anony_encod_titanic.csv\", sep='\\t', encoding='utf-8')"
      ],
      "execution_count": 0,
      "outputs": []
    },
    {
      "cell_type": "code",
      "metadata": {
        "id": "te7VpWezT61L",
        "colab_type": "code",
        "colab": {}
      },
      "source": [
        "df_generate.to_csv(\"./drive/My Drive/data_anonymization/data/anony_gen_titanic.csv\", sep='\\t', encoding='utf-8')"
      ],
      "execution_count": 0,
      "outputs": []
    },
    {
      "cell_type": "markdown",
      "metadata": {
        "id": "cfl0buI4dyV0",
        "colab_type": "text"
      },
      "source": [
        "### Swapping\n",
        "\n",
        "**Description**\n",
        "\n",
        "Swapping involves exchanging QI values between records. The purpose of swapping is to rearrange data in the dataset such that the individual attribute values are still represented in the dataset, but generally, do not correspond to the original records. This technique is also referred to as **shuffling** and **permutation**.\n",
        "\n",
        "**When to use**\n",
        "\n",
        "When subsequent analysis only needs to look at **aggregated data**, or analysis is at the intra-attribute level; in other words, there is no need for analysis of relationships between attributes at the record level.\n",
        "\n",
        "Please note that if the purpose of the anonymised dataset is to study the relationships between attributes, swapping is not appropriate. Other methods of anonymisation may be more suitable such as a generalization technique.\n",
        "\n",
        "**How to use**\n",
        "\n",
        "* First, identify which attributes to swap. \n",
        "* Then, for each, swap or reassign the attribute values to any record in the dataset.\n",
        "\n",
        "**In Titanic Data**\n",
        "\n",
        "I aim to provide the anonymized data for the survival prediction using machine learning techniques. We do not use the Titanic data for aggregation purpose, therefore, each record is important for prediction. In this project, I do not attempt to use the swapping method."
      ]
    },
    {
      "cell_type": "markdown",
      "metadata": {
        "id": "5O0pIaAH9dqH",
        "colab_type": "text"
      },
      "source": [
        "### Perturbation\n",
        "\n",
        "**Description**\n",
        "\n",
        "The values from the original dataset are modified to be slightly different.\n",
        "Perturbation involvwa **randomization** by replacing specific quasi-identifier (QI) values with equally specific but different values. \n",
        "\n",
        "**When to use**\n",
        "\n",
        "For quasi-identifiers (typically numbers and dates) which may potentially be identifying when combined with other data sources, and slight changes in value are acceptable. \n",
        "**The perturbation technique should not be used where data accuracy is crucial.**\n",
        "\n",
        "One advantage of perturbation is that it **significantly decreases the probability of finding a unique match** in a matchable file. If the adversary knows which QI fields have been disturbed, then the adversary must work with only the unperturbed fields, which greatly reduces the chance of finding a unique match. If the adversary does not know which fields have been perturbed, then he or she is unable to use a matching algorithm. \n",
        "\n",
        "Another advantage of perturbation is that it **maintains statistical properties about the original data, such as mean or variance**. For many applications, the result is that utility is not significantly lessened. \n",
        "\n",
        "**How to use**\n",
        "\n",
        "It depends on the exact data perturbation technique used.\n",
        "\n",
        "For example, the algorithm may replace an age value with a random value within a five-year window of the actual age. Every age is within +/– 2 years of the original age, and the final digit in each zip code is within +/– 2 of the original.\n",
        "\n",
        "**In Titanic Data**\n",
        "\n",
        "The main purpose of data analysis in this project is to make a accurate prediction model, so I did not use the perturbation technique here."
      ]
    },
    {
      "cell_type": "markdown",
      "metadata": {
        "id": "jyKq8ipk_Di0",
        "colab_type": "text"
      },
      "source": [
        "## Accuracy on Machine Learning Models"
      ]
    },
    {
      "cell_type": "markdown",
      "metadata": {
        "id": "KjP9t2aCfPCE",
        "colab_type": "text"
      },
      "source": [
        "To avoid making this notebook too long,\n",
        "I split the notebooks and made machine learning models [here](https://github.com/ahrimhan/data_anonymization/blob/master/ML_titanic.ipynb).\n",
        "\n",
        "We built machine learning models using classification techniques."
      ]
    },
    {
      "cell_type": "code",
      "metadata": {
        "id": "x22InpWgmnkK",
        "colab_type": "code",
        "outputId": "4d1e7ab4-2784-4adb-e417-e244ab48b81c",
        "colab": {
          "base_uri": "https://localhost:8080/",
          "height": 483
        }
      },
      "source": [
        "best_data = pd.read_csv('./drive/My Drive/data_anonymization/data/best_data.csv', sep='\\t', encoding='utf-8')\n",
        "best_data.drop(\"Unnamed: 0\", axis=1, inplace=True)\n",
        "best_data.sort_values(by='Score(Train Set)', ascending=False)"
      ],
      "execution_count": 0,
      "outputs": [
        {
          "output_type": "execute_result",
          "data": {
            "text/html": [
              "<div>\n",
              "<style scoped>\n",
              "    .dataframe tbody tr th:only-of-type {\n",
              "        vertical-align: middle;\n",
              "    }\n",
              "\n",
              "    .dataframe tbody tr th {\n",
              "        vertical-align: top;\n",
              "    }\n",
              "\n",
              "    .dataframe thead th {\n",
              "        text-align: right;\n",
              "    }\n",
              "</style>\n",
              "<table border=\"1\" class=\"dataframe\">\n",
              "  <thead>\n",
              "    <tr style=\"text-align: right;\">\n",
              "      <th></th>\n",
              "      <th>Data</th>\n",
              "      <th>Score(Train Set)</th>\n",
              "      <th>Score_Model</th>\n",
              "      <th>Accuracy(Test Set)</th>\n",
              "      <th>Accuracy_Model</th>\n",
              "    </tr>\n",
              "  </thead>\n",
              "  <tbody>\n",
              "    <tr>\n",
              "      <th>0</th>\n",
              "      <td>['Fare' 'FamilySize' 'Age']</td>\n",
              "      <td>97.05</td>\n",
              "      <td>acc_random_forest_score</td>\n",
              "      <td>80.34</td>\n",
              "      <td>acc_random_forest</td>\n",
              "    </tr>\n",
              "    <tr>\n",
              "      <th>3</th>\n",
              "      <td>['Fare' 'FamilySize_bin' 'Age']</td>\n",
              "      <td>96.77</td>\n",
              "      <td>acc_random_forest_score</td>\n",
              "      <td>83.15</td>\n",
              "      <td>acc_random_forest</td>\n",
              "    </tr>\n",
              "    <tr>\n",
              "      <th>6</th>\n",
              "      <td>['Fare_bin3' 'FamilySize' 'Age']</td>\n",
              "      <td>94.80</td>\n",
              "      <td>acc_random_forest_score</td>\n",
              "      <td>76.40</td>\n",
              "      <td>acc_random_forest</td>\n",
              "    </tr>\n",
              "    <tr>\n",
              "      <th>9</th>\n",
              "      <td>['Fare_bin3' 'FamilySize_bin' 'Age']</td>\n",
              "      <td>94.66</td>\n",
              "      <td>acc_random_forest_score</td>\n",
              "      <td>76.40</td>\n",
              "      <td>acc_decision_tree</td>\n",
              "    </tr>\n",
              "    <tr>\n",
              "      <th>1</th>\n",
              "      <td>['Fare' 'FamilySize' 'Age_man_bin8']</td>\n",
              "      <td>93.81</td>\n",
              "      <td>acc_random_forest_score</td>\n",
              "      <td>80.34</td>\n",
              "      <td>acc_decision_tree</td>\n",
              "    </tr>\n",
              "    <tr>\n",
              "      <th>2</th>\n",
              "      <td>['Fare' 'FamilySize' 'Age_man_bin5']</td>\n",
              "      <td>93.53</td>\n",
              "      <td>acc_random_forest_score</td>\n",
              "      <td>85.39</td>\n",
              "      <td>acc_decision_tree</td>\n",
              "    </tr>\n",
              "    <tr>\n",
              "      <th>4</th>\n",
              "      <td>['Fare' 'FamilySize_bin' 'Age_man_bin8']</td>\n",
              "      <td>93.11</td>\n",
              "      <td>acc_random_forest_score</td>\n",
              "      <td>81.46</td>\n",
              "      <td>acc_random_forest</td>\n",
              "    </tr>\n",
              "    <tr>\n",
              "      <th>5</th>\n",
              "      <td>['Fare' 'FamilySize_bin' 'Age_man_bin5']</td>\n",
              "      <td>92.69</td>\n",
              "      <td>acc_random_forest_score</td>\n",
              "      <td>84.27</td>\n",
              "      <td>acc_decision_tree</td>\n",
              "    </tr>\n",
              "    <tr>\n",
              "      <th>7</th>\n",
              "      <td>['Fare_bin3' 'FamilySize' 'Age_man_bin8']</td>\n",
              "      <td>89.17</td>\n",
              "      <td>acc_random_forest_score</td>\n",
              "      <td>78.09</td>\n",
              "      <td>acc_svc</td>\n",
              "    </tr>\n",
              "    <tr>\n",
              "      <th>8</th>\n",
              "      <td>['Fare_bin3' 'FamilySize' 'Age_man_bin5']</td>\n",
              "      <td>87.90</td>\n",
              "      <td>acc_random_forest_score</td>\n",
              "      <td>82.02</td>\n",
              "      <td>acc_svc</td>\n",
              "    </tr>\n",
              "    <tr>\n",
              "      <th>10</th>\n",
              "      <td>['Fare_bin3' 'FamilySize_bin' 'Age_man_bin8']</td>\n",
              "      <td>87.62</td>\n",
              "      <td>acc_random_forest_score</td>\n",
              "      <td>82.02</td>\n",
              "      <td>acc_svc</td>\n",
              "    </tr>\n",
              "    <tr>\n",
              "      <th>11</th>\n",
              "      <td>['Fare_bin3' 'FamilySize_bin' 'Age_man_bin5']</td>\n",
              "      <td>85.94</td>\n",
              "      <td>acc_random_forest_score</td>\n",
              "      <td>85.96</td>\n",
              "      <td>acc_svc</td>\n",
              "    </tr>\n",
              "    <tr>\n",
              "      <th>13</th>\n",
              "      <td>Synthetic data: ['Age_man_bin5', 'Fare_bin3', ...</td>\n",
              "      <td>81.62</td>\n",
              "      <td>acc_random_forest_score</td>\n",
              "      <td>57.00</td>\n",
              "      <td>acc_log</td>\n",
              "    </tr>\n",
              "    <tr>\n",
              "      <th>12</th>\n",
              "      <td>Synthetic data: ['Age_man_bin8', 'Fare_bin3', ...</td>\n",
              "      <td>79.25</td>\n",
              "      <td>acc_random_forest_score</td>\n",
              "      <td>64.00</td>\n",
              "      <td>acc_log</td>\n",
              "    </tr>\n",
              "  </tbody>\n",
              "</table>\n",
              "</div>"
            ],
            "text/plain": [
              "                                                 Data  ...     Accuracy_Model\n",
              "0                         ['Fare' 'FamilySize' 'Age']  ...  acc_random_forest\n",
              "3                     ['Fare' 'FamilySize_bin' 'Age']  ...  acc_random_forest\n",
              "6                    ['Fare_bin3' 'FamilySize' 'Age']  ...  acc_random_forest\n",
              "9                ['Fare_bin3' 'FamilySize_bin' 'Age']  ...  acc_decision_tree\n",
              "1                ['Fare' 'FamilySize' 'Age_man_bin8']  ...  acc_decision_tree\n",
              "2                ['Fare' 'FamilySize' 'Age_man_bin5']  ...  acc_decision_tree\n",
              "4            ['Fare' 'FamilySize_bin' 'Age_man_bin8']  ...  acc_random_forest\n",
              "5            ['Fare' 'FamilySize_bin' 'Age_man_bin5']  ...  acc_decision_tree\n",
              "7           ['Fare_bin3' 'FamilySize' 'Age_man_bin8']  ...            acc_svc\n",
              "8           ['Fare_bin3' 'FamilySize' 'Age_man_bin5']  ...            acc_svc\n",
              "10      ['Fare_bin3' 'FamilySize_bin' 'Age_man_bin8']  ...            acc_svc\n",
              "11      ['Fare_bin3' 'FamilySize_bin' 'Age_man_bin5']  ...            acc_svc\n",
              "13  Synthetic data: ['Age_man_bin5', 'Fare_bin3', ...  ...            acc_log\n",
              "12  Synthetic data: ['Age_man_bin8', 'Fare_bin3', ...  ...            acc_log\n",
              "\n",
              "[14 rows x 5 columns]"
            ]
          },
          "metadata": {
            "tags": []
          },
          "execution_count": 80
        }
      ]
    },
    {
      "cell_type": "markdown",
      "metadata": {
        "id": "bQFEZTjmXk06",
        "colab_type": "text"
      },
      "source": [
        "**==> Results:**\n",
        "\n",
        "**Results from the \"Score\".**  \n",
        "The \"Score\" is measured using training data.\n",
        "The \"Score\" represents how the model is fitted into train data.\n",
        "\n",
        "Please note that the abstraction and anonymized levels are categorized into 4 layers as below. \n",
        "We denote `dataset 1 ~> dataset 2 `as dataset 2 is more abstracted and anonymized than dataset 1.\n",
        "1. All numeric features: 0\n",
        "2. Two numeric and one anonymized features: 1 ~> 2, 3, 6\n",
        "3. One numeric and two anonymized features: 4 ~> 5, 7 ~> 8, 9\n",
        "4. All anonymized features: 10 ~> 11\n",
        "\n",
        "We could observe the trends that\n",
        "**the lower index of datasets (more accurate data) produces the higher accuracy scores, while the higher index of datasets (more anonymized and loss data) produces the lower accuracy scores.** \n",
        "In other words, we can say that **the high abstraction strongly correlates to the low accuracy of model.**\n",
        "\n",
        "For example, the highest ranked model was based on the random forest model with data of index 0 with all numeric features with the accuracy of 97.05%.\n",
        "The second highest ranked model was the\n",
        "data of index 3, consisting of all numeric features of fare and age except family size, with the accuracy of 96.77%.\n",
        "The datasets of index 10 and index 11 are composed of all categorical features (in which data had been anonymized and abstracted) and produces least results of accuracy of 87.62% and 85.94%, respectively.\n",
        "\n",
        "The second layer of abstraction (two numeric and one anonymized features; index: 1,2,3,6) ranks second best group.\n",
        "\n",
        "**If all the other variables are the same and there is an abstraction level difference in one variable, we can observe that the rank order of accuracy is maintained in all cases.** \n",
        "\n",
        "For instance, 'Age_man_bin5' is more abstracted than 'Age_man_bin8', and the models containing 'Age_man_bin5' instead of 'Age_man_bin8' have lower model accuracy (e.g., model accuracy of dataset of index: 1 > 2, 4 > 5, 7 > 8, and 10 > 11)."
      ]
    },
    {
      "cell_type": "markdown",
      "metadata": {
        "id": "D983o8_xQtzz",
        "colab_type": "text"
      },
      "source": [
        "## Differential Privacy \n",
        "\n",
        "\n",
        "<!-- Differential privacy mathematically defines individuals’ privacy loss when their aggregated private data are used as the subject for statistical queries. As a technique, differential privacy helps statistical databases to minimize the chances of revealing the identity of an individual while sustaining\n",
        "query accuracy. -->\n",
        "\n",
        "At the intuition level, differential privacy provides the nice privacy guarantee by adding noises to the returning results. "
      ]
    },
    {
      "cell_type": "markdown",
      "metadata": {
        "id": "QvHRYomfmkxH",
        "colab_type": "text"
      },
      "source": [
        "**k-anonymity limitations:**\n",
        "\n",
        "In practice, there are some issues for using k-anonymity.    \n",
        "In particular, when an attacker knows some side-information about individual, it is not guaranteed that the data is preserving the privacy. \n",
        "\n",
        "* Homogeneity attack:  \n",
        "This attack leverages the case where all the values for a sensitive value within a set of k records are identical. In such cases, even though the data has been k-anonymized, the sensitive value for the set of k records may be exactly predicted.\n",
        "\n",
        "* Background knowledge attack (= Linkage attack):  \n",
        "This attack leverages an association between one or more quasi-identifier attributes with the sensitive attribute to reduce the set of possible values for the sensitive attribute."
      ]
    },
    {
      "cell_type": "markdown",
      "metadata": {
        "id": "rIBWMGUK9ur6",
        "colab_type": "text"
      },
      "source": [
        "\n",
        "**Privacy Budget.**  \n",
        "Differential privacy implementation incorporates the concept of a **privacy budget** (quantified by the parameter epsilon) and sets a **strict limit on the number of allowed queries** from a user in order to preserve their privacy. \n",
        "The reason is that the slightly-biased noise used in differential privacy tends to average out over a large numbers of contributions, making it theoretically **possible to determine information about a user’s activity over a large number of observations** from a single user. \n",
        "\n",
        "When you use truly random noise to anonymize your data and every time you query the same data, you reduce the level of anonymization. This is because you are able to use the aggregate results to reconstruct the original data by filtering out the noise through averaging. **The value epsilon is then used to determine how strict the privacy is.** The smaller the value, the better the privacy but the worse the accuracy of any results from analysing the data. That also means, the smaller the value of epsilon, **the fewer times you can access the data (effectively epsilon is proportional to your privacy budget)** because otherwise you would be able to reconstruct the noise and ultimately de-anonymize the data. \n",
        "The trick to all this is that you can exactly define how much of your privacy budget you can use until the data is not considered as anonymous anymore.  \n",
        "\n",
        "\n",
        "**Usage.**  \n",
        "Differential privacy is used widely these days.  \n",
        "Apple uses the differential privacy in iOS 10, and\n",
        "Google launched the project, the [Privacy Sandbox](https://www.chromium.org/Home/chromium-privacy/privacy-sandbox), \n",
        "and also implemented the\n",
        "[RAPPOR (Randomized Aggregatable Privacy-Preserving Ordinal Response)](https://static.googleusercontent.com/media/research.google.com/en//pubs/archive/42852.pdf).\n",
        "<!-- and US Census Bureau on communal data. -->\n",
        "\n",
        " <!-- Epsilon $\\varepsilon$ and Delta $\\delta$ in differential privacy -->\n"
      ]
    },
    {
      "cell_type": "markdown",
      "metadata": {
        "id": "4Bm5hggLrwFV",
        "colab_type": "text"
      },
      "source": [
        "To practice builing models with diffential private data,\n",
        "I used the open source libraries from IBM:\n",
        "https://github.com/ahrimhan/differential-privacy-library"
      ]
    },
    {
      "cell_type": "markdown",
      "metadata": {
        "id": "kyEvHADMQtpH",
        "colab_type": "text"
      },
      "source": [
        "### Trade offs between Epsilon $\\varepsilon$ (privacy loss) vs. data loss\n",
        "\n",
        "Differential privacy libraries implement various techniques that take an epsilon parameter as input and adds **random noise** to values in the original dataset, proportionally to the given ε parameter. Thus, the smaller the epsilon value, the more noise will be added to the values.\n",
        "\n",
        "- If ε is small, then more privacy is preserved but data accuracy gets worse.  \n",
        "- If ε is large, privacy will be worse but data accuracy will be preserved."
      ]
    },
    {
      "cell_type": "code",
      "metadata": {
        "id": "-CmAwFqM6dsA",
        "colab_type": "code",
        "outputId": "6931dd19-40f7-4364-cd42-a15ca7624a74",
        "colab": {
          "base_uri": "https://localhost:8080/",
          "height": 119
        }
      },
      "source": [
        "!pip install diffprivlib"
      ],
      "execution_count": 0,
      "outputs": [
        {
          "output_type": "stream",
          "text": [
            "Requirement already satisfied: diffprivlib in /usr/local/lib/python3.6/dist-packages (0.2.1)\n",
            "Requirement already satisfied: numpy>=1.15.0 in /usr/local/lib/python3.6/dist-packages (from diffprivlib) (1.18.4)\n",
            "Requirement already satisfied: setuptools>=39.0.1 in /usr/local/lib/python3.6/dist-packages (from diffprivlib) (46.3.0)\n",
            "Requirement already satisfied: scipy>=1.2.1 in /usr/local/lib/python3.6/dist-packages (from diffprivlib) (1.4.1)\n",
            "Requirement already satisfied: scikit-learn>=0.20.3 in /usr/local/lib/python3.6/dist-packages (from diffprivlib) (0.22.2.post1)\n",
            "Requirement already satisfied: joblib>=0.13.2 in /usr/local/lib/python3.6/dist-packages (from diffprivlib) (0.15.0)\n"
          ],
          "name": "stdout"
        }
      ]
    },
    {
      "cell_type": "code",
      "metadata": {
        "id": "Z7QSFPpOjR2X",
        "colab_type": "code",
        "colab": {}
      },
      "source": [
        "import diffprivlib.models as models\n",
        "\n",
        "from sklearn.model_selection import train_test_split\n",
        "\n",
        "from sklearn.metrics import accuracy_score\n",
        "\n",
        "from collections import defaultdict\n",
        "\n",
        "import warnings\n",
        "warnings.filterwarnings('ignore')"
      ],
      "execution_count": 0,
      "outputs": []
    },
    {
      "cell_type": "code",
      "metadata": {
        "id": "2oIYaeOFk2Kd",
        "colab_type": "code",
        "colab": {}
      },
      "source": [
        "diff_df = df_2nd"
      ],
      "execution_count": 0,
      "outputs": []
    },
    {
      "cell_type": "code",
      "metadata": {
        "id": "or1x1GNblYjT",
        "colab_type": "code",
        "colab": {}
      },
      "source": [
        "diff_df[categorical_feature] = diff_df[categorical_feature].astype(\"category\")\n",
        "diff_df['Survived'] = diff_df[\"Survived\"].astype(\"category\")"
      ],
      "execution_count": 0,
      "outputs": []
    },
    {
      "cell_type": "code",
      "metadata": {
        "id": "DDLYKhBMlibF",
        "colab_type": "code",
        "colab": {}
      },
      "source": [
        "# Gaussian Naive Bayes\n",
        "acc_gaussian_diffpriv = defaultdict(list) #11 dataset, each dataset, list stores accuracy of epsilon variation"
      ],
      "execution_count": 0,
      "outputs": []
    },
    {
      "cell_type": "code",
      "metadata": {
        "id": "5QZl6JtDpg40",
        "colab_type": "code",
        "colab": {}
      },
      "source": [
        "# get Gaussian Naive Bayes model for dataset i\n",
        "def getGaussianNaiveBayes(X_train, X_test, Y_train, Y_test, i):\n",
        "  acc_gaussian_epsilon = [] \n",
        "\n",
        "  for epsilon in epsilons:\n",
        "    clf = models.GaussianNB(epsilon=epsilon) \n",
        "    clf.fit(X_train, Y_train)\n",
        "    Y_pred = clf.predict(X_test)\n",
        "    \n",
        "    acc_gaussian_epsilon.append(round(accuracy_score(Y_pred, Y_test) * 100, 2))\n",
        "\n",
        "  acc_gaussian_diffpriv[i] = acc_gaussian_epsilon"
      ],
      "execution_count": 0,
      "outputs": []
    },
    {
      "cell_type": "code",
      "metadata": {
        "id": "hx0CUaUIn-F-",
        "colab_type": "code",
        "colab": {}
      },
      "source": [
        "age = [\"Age\", \"Age_man_bin8\", \"Age_man_bin5\"]\n",
        "fare = [\"Fare\", \"Fare_bin3\"]\n",
        "familysize = [\"FamilySize\", \"FamilySize_bin\"]"
      ],
      "execution_count": 0,
      "outputs": []
    },
    {
      "cell_type": "code",
      "metadata": {
        "id": "iKsqNG1ToBzI",
        "colab_type": "code",
        "colab": {}
      },
      "source": [
        "X_basic = diff_df.drop([\"Survived\"]+ age + fare + familysize, axis=1)"
      ],
      "execution_count": 0,
      "outputs": []
    },
    {
      "cell_type": "code",
      "metadata": {
        "id": "-4dfrj-4oUDT",
        "colab_type": "code",
        "colab": {}
      },
      "source": [
        "X = X_basic.copy()\n",
        "Y = diff_df[\"Survived\"]"
      ],
      "execution_count": 0,
      "outputs": []
    },
    {
      "cell_type": "markdown",
      "metadata": {
        "id": "IicdpNaNQMIU",
        "colab_type": "text"
      },
      "source": [
        "### Epsilons $\\varepsilon$ (Privacy loss control parameter)\n"
      ]
    },
    {
      "cell_type": "code",
      "metadata": {
        "id": "TxVehTemA5YC",
        "colab_type": "code",
        "colab": {}
      },
      "source": [
        "epsilons = np.logspace(-2, 2, 50)\n",
        "bounds = [(4.3, 7.9), (2.0, 4.4), (1.1, 6.9), (0.1, 2.5)]"
      ],
      "execution_count": 0,
      "outputs": []
    },
    {
      "cell_type": "code",
      "metadata": {
        "id": "pAyAOAKxqESG",
        "colab_type": "code",
        "outputId": "fb702d6c-fbd3-44d4-91fc-1e6473b5efa0",
        "colab": {
          "base_uri": "https://localhost:8080/",
          "height": 295
        }
      },
      "source": [
        "epsilon_idx = list(range(0, len(epsilons)))\n",
        "\n",
        "fig, ax = plt.subplots()\n",
        "ax.plot(epsilon_idx, epsilons)\n",
        "ax.set(xlabel='Index: 0~49', ylabel='Epsilon (privacy loss) ',\n",
        "       title='Distribution of Epsilon values')\n",
        "ax.grid()\n",
        "\n",
        "#fig.savefig(\"test.png\")\n",
        "plt.show()"
      ],
      "execution_count": 0,
      "outputs": [
        {
          "output_type": "display_data",
          "data": {
            "image/png": "[encoded data removed]",
            "text/plain": [
              "<Figure size 432x288 with 1 Axes>"
            ]
          },
          "metadata": {
            "tags": [],
            "needs_background": "light"
          }
        }
      ]
    },
    {
      "cell_type": "markdown",
      "metadata": {
        "id": "wrhxomRX1QZW",
        "colab_type": "text"
      },
      "source": [
        "**Gaussian Naive Bayes models with anonymized data**"
      ]
    },
    {
      "cell_type": "markdown",
      "metadata": {
        "id": "F_axC-gAOtG6",
        "colab_type": "text"
      },
      "source": [
        "Dataset index: 0 ~ 11  \n",
        "epsilons = np.logspace(-2, 2, 50)  \n",
        "\n",
        "Each dataset, Gaussian Naive Bayes models with different parameters of Epsilon are built."
      ]
    },
    {
      "cell_type": "code",
      "metadata": {
        "id": "tCqPmralBnZv",
        "colab_type": "code",
        "colab": {}
      },
      "source": [
        "data_index_dict = {}\n",
        "data_all_index_dict = {}\n",
        "\n",
        "i = 0\n",
        "for c in fare: \n",
        "  X[c] = diff_df[c]\n",
        "\n",
        "  for c1 in familysize:\n",
        "    X[c1] = diff_df[c1]\n",
        "\n",
        "    for c2 in age:\n",
        "      X[c2] = diff_df[c2]\n",
        "      # data index dictionary (variations of Age, Fare, and FamilySize)\n",
        "      data_index_dict[i] = X.columns.drop(X_basic.columns).values\n",
        "      data_all_index_dict[i] = X.columns.values\n",
        "      \n",
        "      X_train, X_test, Y_train, Y_test = train_test_split(X, Y, test_size=0.2)  #split train data 80% and test data 20%\n",
        "\n",
        "      getGaussianNaiveBayes(X_train, X_test, Y_train, Y_test, i)\n",
        "      i+=1\n",
        "      X = X.drop(c2, axis=1)\n",
        "    \n",
        "    X = X.drop(c1, axis=1)\n",
        "  X = X.drop(c, axis=1)"
      ],
      "execution_count": 0,
      "outputs": []
    },
    {
      "cell_type": "code",
      "metadata": {
        "id": "_QZI_Yj0KptG",
        "colab_type": "code",
        "outputId": "54a306a9-cf05-48b5-a24f-2fa9de6c10de",
        "colab": {
          "base_uri": "https://localhost:8080/",
          "height": 1000
        }
      },
      "source": [
        "for k,v in acc_gaussian_diffpriv.items():\n",
        "  plt.semilogx(epsilons, v)\n",
        "  plt.title(\"Accuracy of Gaussian according to differential privacy, Data Index: \" + str(k))\n",
        "  plt.xlabel(\"Epsilon\")\n",
        "  plt.ylabel(\"Accuracy (%)\")\n",
        "  plt.show()"
      ],
      "execution_count": 0,
      "outputs": [
        {
          "output_type": "display_data",
          "data": {
            "image/png": "[encoded data removed]",
            "text/plain": [
              "<Figure size 432x288 with 1 Axes>"
            ]
          },
          "metadata": {
            "tags": [],
            "needs_background": "light"
          }
        },
        {
          "output_type": "display_data",
          "data": {
            "image/png": "[encoded data removed]",
            "text/plain": [
              "<Figure size 432x288 with 1 Axes>"
            ]
          },
          "metadata": {
            "tags": [],
            "needs_background": "light"
          }
        },
        {
          "output_type": "display_data",
          "data": {
            "image/png": "[encoded data removed]",
            "text/plain": [
              "<Figure size 432x288 with 1 Axes>"
            ]
          },
          "metadata": {
            "tags": [],
            "needs_background": "light"
          }
        },
        {
          "output_type": "display_data",
          "data": {
            "image/png": "[encoded data removed]",
            "text/plain": [
              "<Figure size 432x288 with 1 Axes>"
            ]
          },
          "metadata": {
            "tags": [],
            "needs_background": "light"
          }
        },
        {
          "output_type": "display_data",
          "data": {
            "image/png": "[encoded data removed]",
            "text/plain": [
              "<Figure size 432x288 with 1 Axes>"
            ]
          },
          "metadata": {
            "tags": [],
            "needs_background": "light"
          }
        },
        {
          "output_type": "display_data",
          "data": {
            "image/png": "[encoded data removed]",
            "text/plain": [
              "<Figure size 432x288 with 1 Axes>"
            ]
          },
          "metadata": {
            "tags": [],
            "needs_background": "light"
          }
        },
        {
          "output_type": "display_data",
          "data": {
            "image/png": "[encoded data removed]",
            "text/plain": [
              "<Figure size 432x288 with 1 Axes>"
            ]
          },
          "metadata": {
            "tags": [],
            "needs_background": "light"
          }
        },
        {
          "output_type": "display_data",
          "data": {
            "image/png": "[encoded data removed]",
            "text/plain": [
              "<Figure size 432x288 with 1 Axes>"
            ]
          },
          "metadata": {
            "tags": [],
            "needs_background": "light"
          }
        },
        {
          "output_type": "display_data",
          "data": {
            "image/png": "[encoded data removed]",
            "text/plain": [
              "<Figure size 432x288 with 1 Axes>"
            ]
          },
          "metadata": {
            "tags": [],
            "needs_background": "light"
          }
        },
        {
          "output_type": "display_data",
          "data": {
            "image/png": "[encoded data removed]",
            "text/plain": [
              "<Figure size 432x288 with 1 Axes>"
            ]
          },
          "metadata": {
            "tags": [],
            "needs_background": "light"
          }
        },
        {
          "output_type": "display_data",
          "data": {
            "image/png": "[encoded data removed]",
            "text/plain": [
              "<Figure size 432x288 with 1 Axes>"
            ]
          },
          "metadata": {
            "tags": [],
            "needs_background": "light"
          }
        },
        {
          "output_type": "display_data",
          "data": {
            "image/png": "[encoded data removed]",
            "text/plain": [
              "<Figure size 432x288 with 1 Axes>"
            ]
          },
          "metadata": {
            "tags": [],
            "needs_background": "light"
          }
        }
      ]
    },
    {
      "cell_type": "markdown",
      "metadata": {
        "id": "0aLGNJ-_yxgs",
        "colab_type": "text"
      },
      "source": [
        "**Gaussian Naive Bayes models without anonymization**"
      ]
    },
    {
      "cell_type": "code",
      "metadata": {
        "id": "m1NKbN3CK5T6",
        "colab_type": "code",
        "colab": {}
      },
      "source": [
        "result_models_df = pd.read_csv('./drive/My Drive/data_anonymization/data/result_models.csv', sep='\\t', encoding='utf-8')\n",
        "result_models_df.drop(\"Unnamed: 0\", axis=1, inplace=True)"
      ],
      "execution_count": 0,
      "outputs": []
    },
    {
      "cell_type": "code",
      "metadata": {
        "id": "b5nju4XNr-FV",
        "colab_type": "code",
        "colab": {}
      },
      "source": [
        "result_gaussian = result_models_df.drop(axis=0, index=[12,13])[[\"acc_gaussian\"]]\n",
        "result_gaussian.rename(columns={\"acc_gaussian\": \"acc(w/o anoanymization)\"}, inplace=True)"
      ],
      "execution_count": 0,
      "outputs": []
    },
    {
      "cell_type": "markdown",
      "metadata": {
        "id": "tRQw2PQszCxM",
        "colab_type": "text"
      },
      "source": [
        "**Max and Min results of Gaussian Naive Bayes models with anonymized data**"
      ]
    },
    {
      "cell_type": "code",
      "metadata": {
        "id": "pQ84t4M14H6v",
        "colab_type": "code",
        "colab": {}
      },
      "source": [
        "dict_result_gaussian = {}\n",
        "\n",
        "len_ep = len(epsilons)\n",
        "\n",
        "result_max_model_acc = []\n",
        "result_max_eps_idx = []\n",
        "result_max_eps_val = []\n",
        "result_min_model_acc = []\n",
        "result_min_eps_idx = []\n",
        "result_min_eps_val = []\n",
        "\n",
        "for k,v in acc_gaussian_diffpriv.items():\n",
        "  result_max_model_acc.append(max(v))\n",
        "  result_max_eps_idx.append(v.index(max(v)))\n",
        "  result_max_eps_val.append(round(epsilons[v.index(max(v))],2))\n",
        "\n",
        "  result_min_model_acc.append(min(v))\n",
        "  result_min_eps_idx.append(v.index(min(v)))\n",
        "  result_min_eps_val.append(round(epsilons[v.index(min(v))],2))"
      ],
      "execution_count": 0,
      "outputs": []
    },
    {
      "cell_type": "code",
      "metadata": {
        "id": "qyyWTbFfduog",
        "colab_type": "code",
        "colab": {}
      },
      "source": [
        "dict_result_gaussian = {\n",
        "  'max_acc': result_max_model_acc,\n",
        "\n",
        "  'max_epsilon': result_max_eps_val,\n",
        "  'max_epsilon_idx': result_max_eps_idx,\n",
        "\n",
        "  'min_acc': result_min_model_acc,\n",
        "  'min_epsilon': result_min_eps_val,\n",
        "  'min_epsilon_idx': result_min_eps_idx\n",
        "  \n",
        "}\n",
        "\n",
        "df_result_gaussian = pd.DataFrame(dict_result_gaussian)"
      ],
      "execution_count": 0,
      "outputs": []
    },
    {
      "cell_type": "code",
      "metadata": {
        "id": "xU_ScMHad1O7",
        "colab_type": "code",
        "outputId": "a0c186e0-229c-4c73-857d-e88b96eaced7",
        "colab": {
          "base_uri": "https://localhost:8080/",
          "height": 472
        }
      },
      "source": [
        "#epsilons = np.logspace(-2, 2, 50)\n",
        "print(\"Differential Privacy using Gaussian Naive Bayes\")\n",
        "print(\"Number of epsilon index: \", len(epsilons))\n",
        "print(\"Epsilon range: \", min(epsilons), \" ~ \", max(epsilons))\n",
        "df_result_gaussian"
      ],
      "execution_count": 0,
      "outputs": [
        {
          "output_type": "stream",
          "text": [
            "Differential Privacy using Gaussian Naive Bayes\n",
            "Number of epsilon index:  50\n",
            "Epsilon range:  0.01  ~  100.0\n"
          ],
          "name": "stdout"
        },
        {
          "output_type": "execute_result",
          "data": {
            "text/html": [
              "<div>\n",
              "<style scoped>\n",
              "    .dataframe tbody tr th:only-of-type {\n",
              "        vertical-align: middle;\n",
              "    }\n",
              "\n",
              "    .dataframe tbody tr th {\n",
              "        vertical-align: top;\n",
              "    }\n",
              "\n",
              "    .dataframe thead th {\n",
              "        text-align: right;\n",
              "    }\n",
              "</style>\n",
              "<table border=\"1\" class=\"dataframe\">\n",
              "  <thead>\n",
              "    <tr style=\"text-align: right;\">\n",
              "      <th></th>\n",
              "      <th>max_acc</th>\n",
              "      <th>max_epsilon</th>\n",
              "      <th>max_epsilon_idx</th>\n",
              "      <th>min_acc</th>\n",
              "      <th>min_epsilon</th>\n",
              "      <th>min_epsilon_idx</th>\n",
              "    </tr>\n",
              "  </thead>\n",
              "  <tbody>\n",
              "    <tr>\n",
              "      <th>0</th>\n",
              "      <td>79.78</td>\n",
              "      <td>18.42</td>\n",
              "      <td>40</td>\n",
              "      <td>23.03</td>\n",
              "      <td>0.04</td>\n",
              "      <td>8</td>\n",
              "    </tr>\n",
              "    <tr>\n",
              "      <th>1</th>\n",
              "      <td>80.90</td>\n",
              "      <td>0.29</td>\n",
              "      <td>18</td>\n",
              "      <td>35.96</td>\n",
              "      <td>0.01</td>\n",
              "      <td>2</td>\n",
              "    </tr>\n",
              "    <tr>\n",
              "      <th>2</th>\n",
              "      <td>83.15</td>\n",
              "      <td>2.33</td>\n",
              "      <td>29</td>\n",
              "      <td>35.39</td>\n",
              "      <td>0.01</td>\n",
              "      <td>2</td>\n",
              "    </tr>\n",
              "    <tr>\n",
              "      <th>3</th>\n",
              "      <td>79.78</td>\n",
              "      <td>0.36</td>\n",
              "      <td>19</td>\n",
              "      <td>41.01</td>\n",
              "      <td>0.02</td>\n",
              "      <td>3</td>\n",
              "    </tr>\n",
              "    <tr>\n",
              "      <th>4</th>\n",
              "      <td>81.46</td>\n",
              "      <td>3.39</td>\n",
              "      <td>31</td>\n",
              "      <td>40.45</td>\n",
              "      <td>0.01</td>\n",
              "      <td>2</td>\n",
              "    </tr>\n",
              "    <tr>\n",
              "      <th>5</th>\n",
              "      <td>76.40</td>\n",
              "      <td>1.60</td>\n",
              "      <td>27</td>\n",
              "      <td>35.96</td>\n",
              "      <td>0.01</td>\n",
              "      <td>2</td>\n",
              "    </tr>\n",
              "    <tr>\n",
              "      <th>6</th>\n",
              "      <td>81.46</td>\n",
              "      <td>15.26</td>\n",
              "      <td>39</td>\n",
              "      <td>22.47</td>\n",
              "      <td>0.02</td>\n",
              "      <td>4</td>\n",
              "    </tr>\n",
              "    <tr>\n",
              "      <th>7</th>\n",
              "      <td>83.15</td>\n",
              "      <td>0.17</td>\n",
              "      <td>15</td>\n",
              "      <td>17.98</td>\n",
              "      <td>0.02</td>\n",
              "      <td>4</td>\n",
              "    </tr>\n",
              "    <tr>\n",
              "      <th>8</th>\n",
              "      <td>80.34</td>\n",
              "      <td>7.20</td>\n",
              "      <td>35</td>\n",
              "      <td>34.83</td>\n",
              "      <td>0.03</td>\n",
              "      <td>6</td>\n",
              "    </tr>\n",
              "    <tr>\n",
              "      <th>9</th>\n",
              "      <td>79.78</td>\n",
              "      <td>0.63</td>\n",
              "      <td>22</td>\n",
              "      <td>31.46</td>\n",
              "      <td>0.02</td>\n",
              "      <td>4</td>\n",
              "    </tr>\n",
              "    <tr>\n",
              "      <th>10</th>\n",
              "      <td>79.78</td>\n",
              "      <td>0.20</td>\n",
              "      <td>16</td>\n",
              "      <td>23.03</td>\n",
              "      <td>0.03</td>\n",
              "      <td>6</td>\n",
              "    </tr>\n",
              "    <tr>\n",
              "      <th>11</th>\n",
              "      <td>86.52</td>\n",
              "      <td>4.09</td>\n",
              "      <td>32</td>\n",
              "      <td>22.47</td>\n",
              "      <td>0.05</td>\n",
              "      <td>9</td>\n",
              "    </tr>\n",
              "  </tbody>\n",
              "</table>\n",
              "</div>"
            ],
            "text/plain": [
              "    max_acc  max_epsilon  ...  min_epsilon  min_epsilon_idx\n",
              "0     79.78        18.42  ...         0.04                8\n",
              "1     80.90         0.29  ...         0.01                2\n",
              "2     83.15         2.33  ...         0.01                2\n",
              "3     79.78         0.36  ...         0.02                3\n",
              "4     81.46         3.39  ...         0.01                2\n",
              "5     76.40         1.60  ...         0.01                2\n",
              "6     81.46        15.26  ...         0.02                4\n",
              "7     83.15         0.17  ...         0.02                4\n",
              "8     80.34         7.20  ...         0.03                6\n",
              "9     79.78         0.63  ...         0.02                4\n",
              "10    79.78         0.20  ...         0.03                6\n",
              "11    86.52         4.09  ...         0.05                9\n",
              "\n",
              "[12 rows x 6 columns]"
            ]
          },
          "metadata": {
            "tags": []
          },
          "execution_count": 98
        }
      ]
    },
    {
      "cell_type": "code",
      "metadata": {
        "id": "zI7BooXvX2q-",
        "colab_type": "code",
        "outputId": "fd74138c-6fdd-423e-902b-578b697ff5c9",
        "colab": {
          "base_uri": "https://localhost:8080/",
          "height": 421
        }
      },
      "source": [
        "result_gaussian['max_acc'] = result_max_model_acc\n",
        "result_gaussian['min_acc'] = result_min_model_acc\n",
        "result_gaussian"
      ],
      "execution_count": 0,
      "outputs": [
        {
          "output_type": "execute_result",
          "data": {
            "text/html": [
              "<div>\n",
              "<style scoped>\n",
              "    .dataframe tbody tr th:only-of-type {\n",
              "        vertical-align: middle;\n",
              "    }\n",
              "\n",
              "    .dataframe tbody tr th {\n",
              "        vertical-align: top;\n",
              "    }\n",
              "\n",
              "    .dataframe thead th {\n",
              "        text-align: right;\n",
              "    }\n",
              "</style>\n",
              "<table border=\"1\" class=\"dataframe\">\n",
              "  <thead>\n",
              "    <tr style=\"text-align: right;\">\n",
              "      <th></th>\n",
              "      <th>acc(w/o anoanymization)</th>\n",
              "      <th>max_acc</th>\n",
              "      <th>min_acc</th>\n",
              "    </tr>\n",
              "  </thead>\n",
              "  <tbody>\n",
              "    <tr>\n",
              "      <th>0</th>\n",
              "      <td>79.78</td>\n",
              "      <td>79.78</td>\n",
              "      <td>23.03</td>\n",
              "    </tr>\n",
              "    <tr>\n",
              "      <th>1</th>\n",
              "      <td>78.65</td>\n",
              "      <td>80.90</td>\n",
              "      <td>35.96</td>\n",
              "    </tr>\n",
              "    <tr>\n",
              "      <th>2</th>\n",
              "      <td>79.78</td>\n",
              "      <td>83.15</td>\n",
              "      <td>35.39</td>\n",
              "    </tr>\n",
              "    <tr>\n",
              "      <th>3</th>\n",
              "      <td>80.34</td>\n",
              "      <td>79.78</td>\n",
              "      <td>41.01</td>\n",
              "    </tr>\n",
              "    <tr>\n",
              "      <th>4</th>\n",
              "      <td>78.09</td>\n",
              "      <td>81.46</td>\n",
              "      <td>40.45</td>\n",
              "    </tr>\n",
              "    <tr>\n",
              "      <th>5</th>\n",
              "      <td>81.46</td>\n",
              "      <td>76.40</td>\n",
              "      <td>35.96</td>\n",
              "    </tr>\n",
              "    <tr>\n",
              "      <th>6</th>\n",
              "      <td>74.72</td>\n",
              "      <td>81.46</td>\n",
              "      <td>22.47</td>\n",
              "    </tr>\n",
              "    <tr>\n",
              "      <th>7</th>\n",
              "      <td>78.09</td>\n",
              "      <td>83.15</td>\n",
              "      <td>17.98</td>\n",
              "    </tr>\n",
              "    <tr>\n",
              "      <th>8</th>\n",
              "      <td>81.46</td>\n",
              "      <td>80.34</td>\n",
              "      <td>34.83</td>\n",
              "    </tr>\n",
              "    <tr>\n",
              "      <th>9</th>\n",
              "      <td>73.60</td>\n",
              "      <td>79.78</td>\n",
              "      <td>31.46</td>\n",
              "    </tr>\n",
              "    <tr>\n",
              "      <th>10</th>\n",
              "      <td>74.72</td>\n",
              "      <td>79.78</td>\n",
              "      <td>23.03</td>\n",
              "    </tr>\n",
              "    <tr>\n",
              "      <th>11</th>\n",
              "      <td>83.71</td>\n",
              "      <td>86.52</td>\n",
              "      <td>22.47</td>\n",
              "    </tr>\n",
              "  </tbody>\n",
              "</table>\n",
              "</div>"
            ],
            "text/plain": [
              "    acc(w/o anoanymization)  max_acc  min_acc\n",
              "0                     79.78    79.78    23.03\n",
              "1                     78.65    80.90    35.96\n",
              "2                     79.78    83.15    35.39\n",
              "3                     80.34    79.78    41.01\n",
              "4                     78.09    81.46    40.45\n",
              "5                     81.46    76.40    35.96\n",
              "6                     74.72    81.46    22.47\n",
              "7                     78.09    83.15    17.98\n",
              "8                     81.46    80.34    34.83\n",
              "9                     73.60    79.78    31.46\n",
              "10                    74.72    79.78    23.03\n",
              "11                    83.71    86.52    22.47"
            ]
          },
          "metadata": {
            "tags": []
          },
          "execution_count": 99
        }
      ]
    },
    {
      "cell_type": "markdown",
      "metadata": {
        "id": "EHyfFyXVNe5g",
        "colab_type": "text"
      },
      "source": [
        "### **Control Privacy Level**\n",
        "\n",
        "We may want the model accuracy in a certain level to keep epsilon value as small as possible (i.e., privacy is preserved).\n"
      ]
    },
    {
      "cell_type": "code",
      "metadata": {
        "id": "gVOnK-wDDNnv",
        "colab_type": "code",
        "colab": {}
      },
      "source": [
        "def getModelsAbovePct(diff_models, pct):\n",
        "  data_idx = []\n",
        "  model_acc = []\n",
        "  eps_idx = []\n",
        "  eps_val = []\n",
        "\n",
        "  print(\"Models above above the accuracy percent:\", pct, \"%\")\n",
        "  for k,v in diff_models.items(): #for 0~11 dataset: acc_gaussian_diffpriv, list of accuracy for 50 different epsilon models: v\n",
        "    isSatisfied = False\n",
        "    for e in v: #for each dataset: v, model accuracy of each model e\n",
        "      if e >= pct:\n",
        "        data_idx.append(k)\n",
        "        model_acc.append(e)\n",
        "        eps_idx.append(v.index(e))\n",
        "        eps_val.append(round(epsilons[v.index(e)],2))\n",
        "\n",
        "        #print(k, round(epsilons[v.index(e)],2))\n",
        "        isSatisfied = True\n",
        "        break\n",
        "    if isSatisfied == False:\n",
        "      print(\"data_index\", k, \": No model exist above the accuracy percent:\", pct, \"%\")\n",
        "\n",
        "\n",
        "  dict_model_pct = {\n",
        "      \"data_index\": data_idx,\n",
        "      \"model_acc\": model_acc,\n",
        "      \"epsilon\":  eps_val, \n",
        "      \"epsilon_idx\": eps_idx\n",
        "  }\n",
        "\n",
        "  df_model_pct = pd.DataFrame(dict_model_pct)\n",
        "  return df_model_pct"
      ],
      "execution_count": 0,
      "outputs": []
    },
    {
      "cell_type": "markdown",
      "metadata": {
        "id": "z4bNfyhiPlZW",
        "colab_type": "text"
      },
      "source": [
        "For example, let's say we want the model accuracy above 80%.\n",
        "\n",
        "In each dataset, the results retreive the model with smallest epsilon value.\n",
        "There can be the data that has no model above the specified accuracy.\n",
        "\n",
        "The epsilon values ranges from 0.24 to 7.20.\n",
        "\n",
        "The highest accuracy using Gaussian Naive Bayes model is 82.02.\n",
        "The two models with index 2 and 7 produces the highest result.\n",
        "**Here, we choose the model with index 7 because its epsilon is smaller** than the model with index 2 (0.03 < 1.33).  \n",
        "**The epsilon value gets smaller, the more privacy is preserved.**"
      ]
    },
    {
      "cell_type": "code",
      "metadata": {
        "id": "0FCmw7JDPUd2",
        "colab_type": "code",
        "outputId": "db649347-cda2-4b56-8f85-df3f4fcb9aaa",
        "colab": {
          "base_uri": "https://localhost:8080/",
          "height": 368
        }
      },
      "source": [
        "getModelsAbovePct(acc_gaussian_diffpriv, 80)"
      ],
      "execution_count": 0,
      "outputs": [
        {
          "output_type": "stream",
          "text": [
            "Models above above the accuracy percent: 80 %\n",
            "data_index 0 : No model exist above the accuracy percent: 80 %\n",
            "data_index 3 : No model exist above the accuracy percent: 80 %\n",
            "data_index 5 : No model exist above the accuracy percent: 80 %\n",
            "data_index 9 : No model exist above the accuracy percent: 80 %\n",
            "data_index 10 : No model exist above the accuracy percent: 80 %\n"
          ],
          "name": "stdout"
        },
        {
          "output_type": "execute_result",
          "data": {
            "text/html": [
              "<div>\n",
              "<style scoped>\n",
              "    .dataframe tbody tr th:only-of-type {\n",
              "        vertical-align: middle;\n",
              "    }\n",
              "\n",
              "    .dataframe tbody tr th {\n",
              "        vertical-align: top;\n",
              "    }\n",
              "\n",
              "    .dataframe thead th {\n",
              "        text-align: right;\n",
              "    }\n",
              "</style>\n",
              "<table border=\"1\" class=\"dataframe\">\n",
              "  <thead>\n",
              "    <tr style=\"text-align: right;\">\n",
              "      <th></th>\n",
              "      <th>data_index</th>\n",
              "      <th>model_acc</th>\n",
              "      <th>epsilon</th>\n",
              "      <th>epsilon_idx</th>\n",
              "    </tr>\n",
              "  </thead>\n",
              "  <tbody>\n",
              "    <tr>\n",
              "      <th>0</th>\n",
              "      <td>1</td>\n",
              "      <td>80.34</td>\n",
              "      <td>0.24</td>\n",
              "      <td>17</td>\n",
              "    </tr>\n",
              "    <tr>\n",
              "      <th>1</th>\n",
              "      <td>2</td>\n",
              "      <td>82.02</td>\n",
              "      <td>1.33</td>\n",
              "      <td>26</td>\n",
              "    </tr>\n",
              "    <tr>\n",
              "      <th>2</th>\n",
              "      <td>4</td>\n",
              "      <td>80.34</td>\n",
              "      <td>0.52</td>\n",
              "      <td>21</td>\n",
              "    </tr>\n",
              "    <tr>\n",
              "      <th>3</th>\n",
              "      <td>6</td>\n",
              "      <td>80.34</td>\n",
              "      <td>0.52</td>\n",
              "      <td>21</td>\n",
              "    </tr>\n",
              "    <tr>\n",
              "      <th>4</th>\n",
              "      <td>7</td>\n",
              "      <td>82.02</td>\n",
              "      <td>0.03</td>\n",
              "      <td>6</td>\n",
              "    </tr>\n",
              "    <tr>\n",
              "      <th>5</th>\n",
              "      <td>8</td>\n",
              "      <td>80.34</td>\n",
              "      <td>7.20</td>\n",
              "      <td>35</td>\n",
              "    </tr>\n",
              "    <tr>\n",
              "      <th>6</th>\n",
              "      <td>11</td>\n",
              "      <td>81.46</td>\n",
              "      <td>0.03</td>\n",
              "      <td>6</td>\n",
              "    </tr>\n",
              "  </tbody>\n",
              "</table>\n",
              "</div>"
            ],
            "text/plain": [
              "   data_index  model_acc  epsilon  epsilon_idx\n",
              "0           1      80.34     0.24           17\n",
              "1           2      82.02     1.33           26\n",
              "2           4      80.34     0.52           21\n",
              "3           6      80.34     0.52           21\n",
              "4           7      82.02     0.03            6\n",
              "5           8      80.34     7.20           35\n",
              "6          11      81.46     0.03            6"
            ]
          },
          "metadata": {
            "tags": []
          },
          "execution_count": 101
        }
      ]
    },
    {
      "cell_type": "markdown",
      "metadata": {
        "id": "2Lm4tLf-_OOz",
        "colab_type": "text"
      },
      "source": [
        "## Summary\n",
        "\n",
        "Data anonymization is the process of dealing data, and it should be applied on the purpose of using data. It also requires to understand and have insights on data. From my experience and sense, data anonymization should not be automated but dealt with manually (of couse, with the aid of risk managing measures) to fit each use case of data.\n",
        "\n",
        "The privacy can be controlled by the privacy purpose of the organization/company/institution."
      ]
    },
    {
      "cell_type": "markdown",
      "metadata": {
        "id": "liYrDF6jZXzE",
        "colab_type": "text"
      },
      "source": [
        "## Reference\n",
        "\n",
        "* \"Information Privacy Engineering and Privacy by Design\", Stallings, William, Pearson Education. Kindle Edition. \n",
        "* \"Guide to basic data anonymization techniques\", Personal Data Protection Commission (PDPC) Singapore, https://www.pdpc.gov.sg/-/media/Files/PDPC/PDF-Files/Other-Guides/Guide-to-Anonymisation_v1-(250118).pdf\n",
        "* Privacy Protection https://docs.cryptonumerics.com/cn-protect-ds/?page=docs.cryptonumerics.com/cn-protect-ds-html/overview.html\n",
        "* Take charge of your data: Understanding re-identification risk and quasi-identifiers with Cloud DLP https://cloud.google.com/blog/products/identity-security/taking-charge-of-your-data-understanding-re-identification-risk-and-quasi-identifiers-with-cloud-dlp\n",
        "* Generalization and bucketing https://cloud.google.com/dlp/docs/concepts-bucketing\n",
        "* Implementations for k-anonymity and l-diversity.  \n",
        "https://github.com/SGMAP-AGD/Tools/blob/master/agd_tools/anonymization.py\n",
        "* Anonymization by imperva \n",
        "https://www.imperva.com/learn/data-security/anonymization/\n",
        "* Explaining Differential Privacy in 3 Levels of Difficulty https://aircloak.com/explaining-differential-privacy/\n",
        "* Differential privacy by Apple https://www.apple.com/privacy/docs/Differential_Privacy_Overview.pdf"
      ]
    },
    {
      "cell_type": "code",
      "metadata": {
        "id": "tPMSXJTu3wkt",
        "colab_type": "code",
        "colab": {}
      },
      "source": [
        ""
      ],
      "execution_count": 0,
      "outputs": []
    }
  ]
}