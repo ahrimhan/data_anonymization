{
  "nbformat": 4,
  "nbformat_minor": 0,
  "metadata": {
    "colab": {
      "name": "ML_titanic.ipynb",
      "provenance": [],
      "collapsed_sections": [],
      "toc_visible": true,
      "mount_file_id": "1oFUEnb2Gnto9fHy8CnnXeloM9H9G1Q6J",
      "authorship_tag": "ABX9TyMLeQNtdvwv5fEQUCP0YeCn",
      "include_colab_link": true
    },
    "kernelspec": {
      "name": "python3",
      "display_name": "Python 3"
    }
  },
  "cells": [
    {
      "cell_type": "markdown",
      "metadata": {
        "id": "view-in-github",
        "colab_type": "text"
      },
      "source": [
        "<a href=\"https://colab.research.google.com/github/ahrimhan/data_anonymization/blob/master/ML_titanic.ipynb\" target=\"_parent\"><img src=\"https://colab.research.google.com/assets/colab-badge.svg\" alt=\"Open In Colab\"/></a>"
      ]
    },
    {
      "cell_type": "markdown",
      "metadata": {
        "id": "2f5uW-CIGuzS",
        "colab_type": "text"
      },
      "source": [
        "# **Machine Learning Models Using Titanic Data**\n",
        "\n",
        "\n",
        "---"
      ]
    },
    {
      "cell_type": "markdown",
      "metadata": {
        "id": "LZuCMeFVHBrz",
        "colab_type": "text"
      },
      "source": [
        "[![Open In Colab](https://colab.research.google.com/assets/colab-badge.svg)](https://colab.research.google.com/github/ahrimhan/tree/master/data_anonymization/ML_titanic.ipynb)"
      ]
    },
    {
      "cell_type": "markdown",
      "metadata": {
        "id": "zsYO_Oksltte",
        "colab_type": "text"
      },
      "source": [
        "In this project, I aim to do hands-on-experience on de-identifying sensitive data using various anonymization techniques and observe the effects of accuracy on machine learning models.\n",
        "\n",
        "The anonymization process is exaplained and implemented [here](https://github.com/ahrimhan/anonymization/blob/master/anonymization_titanic.ipynb).\n",
        "\n",
        "We built machine learning models using classification techniques.  \n",
        "* Logistic Regression\n",
        "* Support Vector Machines (SVM)\n",
        "* Random Forest\n",
        "* Decision Tree\n",
        "* Stochastic Gradient Decent\n",
        "* Gaussian Naive Bayes\n",
        "* K-Nearest Neighbors (KNN)\n"
      ]
    },
    {
      "cell_type": "code",
      "metadata": {
        "id": "joH5H-uiGQCd",
        "colab_type": "code",
        "outputId": "997053ec-ddc8-4888-a62a-7221c36dcfd2",
        "colab": {
          "base_uri": "https://localhost:8080/",
          "height": 34
        }
      },
      "source": [
        "from google.colab import drive\n",
        "drive.mount('/content/drive')"
      ],
      "execution_count": 1,
      "outputs": [
        {
          "output_type": "stream",
          "text": [
            "Drive already mounted at /content/drive; to attempt to forcibly remount, call drive.mount(\"/content/drive\", force_remount=True).\n"
          ],
          "name": "stdout"
        }
      ]
    },
    {
      "cell_type": "code",
      "metadata": {
        "id": "m49F7UuMe_rl",
        "colab_type": "code",
        "colab": {}
      },
      "source": [
        "import numpy as np\n",
        "import pandas as pd\n",
        "import matplotlib.pyplot as plt\n",
        "%matplotlib inline"
      ],
      "execution_count": 0,
      "outputs": []
    },
    {
      "cell_type": "code",
      "metadata": {
        "id": "PAulrbKtALqG",
        "colab_type": "code",
        "colab": {}
      },
      "source": [
        "pd.set_option('display.max_columns', None)"
      ],
      "execution_count": 0,
      "outputs": []
    },
    {
      "cell_type": "code",
      "metadata": {
        "id": "FDMTdgdtn9rd",
        "colab_type": "code",
        "colab": {}
      },
      "source": [
        "from sklearn.preprocessing import LabelEncoder\n",
        "from sklearn.preprocessing import OneHotEncoder\n",
        "from sklearn.preprocessing import MinMaxScaler\n",
        "\n",
        "from sklearn.model_selection import train_test_split\n",
        "\n",
        "from sklearn.metrics import accuracy_score\n",
        "\n",
        "# machine learning models\n",
        "from sklearn.linear_model import LogisticRegression\n",
        "from sklearn.svm import SVC, LinearSVC\n",
        "from sklearn.ensemble import RandomForestClassifier\n",
        "from sklearn.neighbors import KNeighborsClassifier\n",
        "from sklearn.naive_bayes import GaussianNB\n",
        "from sklearn.linear_model import Perceptron\n",
        "from sklearn.linear_model import SGDClassifier\n",
        "from sklearn.tree import DecisionTreeClassifier"
      ],
      "execution_count": 0,
      "outputs": []
    },
    {
      "cell_type": "code",
      "metadata": {
        "id": "INlS2VMEHEHC",
        "colab_type": "code",
        "colab": {}
      },
      "source": [
        "origin_df = pd.read_csv('./drive/My Drive/data_anonymization/data/anony_org_titanic.csv', sep='\\t', encoding='utf-8')\n",
        "origin_df.drop(\"Unnamed: 0\", axis=1, inplace=True)"
      ],
      "execution_count": 0,
      "outputs": []
    },
    {
      "cell_type": "code",
      "metadata": {
        "id": "VEE1rcrpe5R4",
        "colab_type": "code",
        "outputId": "73b999df-27b6-481f-cd6b-91be820a6b3a",
        "colab": {
          "base_uri": "https://localhost:8080/",
          "height": 204
        }
      },
      "source": [
        "origin_df.head()"
      ],
      "execution_count": 6,
      "outputs": [
        {
          "output_type": "execute_result",
          "data": {
            "text/html": [
              "<div>\n",
              "<style scoped>\n",
              "    .dataframe tbody tr th:only-of-type {\n",
              "        vertical-align: middle;\n",
              "    }\n",
              "\n",
              "    .dataframe tbody tr th {\n",
              "        vertical-align: top;\n",
              "    }\n",
              "\n",
              "    .dataframe thead th {\n",
              "        text-align: right;\n",
              "    }\n",
              "</style>\n",
              "<table border=\"1\" class=\"dataframe\">\n",
              "  <thead>\n",
              "    <tr style=\"text-align: right;\">\n",
              "      <th></th>\n",
              "      <th>Survived</th>\n",
              "      <th>Pclass</th>\n",
              "      <th>Sex</th>\n",
              "      <th>Age</th>\n",
              "      <th>Fare</th>\n",
              "      <th>Embarked</th>\n",
              "      <th>Age_man_bin5</th>\n",
              "      <th>Age_man_bin8</th>\n",
              "      <th>Fare_bin3</th>\n",
              "      <th>FamilySize</th>\n",
              "      <th>FamilySize_bin</th>\n",
              "      <th>Title</th>\n",
              "    </tr>\n",
              "  </thead>\n",
              "  <tbody>\n",
              "    <tr>\n",
              "      <th>0</th>\n",
              "      <td>0</td>\n",
              "      <td>3</td>\n",
              "      <td>male</td>\n",
              "      <td>22.0</td>\n",
              "      <td>7</td>\n",
              "      <td>S</td>\n",
              "      <td>Young_Adult</td>\n",
              "      <td>21-30</td>\n",
              "      <td>Cheap</td>\n",
              "      <td>2</td>\n",
              "      <td>Small</td>\n",
              "      <td>Mr</td>\n",
              "    </tr>\n",
              "    <tr>\n",
              "      <th>1</th>\n",
              "      <td>1</td>\n",
              "      <td>1</td>\n",
              "      <td>female</td>\n",
              "      <td>38.0</td>\n",
              "      <td>71</td>\n",
              "      <td>C</td>\n",
              "      <td>Middel_Aged_Adult</td>\n",
              "      <td>31-40</td>\n",
              "      <td>Moderate</td>\n",
              "      <td>2</td>\n",
              "      <td>Small</td>\n",
              "      <td>Mrs</td>\n",
              "    </tr>\n",
              "    <tr>\n",
              "      <th>2</th>\n",
              "      <td>1</td>\n",
              "      <td>3</td>\n",
              "      <td>female</td>\n",
              "      <td>26.0</td>\n",
              "      <td>7</td>\n",
              "      <td>S</td>\n",
              "      <td>Young_Adult</td>\n",
              "      <td>21-30</td>\n",
              "      <td>Cheap</td>\n",
              "      <td>1</td>\n",
              "      <td>Alone</td>\n",
              "      <td>Miss</td>\n",
              "    </tr>\n",
              "    <tr>\n",
              "      <th>3</th>\n",
              "      <td>1</td>\n",
              "      <td>1</td>\n",
              "      <td>female</td>\n",
              "      <td>35.0</td>\n",
              "      <td>53</td>\n",
              "      <td>S</td>\n",
              "      <td>Middel_Aged_Adult</td>\n",
              "      <td>31-40</td>\n",
              "      <td>Moderate</td>\n",
              "      <td>2</td>\n",
              "      <td>Small</td>\n",
              "      <td>Mrs</td>\n",
              "    </tr>\n",
              "    <tr>\n",
              "      <th>4</th>\n",
              "      <td>0</td>\n",
              "      <td>3</td>\n",
              "      <td>male</td>\n",
              "      <td>35.0</td>\n",
              "      <td>8</td>\n",
              "      <td>S</td>\n",
              "      <td>Middel_Aged_Adult</td>\n",
              "      <td>31-40</td>\n",
              "      <td>Cheap</td>\n",
              "      <td>1</td>\n",
              "      <td>Alone</td>\n",
              "      <td>Mr</td>\n",
              "    </tr>\n",
              "  </tbody>\n",
              "</table>\n",
              "</div>"
            ],
            "text/plain": [
              "   Survived  Pclass     Sex   Age  Fare Embarked       Age_man_bin5  \\\n",
              "0         0       3    male  22.0     7        S        Young_Adult   \n",
              "1         1       1  female  38.0    71        C  Middel_Aged_Adult   \n",
              "2         1       3  female  26.0     7        S        Young_Adult   \n",
              "3         1       1  female  35.0    53        S  Middel_Aged_Adult   \n",
              "4         0       3    male  35.0     8        S  Middel_Aged_Adult   \n",
              "\n",
              "  Age_man_bin8 Fare_bin3  FamilySize FamilySize_bin Title  \n",
              "0        21-30     Cheap           2          Small    Mr  \n",
              "1        31-40  Moderate           2          Small   Mrs  \n",
              "2        21-30     Cheap           1          Alone  Miss  \n",
              "3        31-40  Moderate           2          Small   Mrs  \n",
              "4        31-40     Cheap           1          Alone    Mr  "
            ]
          },
          "metadata": {
            "tags": []
          },
          "execution_count": 6
        }
      ]
    },
    {
      "cell_type": "code",
      "metadata": {
        "id": "onKDixBkCNIh",
        "colab_type": "code",
        "outputId": "e90ed7ac-dbb6-48fd-a2a9-2af419515665",
        "colab": {
          "base_uri": "https://localhost:8080/",
          "height": 340
        }
      },
      "source": [
        "origin_df.info()"
      ],
      "execution_count": 7,
      "outputs": [
        {
          "output_type": "stream",
          "text": [
            "<class 'pandas.core.frame.DataFrame'>\n",
            "RangeIndex: 889 entries, 0 to 888\n",
            "Data columns (total 12 columns):\n",
            " #   Column          Non-Null Count  Dtype  \n",
            "---  ------          --------------  -----  \n",
            " 0   Survived        889 non-null    int64  \n",
            " 1   Pclass          889 non-null    int64  \n",
            " 2   Sex             889 non-null    object \n",
            " 3   Age             889 non-null    float64\n",
            " 4   Fare            889 non-null    int64  \n",
            " 5   Embarked        889 non-null    object \n",
            " 6   Age_man_bin5    889 non-null    object \n",
            " 7   Age_man_bin8    889 non-null    object \n",
            " 8   Fare_bin3       889 non-null    object \n",
            " 9   FamilySize      889 non-null    int64  \n",
            " 10  FamilySize_bin  889 non-null    object \n",
            " 11  Title           889 non-null    object \n",
            "dtypes: float64(1), int64(4), object(7)\n",
            "memory usage: 83.5+ KB\n"
          ],
          "name": "stdout"
        }
      ]
    },
    {
      "cell_type": "code",
      "metadata": {
        "id": "YAYmARqcCkj5",
        "colab_type": "code",
        "colab": {}
      },
      "source": [
        "origin_df['Pclass'] = origin_df[\"Pclass\"].astype(\"category\").cat.as_ordered()"
      ],
      "execution_count": 0,
      "outputs": []
    },
    {
      "cell_type": "code",
      "metadata": {
        "id": "HBf1TVLHCf2X",
        "colab_type": "code",
        "colab": {
          "base_uri": "https://localhost:8080/",
          "height": 68
        },
        "outputId": "8f2222a1-0d04-44c5-d5b9-230a58c2163b"
      },
      "source": [
        "categorical_feature = origin_df.select_dtypes(include=['category', 'object']).columns\n",
        "categorical_feature"
      ],
      "execution_count": 9,
      "outputs": [
        {
          "output_type": "execute_result",
          "data": {
            "text/plain": [
              "Index(['Pclass', 'Sex', 'Embarked', 'Age_man_bin5', 'Age_man_bin8',\n",
              "       'Fare_bin3', 'FamilySize_bin', 'Title'],\n",
              "      dtype='object')"
            ]
          },
          "metadata": {
            "tags": []
          },
          "execution_count": 9
        }
      ]
    },
    {
      "cell_type": "code",
      "metadata": {
        "id": "46HXXWjqGjWi",
        "colab_type": "code",
        "colab": {}
      },
      "source": [
        "train_df = pd.read_csv('./drive/My Drive/data_anonymization/data/anony_encod_titanic.csv', sep='\\t', encoding='utf-8')"
      ],
      "execution_count": 0,
      "outputs": []
    },
    {
      "cell_type": "code",
      "metadata": {
        "id": "mv2wMC8UfB3Z",
        "colab_type": "code",
        "outputId": "e999897b-b23b-484c-9161-2b7f1706293e",
        "colab": {
          "base_uri": "https://localhost:8080/",
          "height": 85
        }
      },
      "source": [
        "#class imbalance check\n",
        "train_df.groupby(['Survived'], as_index=False).size()"
      ],
      "execution_count": 11,
      "outputs": [
        {
          "output_type": "execute_result",
          "data": {
            "text/plain": [
              "Survived\n",
              "0    549\n",
              "1    340\n",
              "dtype: int64"
            ]
          },
          "metadata": {
            "tags": []
          },
          "execution_count": 11
        }
      ]
    },
    {
      "cell_type": "code",
      "metadata": {
        "id": "PZ1tip97jD9c",
        "colab_type": "code",
        "colab": {}
      },
      "source": [
        "train_df.drop(\"Unnamed: 0\", axis=1, inplace=True)"
      ],
      "execution_count": 0,
      "outputs": []
    },
    {
      "cell_type": "code",
      "metadata": {
        "id": "EShGPcClCHpE",
        "colab_type": "code",
        "outputId": "e7696947-ad53-4548-9ecc-5bf6a7379a81",
        "colab": {
          "base_uri": "https://localhost:8080/",
          "height": 340
        }
      },
      "source": [
        "train_df.info()"
      ],
      "execution_count": 13,
      "outputs": [
        {
          "output_type": "stream",
          "text": [
            "<class 'pandas.core.frame.DataFrame'>\n",
            "RangeIndex: 889 entries, 0 to 888\n",
            "Data columns (total 12 columns):\n",
            " #   Column          Non-Null Count  Dtype  \n",
            "---  ------          --------------  -----  \n",
            " 0   Survived        889 non-null    int64  \n",
            " 1   Pclass          889 non-null    int64  \n",
            " 2   Sex             889 non-null    int64  \n",
            " 3   Age             889 non-null    float64\n",
            " 4   Fare            889 non-null    int64  \n",
            " 5   Embarked        889 non-null    int64  \n",
            " 6   Age_man_bin5    889 non-null    int64  \n",
            " 7   Age_man_bin8    889 non-null    int64  \n",
            " 8   Fare_bin3       889 non-null    int64  \n",
            " 9   FamilySize      889 non-null    int64  \n",
            " 10  FamilySize_bin  889 non-null    int64  \n",
            " 11  Title           889 non-null    int64  \n",
            "dtypes: float64(1), int64(11)\n",
            "memory usage: 83.5 KB\n"
          ],
          "name": "stdout"
        }
      ]
    },
    {
      "cell_type": "code",
      "metadata": {
        "id": "d0bLQFMhB27j",
        "colab_type": "code",
        "colab": {}
      },
      "source": [
        "gen_df = pd.read_csv('./drive/My Drive/data_anonymization/data/anony_gen_titanic.csv', sep='\\t', encoding='utf-8')"
      ],
      "execution_count": 0,
      "outputs": []
    },
    {
      "cell_type": "code",
      "metadata": {
        "id": "yz7xCKLtB_LV",
        "colab_type": "code",
        "colab": {}
      },
      "source": [
        "gen_df.drop(\"Unnamed: 0\", axis=1, inplace=True)"
      ],
      "execution_count": 0,
      "outputs": []
    },
    {
      "cell_type": "code",
      "metadata": {
        "id": "w-_AjetDNLxy",
        "colab_type": "code",
        "colab": {
          "base_uri": "https://localhost:8080/",
          "height": 289
        },
        "outputId": "8ea04a27-6866-4fa3-d113-56e803ed3f42"
      },
      "source": [
        "gen_df.info()"
      ],
      "execution_count": 16,
      "outputs": [
        {
          "output_type": "stream",
          "text": [
            "<class 'pandas.core.frame.DataFrame'>\n",
            "RangeIndex: 1000 entries, 0 to 999\n",
            "Data columns (total 9 columns):\n",
            " #   Column          Non-Null Count  Dtype \n",
            "---  ------          --------------  ----- \n",
            " 0   Pclass          1000 non-null   int64 \n",
            " 1   Sex             1000 non-null   object\n",
            " 2   Embarked        1000 non-null   object\n",
            " 3   Age_man_bin5    1000 non-null   object\n",
            " 4   Age_man_bin8    1000 non-null   object\n",
            " 5   Fare_bin3       1000 non-null   object\n",
            " 6   FamilySize_bin  1000 non-null   object\n",
            " 7   Title           1000 non-null   object\n",
            " 8   Survived        1000 non-null   int64 \n",
            "dtypes: int64(2), object(7)\n",
            "memory usage: 70.4+ KB\n"
          ],
          "name": "stdout"
        }
      ]
    },
    {
      "cell_type": "markdown",
      "metadata": {
        "id": "2wkyaIHuodA9",
        "colab_type": "text"
      },
      "source": [
        "## **Label Encoding**"
      ]
    },
    {
      "cell_type": "markdown",
      "metadata": {
        "id": "Poc5_HS7wya5",
        "colab_type": "text"
      },
      "source": [
        "* \"anony_org_titanic.csv\" : original data\n",
        "* \"anony_encod_titanic.csv\" : encoded data\n",
        "* \"anony_gen_titanic.csv\": artificially generated data considering distribution (only for categorical data, size = 1000 rows)  \n",
        "For more detailed explanation, please see the anonymization_titanic.ipynb."
      ]
    },
    {
      "cell_type": "code",
      "metadata": {
        "id": "lfEu659bSGSW",
        "colab_type": "code",
        "colab": {}
      },
      "source": [
        "train_df[categorical_feature] = train_df[categorical_feature].astype(\"category\")\n",
        "gen_df[categorical_feature] = gen_df[categorical_feature].astype(\"category\")"
      ],
      "execution_count": 0,
      "outputs": []
    },
    {
      "cell_type": "code",
      "metadata": {
        "id": "bM7pIcKnC6Px",
        "colab_type": "code",
        "colab": {}
      },
      "source": [
        "train_df['Survived'] = train_df[\"Survived\"].astype(\"category\")\n",
        "gen_df['Survived'] = gen_df[\"Survived\"].astype(\"category\")"
      ],
      "execution_count": 0,
      "outputs": []
    },
    {
      "cell_type": "code",
      "metadata": {
        "id": "211M5-_qRxSM",
        "colab_type": "code",
        "colab": {
          "base_uri": "https://localhost:8080/",
          "height": 289
        },
        "outputId": "336f4781-cf67-45b5-80bc-f1031171286f"
      },
      "source": [
        "gen_df.info()"
      ],
      "execution_count": 19,
      "outputs": [
        {
          "output_type": "stream",
          "text": [
            "<class 'pandas.core.frame.DataFrame'>\n",
            "RangeIndex: 1000 entries, 0 to 999\n",
            "Data columns (total 9 columns):\n",
            " #   Column          Non-Null Count  Dtype   \n",
            "---  ------          --------------  -----   \n",
            " 0   Pclass          1000 non-null   category\n",
            " 1   Sex             1000 non-null   category\n",
            " 2   Embarked        1000 non-null   category\n",
            " 3   Age_man_bin5    1000 non-null   category\n",
            " 4   Age_man_bin8    1000 non-null   category\n",
            " 5   Fare_bin3       1000 non-null   category\n",
            " 6   FamilySize_bin  1000 non-null   category\n",
            " 7   Title           1000 non-null   category\n",
            " 8   Survived        1000 non-null   category\n",
            "dtypes: category(9)\n",
            "memory usage: 10.3 KB\n"
          ],
          "name": "stdout"
        }
      ]
    },
    {
      "cell_type": "code",
      "metadata": {
        "id": "Oxq-TUYAXB-n",
        "colab_type": "code",
        "colab": {}
      },
      "source": [
        "lab = LabelEncoder()"
      ],
      "execution_count": 0,
      "outputs": []
    },
    {
      "cell_type": "code",
      "metadata": {
        "id": "IYj8fi0xXPov",
        "colab_type": "code",
        "colab": {}
      },
      "source": [
        "Y_gen = gen_df[\"Survived\"]"
      ],
      "execution_count": 0,
      "outputs": []
    },
    {
      "cell_type": "code",
      "metadata": {
        "id": "0bAKstd3X0b3",
        "colab_type": "code",
        "colab": {}
      },
      "source": [
        "gen_df.drop(\"Survived\", axis=1, inplace=True)"
      ],
      "execution_count": 0,
      "outputs": []
    },
    {
      "cell_type": "code",
      "metadata": {
        "id": "btY33R1RYFfn",
        "colab_type": "code",
        "colab": {}
      },
      "source": [
        "X_gen_lab = gen_df.apply(lab.fit_transform)"
      ],
      "execution_count": 0,
      "outputs": []
    },
    {
      "cell_type": "code",
      "metadata": {
        "id": "bA2ydPJ2YofS",
        "colab_type": "code",
        "colab": {}
      },
      "source": [
        "ohe = OneHotEncoder()"
      ],
      "execution_count": 0,
      "outputs": []
    },
    {
      "cell_type": "code",
      "metadata": {
        "id": "S4vgeMmuZGs3",
        "colab_type": "code",
        "colab": {}
      },
      "source": [
        "X_gen_ohe = ohe.fit_transform(gen_df)"
      ],
      "execution_count": 0,
      "outputs": []
    },
    {
      "cell_type": "markdown",
      "metadata": {
        "id": "fSjoKAFloNMf",
        "colab_type": "text"
      },
      "source": [
        "## **Classification Machine Learning Models**"
      ]
    },
    {
      "cell_type": "code",
      "metadata": {
        "id": "3DO1Pus5mVPI",
        "colab_type": "code",
        "colab": {}
      },
      "source": [
        "# classification models\n",
        "\n",
        "# Logistic Regression\n",
        "logreg = LogisticRegression(random_state=42, max_iter=1000)\n",
        "\n",
        "# Support Vector Machines (SVM)\n",
        "svc = SVC()\n",
        "\n",
        "# Random Forest\n",
        "random_forest = RandomForestClassifier(n_estimators=100)\n",
        "\n",
        "# Decision Tree\n",
        "decision_tree = DecisionTreeClassifier()\n",
        "\n",
        "# Stochastic Gradient Descent\n",
        "sgd = SGDClassifier()\n",
        "\n",
        "# Gaussian Naive Bayes\n",
        "gaussian = GaussianNB()\n",
        "\n",
        "# K-Nearest Neighbors (KNN)\n",
        "knn = KNeighborsClassifier(n_neighbors = 3)"
      ],
      "execution_count": 0,
      "outputs": []
    },
    {
      "cell_type": "code",
      "metadata": {
        "id": "pdJaTiRJrEGD",
        "colab_type": "code",
        "colab": {}
      },
      "source": [
        "#\"acc_x\": measured using testing data with x model\n",
        "#\"acc_x_score\": measured using training data with x model\n",
        "\n",
        "# Logistic Regression\n",
        "acc_log = [] #accuracy_score(Y_pred, Y_test)\n",
        "acc_log_score = [] #logreg.score(X_train, Y_train)\n",
        "\n",
        "# Support Vector Machines (SVM)\n",
        "acc_svc = []\n",
        "acc_svc_score = []\n",
        "\n",
        "# Random Forest\n",
        "acc_random_forest = []\n",
        "acc_random_forest_score = []\n",
        "\n",
        "# Decision Tree\n",
        "acc_decision_tree = []\n",
        "acc_decision_tree_score = []\n",
        "\n",
        "# Stochastic Gradient Decent\n",
        "acc_sgd = []\n",
        "acc_sgd_score = []\n",
        "\n",
        "# Gaussian Naive Bayes\n",
        "acc_gaussian = []\n",
        "acc_gaussian_score = []\n",
        "\n",
        "# K-Nearest Neighbors (KNN)\n",
        "acc_knn = [] \n",
        "acc_knn_score = []"
      ],
      "execution_count": 0,
      "outputs": []
    },
    {
      "cell_type": "code",
      "metadata": {
        "id": "8eILGWf28_jI",
        "colab_type": "code",
        "colab": {}
      },
      "source": [
        "def getLogReg(X_train, X_test, Y_train, Y_test):\n",
        "  logreg.fit(X_train, Y_train)\n",
        "  Y_pred = logreg.predict(X_test)\n",
        "  # acc_log.append(round(logreg.score(X_test, Y_test) * 100, 2)) #same with accuracy_score(Y_pred, Y_test)\n",
        "  acc_log.append(round(accuracy_score(Y_pred, Y_test) * 100, 2))\n",
        "  acc_log_score.append(round(logreg.score(X_train, Y_train) * 100, 2))"
      ],
      "execution_count": 0,
      "outputs": []
    },
    {
      "cell_type": "code",
      "metadata": {
        "id": "S2h3EqPw2iDi",
        "colab_type": "code",
        "colab": {}
      },
      "source": [
        "def getSVC(X_train, X_test, Y_train, Y_test):\n",
        "  svc.fit(X_train, Y_train)\n",
        "  Y_pred = svc.predict(X_test)\n",
        "  acc_svc.append(round(accuracy_score(Y_pred, Y_test) * 100, 2))\n",
        "  acc_svc_score.append(round(svc.score(X_train, Y_train) * 100, 2))"
      ],
      "execution_count": 0,
      "outputs": []
    },
    {
      "cell_type": "code",
      "metadata": {
        "id": "XwIqPiN8r0oS",
        "colab_type": "code",
        "colab": {}
      },
      "source": [
        "def getRandomForest(X_train, X_test, Y_train, Y_test):\n",
        "  random_forest.fit(X_train, Y_train)\n",
        "  Y_pred = random_forest.predict(X_test)\n",
        "  acc_random_forest.append(round(accuracy_score(Y_pred, Y_test) * 100, 2))\n",
        "  acc_random_forest_score.append(round(random_forest.score(X_train, Y_train) * 100, 2))"
      ],
      "execution_count": 0,
      "outputs": []
    },
    {
      "cell_type": "code",
      "metadata": {
        "id": "MwpRkYTxyGrm",
        "colab_type": "code",
        "colab": {}
      },
      "source": [
        "def getDecisionTree(X_train, X_test, Y_train, Y_test):\n",
        "  decision_tree.fit(X_train, Y_train)\n",
        "  Y_pred = decision_tree.predict(X_test)\n",
        "  acc_decision_tree.append(round(accuracy_score(Y_pred, Y_test) * 100, 2))\n",
        "  acc_decision_tree_score.append(round(decision_tree.score(X_train, Y_train) * 100, 2))"
      ],
      "execution_count": 0,
      "outputs": []
    },
    {
      "cell_type": "code",
      "metadata": {
        "id": "wrwTNRcAyNaq",
        "colab_type": "code",
        "colab": {}
      },
      "source": [
        "def getStochasticGradientDescent(X_train, X_test, Y_train, Y_test):\n",
        "  sgd.fit(X_train, Y_train)\n",
        "  Y_pred = sgd.predict(X_test)\n",
        "  acc_sgd.append(round(accuracy_score(Y_pred, Y_test) * 100, 2))\n",
        "  acc_sgd_score.append(round(sgd.score(X_train, Y_train) * 100, 2))"
      ],
      "execution_count": 0,
      "outputs": []
    },
    {
      "cell_type": "code",
      "metadata": {
        "id": "fi9NFdHjyUH1",
        "colab_type": "code",
        "colab": {}
      },
      "source": [
        "def getGaussianNaiveBayes(X_train, X_test, Y_train, Y_test):\n",
        "  gaussian.fit(X_train, Y_train)\n",
        "  Y_pred = gaussian.predict(X_test)\n",
        "  acc_gaussian.append(round(accuracy_score(Y_pred, Y_test) * 100, 2))\n",
        "  acc_gaussian_score.append(round(gaussian.score(X_train, Y_train) * 100, 2))"
      ],
      "execution_count": 0,
      "outputs": []
    },
    {
      "cell_type": "code",
      "metadata": {
        "id": "goDNK-RG-b5J",
        "colab_type": "code",
        "colab": {}
      },
      "source": [
        "def getKNN(X_train, X_test, Y_train, Y_test, scaler_bool=False):\n",
        "\n",
        "  if(scaler_bool == True):\n",
        "    scaler = MinMaxScaler()\n",
        "    scaler.fit(X_train)\n",
        "\n",
        "    X_train = scaler.transform(X_train)\n",
        "    X_test = scaler.transform(X_test)\n",
        "  \n",
        "  knn.fit(X_train, Y_train)\n",
        "  Y_pred = knn.predict(X_test)\n",
        "  acc_knn.append(round(accuracy_score(Y_pred, Y_test) * 100, 2))\n",
        "  acc_knn_score.append(round(knn.score(X_train, Y_train) * 100, 2))"
      ],
      "execution_count": 0,
      "outputs": []
    },
    {
      "cell_type": "code",
      "metadata": {
        "id": "tswTkF6UX-OF",
        "colab_type": "code",
        "colab": {}
      },
      "source": [
        "def buildClfModels(X_train, X_test, Y_train, Y_test):\n",
        "  # X_train, X_test, Y_train, Y_test = train_test_split(X, Y, test_size)\n",
        "\n",
        "  # print(\"Training data size:\", X_train.shape[0])\n",
        "  # print(\"Testing data size:\", X_test.shape[0])\n",
        "\n",
        "  #Logistic Regression\n",
        "  getLogReg(X_train, X_test, Y_train, Y_test)\n",
        "\n",
        "  # Support Vector Machines (SVM)\n",
        "  getSVC(X_train, X_test, Y_train, Y_test)\n",
        "\n",
        "  # Random Forest\n",
        "  getRandomForest(X_train, X_test, Y_train, Y_test)\n",
        "\n",
        "  # Decision Tree\n",
        "  getDecisionTree(X_train, X_test, Y_train, Y_test)\n",
        "\n",
        "  # Stochastic Gradient Decent\n",
        "  getStochasticGradientDescent(X_train, X_test, Y_train, Y_test)\n",
        "\n",
        "  # Gaussian Naive Bayes\n",
        "  getGaussianNaiveBayes(X_train, X_test, Y_train, Y_test)\n",
        "\n",
        "  # #k-Nearest Neighbors algorithm\n",
        "  getKNN(X_train, X_test, Y_train, Y_test, scaler_bool=True)"
      ],
      "execution_count": 0,
      "outputs": []
    },
    {
      "cell_type": "markdown",
      "metadata": {
        "id": "4sDqH7rc-cmV",
        "colab_type": "text"
      },
      "source": [
        "## **Data Set**"
      ]
    },
    {
      "cell_type": "markdown",
      "metadata": {
        "id": "ZaYr87oCtaQ4",
        "colab_type": "text"
      },
      "source": [
        "Due to the anonmymization level, we have transformed the features (e.g., \"Age\", \"Fare\", and \"Familysize\") of the numerical data to fine-grained/coarse-grained levels of categorical data."
      ]
    },
    {
      "cell_type": "code",
      "metadata": {
        "id": "pmx94_9llbQt",
        "colab_type": "code",
        "colab": {}
      },
      "source": [
        "age = [\"Age\", \"Age_man_bin8\", \"Age_man_bin5\"]\n",
        "fare = [\"Fare\", \"Fare_bin3\"]\n",
        "familysize = [\"FamilySize\", \"FamilySize_bin\"]"
      ],
      "execution_count": 0,
      "outputs": []
    },
    {
      "cell_type": "markdown",
      "metadata": {
        "id": "2zsipTdOuUyW",
        "colab_type": "text"
      },
      "source": [
        "The following features remain same and we call them as basic features: ['Pclass', 'Sex', 'Embarked', 'Title']."
      ]
    },
    {
      "cell_type": "code",
      "metadata": {
        "id": "5_SV4yElDDo7",
        "colab_type": "code",
        "colab": {}
      },
      "source": [
        "X_basic = train_df.drop([\"Survived\"]+ age + fare + familysize, axis=1)"
      ],
      "execution_count": 0,
      "outputs": []
    },
    {
      "cell_type": "code",
      "metadata": {
        "id": "w-dBPIZIBMgy",
        "colab_type": "code",
        "colab": {
          "base_uri": "https://localhost:8080/",
          "height": 34
        },
        "outputId": "e5e6da0b-9aac-45cc-f08f-0ec29b60af4e"
      },
      "source": [
        "X_basic.columns.values"
      ],
      "execution_count": 38,
      "outputs": [
        {
          "output_type": "execute_result",
          "data": {
            "text/plain": [
              "array(['Pclass', 'Sex', 'Embarked', 'Title'], dtype=object)"
            ]
          },
          "metadata": {
            "tags": []
          },
          "execution_count": 38
        }
      ]
    },
    {
      "cell_type": "markdown",
      "metadata": {
        "id": "EibVz1u-O-NK",
        "colab_type": "text"
      },
      "source": [
        "For each data, there is 889 rows and 7 columns.\n",
        "* Total 889 rows: training (711) + testing (178)\n",
        "* Total 7 columns: ['Pclass', 'Sex', 'Embarked', 'Title'] +  variations of [age, fare, familysize]"
      ]
    },
    {
      "cell_type": "code",
      "metadata": {
        "id": "D8AuaczqC2TT",
        "colab_type": "code",
        "colab": {}
      },
      "source": [
        "X = X_basic.copy()\n",
        "Y = train_df[\"Survived\"]"
      ],
      "execution_count": 0,
      "outputs": []
    },
    {
      "cell_type": "code",
      "metadata": {
        "id": "IzJrWLapSgqt",
        "colab_type": "code",
        "colab": {}
      },
      "source": [
        "data_index_dict = {}\n",
        "data_all_index_dict = {}\n",
        "\n",
        "i = 0\n",
        "for c in fare: \n",
        "  X[c] = train_df[c]\n",
        "\n",
        "  for c1 in familysize:\n",
        "    X[c1] = train_df[c1]\n",
        "\n",
        "    for c2 in age:\n",
        "      X[c2] = train_df[c2]\n",
        "      # data index dictionary (variations of Age, Fare, and FamilySize)\n",
        "      data_index_dict[i] = X.columns.drop(X_basic.columns).values\n",
        "      data_all_index_dict[i] = X.columns.values\n",
        "      i+=1\n",
        "      X_train, X_test, Y_train, Y_test = train_test_split(X, Y, test_size=0.2)  #split train data 80% and test data 20%\n",
        "\n",
        "      # print(\"Training data size:\", X_train.shape[0])\n",
        "      # print(\"Testing data size:\", X_test.shape[0])\n",
        "\n",
        "      buildClfModels(X_train, X_test, Y_train, Y_test)\n",
        "      X = X.drop(c2, axis=1)\n",
        "    \n",
        "    X = X.drop(c1, axis=1)\n",
        "  X = X.drop(c, axis=1)"
      ],
      "execution_count": 0,
      "outputs": []
    },
    {
      "cell_type": "markdown",
      "metadata": {
        "id": "EPz2lj_L7fva",
        "colab_type": "text"
      },
      "source": [
        "**12 different data set.**    \n",
        "For each data, one type of feature is chosen from \"Age\", \"Fare\", and \"Familysize\" in addition to the basic features 'Pclass', 'Sex', 'Embarked', 'Title'.\n",
        "\n",
        "The following number indicates the index of dataset (`data_index_dict`).\n",
        "The upper dataset is more accurate, and the lower data is more abstracted (or more anonymized and categorized).\n",
        "\n",
        "* All numeric features: 0\n",
        "* Two numeric and one anonymized features: 1 < 2, 3, 6\n",
        "* One numeric and two anonymized features: 4 < 5, 7 < 8, 9\n",
        "* All anonymized features: 10 < 11\n",
        "\n",
        "**Please note that even though at the same level of numeric and anonymized features, there exists the difference abstraction.**\n",
        "\n",
        "For example, features of dataset are as follows.  \n",
        "dataset 1: ['Pclass', 'Sex', 'Embarked', 'Title', 'Fare', 'FamilySize', **'Age_man_bin8'**] and  \n",
        "dataset 2: ['Pclass', 'Sex', 'Embarked', 'Title', 'Fare', 'FamilySize', **'Age_man_bin5'**].  \n",
        "The all features are same except 'Age_man_bin8' and 'Age_man_bin5'.\n",
        "'Age_man_bin8' has splitted age ranges into 8 while 'Age_man_bin5' cut into 5. In other words, **'Age_man_bin5' has more larger age ranges in each bucket than 'Age_man_bin8'; therefore it can be regarded as to the generalization of 'Age_man_bin5' is more abstracted (lost data) than the one for 'Age_man_bin8'.**\n",
        "In this case, we denote **dataset 1 < dataset 2**, that **dataset 2 is more abstracted and anonymized**."
      ]
    },
    {
      "cell_type": "code",
      "metadata": {
        "id": "FuAdkZl8ZuTd",
        "colab_type": "code",
        "colab": {
          "base_uri": "https://localhost:8080/",
          "height": 425
        },
        "outputId": "0dd2a886-09f3-43d7-b6b7-260e68dec9e8"
      },
      "source": [
        "data_all_index_dict"
      ],
      "execution_count": 41,
      "outputs": [
        {
          "output_type": "execute_result",
          "data": {
            "text/plain": [
              "{0: array(['Pclass', 'Sex', 'Embarked', 'Title', 'Fare', 'FamilySize', 'Age'],\n",
              "       dtype=object),\n",
              " 1: array(['Pclass', 'Sex', 'Embarked', 'Title', 'Fare', 'FamilySize',\n",
              "        'Age_man_bin8'], dtype=object),\n",
              " 2: array(['Pclass', 'Sex', 'Embarked', 'Title', 'Fare', 'FamilySize',\n",
              "        'Age_man_bin5'], dtype=object),\n",
              " 3: array(['Pclass', 'Sex', 'Embarked', 'Title', 'Fare', 'FamilySize_bin',\n",
              "        'Age'], dtype=object),\n",
              " 4: array(['Pclass', 'Sex', 'Embarked', 'Title', 'Fare', 'FamilySize_bin',\n",
              "        'Age_man_bin8'], dtype=object),\n",
              " 5: array(['Pclass', 'Sex', 'Embarked', 'Title', 'Fare', 'FamilySize_bin',\n",
              "        'Age_man_bin5'], dtype=object),\n",
              " 6: array(['Pclass', 'Sex', 'Embarked', 'Title', 'Fare_bin3', 'FamilySize',\n",
              "        'Age'], dtype=object),\n",
              " 7: array(['Pclass', 'Sex', 'Embarked', 'Title', 'Fare_bin3', 'FamilySize',\n",
              "        'Age_man_bin8'], dtype=object),\n",
              " 8: array(['Pclass', 'Sex', 'Embarked', 'Title', 'Fare_bin3', 'FamilySize',\n",
              "        'Age_man_bin5'], dtype=object),\n",
              " 9: array(['Pclass', 'Sex', 'Embarked', 'Title', 'Fare_bin3',\n",
              "        'FamilySize_bin', 'Age'], dtype=object),\n",
              " 10: array(['Pclass', 'Sex', 'Embarked', 'Title', 'Fare_bin3',\n",
              "        'FamilySize_bin', 'Age_man_bin8'], dtype=object),\n",
              " 11: array(['Pclass', 'Sex', 'Embarked', 'Title', 'Fare_bin3',\n",
              "        'FamilySize_bin', 'Age_man_bin5'], dtype=object)}"
            ]
          },
          "metadata": {
            "tags": []
          },
          "execution_count": 41
        }
      ]
    },
    {
      "cell_type": "markdown",
      "metadata": {
        "id": "zECTvI3U8Spm",
        "colab_type": "text"
      },
      "source": [
        "## **Results**"
      ]
    },
    {
      "cell_type": "markdown",
      "metadata": {
        "id": "EhpZr-pM262E",
        "colab_type": "text"
      },
      "source": [
        "### Score\n",
        "\n",
        "\"Score\" is measured using training data. \n",
        "\n",
        "**This represents how the trained model is fitted into model.**"
      ]
    },
    {
      "cell_type": "code",
      "metadata": {
        "id": "naeKtPdU8OtU",
        "colab_type": "code",
        "colab": {
          "base_uri": "https://localhost:8080/",
          "height": 421
        },
        "outputId": "381edb99-3194-43f3-f415-394847de818c"
      },
      "source": [
        "result_models_score_dict = {\n",
        "               \"acc_log_score\": acc_log_score,\n",
        "               \"acc_svc_score\": acc_svc_score,\n",
        "               \"acc_random_forest_score\": acc_random_forest_score,\n",
        "               \"acc_decision_tree_score\": acc_decision_tree_score,\n",
        "               \"acc_sgd_score\": acc_sgd_score,\n",
        "               \"acc_gaussian_score\": acc_gaussian_score,\n",
        "               \"acc_knn_score\": acc_knn_score\n",
        "              }\n",
        "\n",
        "result_models_score = pd.DataFrame(result_models_score_dict)\n",
        "result_models_score"
      ],
      "execution_count": 42,
      "outputs": [
        {
          "output_type": "execute_result",
          "data": {
            "text/html": [
              "<div>\n",
              "<style scoped>\n",
              "    .dataframe tbody tr th:only-of-type {\n",
              "        vertical-align: middle;\n",
              "    }\n",
              "\n",
              "    .dataframe tbody tr th {\n",
              "        vertical-align: top;\n",
              "    }\n",
              "\n",
              "    .dataframe thead th {\n",
              "        text-align: right;\n",
              "    }\n",
              "</style>\n",
              "<table border=\"1\" class=\"dataframe\">\n",
              "  <thead>\n",
              "    <tr style=\"text-align: right;\">\n",
              "      <th></th>\n",
              "      <th>acc_log_score</th>\n",
              "      <th>acc_svc_score</th>\n",
              "      <th>acc_random_forest_score</th>\n",
              "      <th>acc_decision_tree_score</th>\n",
              "      <th>acc_sgd_score</th>\n",
              "      <th>acc_gaussian_score</th>\n",
              "      <th>acc_knn_score</th>\n",
              "    </tr>\n",
              "  </thead>\n",
              "  <tbody>\n",
              "    <tr>\n",
              "      <th>0</th>\n",
              "      <td>79.89</td>\n",
              "      <td>69.34</td>\n",
              "      <td>97.47</td>\n",
              "      <td>97.47</td>\n",
              "      <td>74.26</td>\n",
              "      <td>79.89</td>\n",
              "      <td>88.47</td>\n",
              "    </tr>\n",
              "    <tr>\n",
              "      <th>1</th>\n",
              "      <td>79.32</td>\n",
              "      <td>66.95</td>\n",
              "      <td>94.66</td>\n",
              "      <td>94.66</td>\n",
              "      <td>61.32</td>\n",
              "      <td>80.31</td>\n",
              "      <td>86.36</td>\n",
              "    </tr>\n",
              "    <tr>\n",
              "      <th>2</th>\n",
              "      <td>79.18</td>\n",
              "      <td>66.67</td>\n",
              "      <td>93.53</td>\n",
              "      <td>93.53</td>\n",
              "      <td>76.23</td>\n",
              "      <td>79.75</td>\n",
              "      <td>87.20</td>\n",
              "    </tr>\n",
              "    <tr>\n",
              "      <th>3</th>\n",
              "      <td>81.43</td>\n",
              "      <td>69.06</td>\n",
              "      <td>96.91</td>\n",
              "      <td>96.91</td>\n",
              "      <td>71.73</td>\n",
              "      <td>79.75</td>\n",
              "      <td>87.90</td>\n",
              "    </tr>\n",
              "    <tr>\n",
              "      <th>4</th>\n",
              "      <td>81.01</td>\n",
              "      <td>68.64</td>\n",
              "      <td>93.39</td>\n",
              "      <td>93.39</td>\n",
              "      <td>62.87</td>\n",
              "      <td>79.04</td>\n",
              "      <td>86.92</td>\n",
              "    </tr>\n",
              "    <tr>\n",
              "      <th>5</th>\n",
              "      <td>82.14</td>\n",
              "      <td>67.09</td>\n",
              "      <td>93.53</td>\n",
              "      <td>93.53</td>\n",
              "      <td>72.01</td>\n",
              "      <td>79.61</td>\n",
              "      <td>88.33</td>\n",
              "    </tr>\n",
              "    <tr>\n",
              "      <th>6</th>\n",
              "      <td>79.89</td>\n",
              "      <td>65.40</td>\n",
              "      <td>94.37</td>\n",
              "      <td>94.37</td>\n",
              "      <td>75.11</td>\n",
              "      <td>79.61</td>\n",
              "      <td>87.06</td>\n",
              "    </tr>\n",
              "    <tr>\n",
              "      <th>7</th>\n",
              "      <td>78.48</td>\n",
              "      <td>82.28</td>\n",
              "      <td>87.62</td>\n",
              "      <td>87.62</td>\n",
              "      <td>68.92</td>\n",
              "      <td>79.47</td>\n",
              "      <td>85.09</td>\n",
              "    </tr>\n",
              "    <tr>\n",
              "      <th>8</th>\n",
              "      <td>78.62</td>\n",
              "      <td>82.56</td>\n",
              "      <td>87.48</td>\n",
              "      <td>87.48</td>\n",
              "      <td>66.53</td>\n",
              "      <td>79.32</td>\n",
              "      <td>85.65</td>\n",
              "    </tr>\n",
              "    <tr>\n",
              "      <th>9</th>\n",
              "      <td>81.86</td>\n",
              "      <td>70.60</td>\n",
              "      <td>94.66</td>\n",
              "      <td>94.66</td>\n",
              "      <td>80.03</td>\n",
              "      <td>80.03</td>\n",
              "      <td>88.33</td>\n",
              "    </tr>\n",
              "    <tr>\n",
              "      <th>10</th>\n",
              "      <td>79.61</td>\n",
              "      <td>82.84</td>\n",
              "      <td>87.34</td>\n",
              "      <td>87.34</td>\n",
              "      <td>75.81</td>\n",
              "      <td>78.90</td>\n",
              "      <td>85.37</td>\n",
              "    </tr>\n",
              "    <tr>\n",
              "      <th>11</th>\n",
              "      <td>80.17</td>\n",
              "      <td>84.39</td>\n",
              "      <td>87.62</td>\n",
              "      <td>87.62</td>\n",
              "      <td>73.56</td>\n",
              "      <td>78.34</td>\n",
              "      <td>84.67</td>\n",
              "    </tr>\n",
              "  </tbody>\n",
              "</table>\n",
              "</div>"
            ],
            "text/plain": [
              "    acc_log_score  acc_svc_score  acc_random_forest_score  \\\n",
              "0           79.89          69.34                    97.47   \n",
              "1           79.32          66.95                    94.66   \n",
              "2           79.18          66.67                    93.53   \n",
              "3           81.43          69.06                    96.91   \n",
              "4           81.01          68.64                    93.39   \n",
              "5           82.14          67.09                    93.53   \n",
              "6           79.89          65.40                    94.37   \n",
              "7           78.48          82.28                    87.62   \n",
              "8           78.62          82.56                    87.48   \n",
              "9           81.86          70.60                    94.66   \n",
              "10          79.61          82.84                    87.34   \n",
              "11          80.17          84.39                    87.62   \n",
              "\n",
              "    acc_decision_tree_score  acc_sgd_score  acc_gaussian_score  acc_knn_score  \n",
              "0                     97.47          74.26               79.89          88.47  \n",
              "1                     94.66          61.32               80.31          86.36  \n",
              "2                     93.53          76.23               79.75          87.20  \n",
              "3                     96.91          71.73               79.75          87.90  \n",
              "4                     93.39          62.87               79.04          86.92  \n",
              "5                     93.53          72.01               79.61          88.33  \n",
              "6                     94.37          75.11               79.61          87.06  \n",
              "7                     87.62          68.92               79.47          85.09  \n",
              "8                     87.48          66.53               79.32          85.65  \n",
              "9                     94.66          80.03               80.03          88.33  \n",
              "10                    87.34          75.81               78.90          85.37  \n",
              "11                    87.62          73.56               78.34          84.67  "
            ]
          },
          "metadata": {
            "tags": []
          },
          "execution_count": 42
        }
      ]
    },
    {
      "cell_type": "markdown",
      "metadata": {
        "id": "2xoZ4IJF3JW0",
        "colab_type": "text"
      },
      "source": [
        "### Accuracy\n",
        "\n",
        "\"Accuracy\" is measured using testing data.\n",
        "\n",
        "**This reflects the model accuracy to new data.**\n",
        "Please note that the total number of dataset is 889, and this is split into training/test data 711 and 178 (80\\% and 20\\%).\n",
        "\n",
        "The **train/test split technique is not stable **in that it may not split the data randomly and the data can be selected only from specific groups. This will result in **overfitting**. For obtaining the \"Accuracy\", **model validation should be cross validated** (e.g.,**k-fold cross validation**). In this project, the aim is to investigate the effects between the anonymization (e.g., privacy) and the prediction model accuracy (e.g., utility).\n",
        "\n",
        "I think this represents the more realistic result than \"Score\"."
      ]
    },
    {
      "cell_type": "code",
      "metadata": {
        "id": "Tmr_9U18_B1Q",
        "colab_type": "code",
        "outputId": "ff700d48-85ba-4b21-e8b2-c7a2b2b587d6",
        "colab": {
          "base_uri": "https://localhost:8080/",
          "height": 421
        }
      },
      "source": [
        "result_models_acc_dict = {\n",
        "               \"acc_log\": acc_log,\n",
        "               \"acc_svc\": acc_svc, \n",
        "               \"acc_random_forest\": acc_random_forest,\n",
        "               \"acc_decision_tree\": acc_decision_tree,\n",
        "               \"acc_sgd\": acc_sgd,\n",
        "               \"acc_gaussian\": acc_gaussian,\n",
        "               \"acc_knn\": acc_knn\n",
        "              }\n",
        "\n",
        "result_models = pd.DataFrame(result_models_acc_dict)\n",
        "result_models"
      ],
      "execution_count": 43,
      "outputs": [
        {
          "output_type": "execute_result",
          "data": {
            "text/html": [
              "<div>\n",
              "<style scoped>\n",
              "    .dataframe tbody tr th:only-of-type {\n",
              "        vertical-align: middle;\n",
              "    }\n",
              "\n",
              "    .dataframe tbody tr th {\n",
              "        vertical-align: top;\n",
              "    }\n",
              "\n",
              "    .dataframe thead th {\n",
              "        text-align: right;\n",
              "    }\n",
              "</style>\n",
              "<table border=\"1\" class=\"dataframe\">\n",
              "  <thead>\n",
              "    <tr style=\"text-align: right;\">\n",
              "      <th></th>\n",
              "      <th>acc_log</th>\n",
              "      <th>acc_svc</th>\n",
              "      <th>acc_random_forest</th>\n",
              "      <th>acc_decision_tree</th>\n",
              "      <th>acc_sgd</th>\n",
              "      <th>acc_gaussian</th>\n",
              "      <th>acc_knn</th>\n",
              "    </tr>\n",
              "  </thead>\n",
              "  <tbody>\n",
              "    <tr>\n",
              "      <th>0</th>\n",
              "      <td>78.65</td>\n",
              "      <td>65.73</td>\n",
              "      <td>78.09</td>\n",
              "      <td>78.09</td>\n",
              "      <td>76.40</td>\n",
              "      <td>78.09</td>\n",
              "      <td>82.02</td>\n",
              "    </tr>\n",
              "    <tr>\n",
              "      <th>1</th>\n",
              "      <td>80.34</td>\n",
              "      <td>66.29</td>\n",
              "      <td>80.34</td>\n",
              "      <td>79.78</td>\n",
              "      <td>63.48</td>\n",
              "      <td>79.21</td>\n",
              "      <td>79.78</td>\n",
              "    </tr>\n",
              "    <tr>\n",
              "      <th>2</th>\n",
              "      <td>79.21</td>\n",
              "      <td>73.60</td>\n",
              "      <td>84.27</td>\n",
              "      <td>83.71</td>\n",
              "      <td>78.65</td>\n",
              "      <td>78.09</td>\n",
              "      <td>82.02</td>\n",
              "    </tr>\n",
              "    <tr>\n",
              "      <th>3</th>\n",
              "      <td>78.65</td>\n",
              "      <td>65.17</td>\n",
              "      <td>82.58</td>\n",
              "      <td>82.02</td>\n",
              "      <td>73.03</td>\n",
              "      <td>76.97</td>\n",
              "      <td>84.83</td>\n",
              "    </tr>\n",
              "    <tr>\n",
              "      <th>4</th>\n",
              "      <td>83.15</td>\n",
              "      <td>68.54</td>\n",
              "      <td>80.34</td>\n",
              "      <td>78.65</td>\n",
              "      <td>64.61</td>\n",
              "      <td>79.21</td>\n",
              "      <td>80.90</td>\n",
              "    </tr>\n",
              "    <tr>\n",
              "      <th>5</th>\n",
              "      <td>80.34</td>\n",
              "      <td>63.48</td>\n",
              "      <td>77.53</td>\n",
              "      <td>76.40</td>\n",
              "      <td>70.22</td>\n",
              "      <td>75.84</td>\n",
              "      <td>77.53</td>\n",
              "    </tr>\n",
              "    <tr>\n",
              "      <th>6</th>\n",
              "      <td>82.02</td>\n",
              "      <td>71.35</td>\n",
              "      <td>79.78</td>\n",
              "      <td>78.09</td>\n",
              "      <td>76.40</td>\n",
              "      <td>82.58</td>\n",
              "      <td>82.02</td>\n",
              "    </tr>\n",
              "    <tr>\n",
              "      <th>7</th>\n",
              "      <td>82.02</td>\n",
              "      <td>85.39</td>\n",
              "      <td>84.27</td>\n",
              "      <td>84.27</td>\n",
              "      <td>64.04</td>\n",
              "      <td>81.46</td>\n",
              "      <td>81.46</td>\n",
              "    </tr>\n",
              "    <tr>\n",
              "      <th>8</th>\n",
              "      <td>83.15</td>\n",
              "      <td>85.39</td>\n",
              "      <td>83.15</td>\n",
              "      <td>80.34</td>\n",
              "      <td>67.98</td>\n",
              "      <td>83.71</td>\n",
              "      <td>82.58</td>\n",
              "    </tr>\n",
              "    <tr>\n",
              "      <th>9</th>\n",
              "      <td>75.84</td>\n",
              "      <td>69.10</td>\n",
              "      <td>77.53</td>\n",
              "      <td>76.40</td>\n",
              "      <td>73.03</td>\n",
              "      <td>75.28</td>\n",
              "      <td>79.78</td>\n",
              "    </tr>\n",
              "    <tr>\n",
              "      <th>10</th>\n",
              "      <td>83.15</td>\n",
              "      <td>84.27</td>\n",
              "      <td>78.65</td>\n",
              "      <td>77.53</td>\n",
              "      <td>73.60</td>\n",
              "      <td>80.34</td>\n",
              "      <td>79.21</td>\n",
              "    </tr>\n",
              "    <tr>\n",
              "      <th>11</th>\n",
              "      <td>80.34</td>\n",
              "      <td>80.34</td>\n",
              "      <td>78.65</td>\n",
              "      <td>78.09</td>\n",
              "      <td>67.98</td>\n",
              "      <td>78.65</td>\n",
              "      <td>78.09</td>\n",
              "    </tr>\n",
              "  </tbody>\n",
              "</table>\n",
              "</div>"
            ],
            "text/plain": [
              "    acc_log  acc_svc  acc_random_forest  acc_decision_tree  acc_sgd  \\\n",
              "0     78.65    65.73              78.09              78.09    76.40   \n",
              "1     80.34    66.29              80.34              79.78    63.48   \n",
              "2     79.21    73.60              84.27              83.71    78.65   \n",
              "3     78.65    65.17              82.58              82.02    73.03   \n",
              "4     83.15    68.54              80.34              78.65    64.61   \n",
              "5     80.34    63.48              77.53              76.40    70.22   \n",
              "6     82.02    71.35              79.78              78.09    76.40   \n",
              "7     82.02    85.39              84.27              84.27    64.04   \n",
              "8     83.15    85.39              83.15              80.34    67.98   \n",
              "9     75.84    69.10              77.53              76.40    73.03   \n",
              "10    83.15    84.27              78.65              77.53    73.60   \n",
              "11    80.34    80.34              78.65              78.09    67.98   \n",
              "\n",
              "    acc_gaussian  acc_knn  \n",
              "0          78.09    82.02  \n",
              "1          79.21    79.78  \n",
              "2          78.09    82.02  \n",
              "3          76.97    84.83  \n",
              "4          79.21    80.90  \n",
              "5          75.84    77.53  \n",
              "6          82.58    82.02  \n",
              "7          81.46    81.46  \n",
              "8          83.71    82.58  \n",
              "9          75.28    79.78  \n",
              "10         80.34    79.21  \n",
              "11         78.65    78.09  "
            ]
          },
          "metadata": {
            "tags": []
          },
          "execution_count": 43
        }
      ]
    },
    {
      "cell_type": "markdown",
      "metadata": {
        "id": "wsnVhUqUBKF5",
        "colab_type": "text"
      },
      "source": [
        "We summarized the best score/ accuracy in each classification model."
      ]
    },
    {
      "cell_type": "code",
      "metadata": {
        "id": "TletYyRdntGx",
        "colab_type": "code",
        "colab": {}
      },
      "source": [
        "best_models = pd.DataFrame({\n",
        "    'Model': ['Logistic Regression', 'Support Vector Machines', 'Random Forest',\n",
        "              'Decision Tree', 'Stochastic Gradient Decent', 'Gaussian Naive Bayes', \n",
        "              'K-Nearest Neighbors'],\n",
        "    'Score': result_models_score.max().to_list(),\n",
        "    'Accuracy': result_models.max()\n",
        "              })"
      ],
      "execution_count": 0,
      "outputs": []
    },
    {
      "cell_type": "markdown",
      "metadata": {
        "id": "Yx3YERuoBWy1",
        "colab_type": "text"
      },
      "source": [
        "Ordered by \"Score\" measured using training data."
      ]
    },
    {
      "cell_type": "code",
      "metadata": {
        "id": "vClKz1ifD2Dh",
        "colab_type": "code",
        "colab": {
          "base_uri": "https://localhost:8080/",
          "height": 266
        },
        "outputId": "9416f72e-9313-44f3-843e-cb34d20a1108"
      },
      "source": [
        "best_models.sort_values(by='Score', ascending=False)"
      ],
      "execution_count": 45,
      "outputs": [
        {
          "output_type": "execute_result",
          "data": {
            "text/html": [
              "<div>\n",
              "<style scoped>\n",
              "    .dataframe tbody tr th:only-of-type {\n",
              "        vertical-align: middle;\n",
              "    }\n",
              "\n",
              "    .dataframe tbody tr th {\n",
              "        vertical-align: top;\n",
              "    }\n",
              "\n",
              "    .dataframe thead th {\n",
              "        text-align: right;\n",
              "    }\n",
              "</style>\n",
              "<table border=\"1\" class=\"dataframe\">\n",
              "  <thead>\n",
              "    <tr style=\"text-align: right;\">\n",
              "      <th></th>\n",
              "      <th>Model</th>\n",
              "      <th>Score</th>\n",
              "      <th>Accuracy</th>\n",
              "    </tr>\n",
              "  </thead>\n",
              "  <tbody>\n",
              "    <tr>\n",
              "      <th>acc_random_forest</th>\n",
              "      <td>Random Forest</td>\n",
              "      <td>97.47</td>\n",
              "      <td>84.27</td>\n",
              "    </tr>\n",
              "    <tr>\n",
              "      <th>acc_decision_tree</th>\n",
              "      <td>Decision Tree</td>\n",
              "      <td>97.47</td>\n",
              "      <td>84.27</td>\n",
              "    </tr>\n",
              "    <tr>\n",
              "      <th>acc_knn</th>\n",
              "      <td>K-Nearest Neighbors</td>\n",
              "      <td>88.47</td>\n",
              "      <td>84.83</td>\n",
              "    </tr>\n",
              "    <tr>\n",
              "      <th>acc_svc</th>\n",
              "      <td>Support Vector Machines</td>\n",
              "      <td>84.39</td>\n",
              "      <td>85.39</td>\n",
              "    </tr>\n",
              "    <tr>\n",
              "      <th>acc_log</th>\n",
              "      <td>Logistic Regression</td>\n",
              "      <td>82.14</td>\n",
              "      <td>83.15</td>\n",
              "    </tr>\n",
              "    <tr>\n",
              "      <th>acc_gaussian</th>\n",
              "      <td>Gaussian Naive Bayes</td>\n",
              "      <td>80.31</td>\n",
              "      <td>83.71</td>\n",
              "    </tr>\n",
              "    <tr>\n",
              "      <th>acc_sgd</th>\n",
              "      <td>Stochastic Gradient Decent</td>\n",
              "      <td>80.03</td>\n",
              "      <td>78.65</td>\n",
              "    </tr>\n",
              "  </tbody>\n",
              "</table>\n",
              "</div>"
            ],
            "text/plain": [
              "                                        Model  Score  Accuracy\n",
              "acc_random_forest               Random Forest  97.47     84.27\n",
              "acc_decision_tree               Decision Tree  97.47     84.27\n",
              "acc_knn                   K-Nearest Neighbors  88.47     84.83\n",
              "acc_svc               Support Vector Machines  84.39     85.39\n",
              "acc_log                   Logistic Regression  82.14     83.15\n",
              "acc_gaussian             Gaussian Naive Bayes  80.31     83.71\n",
              "acc_sgd            Stochastic Gradient Decent  80.03     78.65"
            ]
          },
          "metadata": {
            "tags": []
          },
          "execution_count": 45
        }
      ]
    },
    {
      "cell_type": "markdown",
      "metadata": {
        "id": "7BO96q7pNCLC",
        "colab_type": "text"
      },
      "source": [
        "Ordered by \"Accuracy\" measured using testing data."
      ]
    },
    {
      "cell_type": "code",
      "metadata": {
        "id": "ap0yreWFM7yT",
        "colab_type": "code",
        "colab": {
          "base_uri": "https://localhost:8080/",
          "height": 266
        },
        "outputId": "65bd7e27-fe55-4f7a-af45-4a2af7c7aba8"
      },
      "source": [
        "best_models.sort_values(by='Accuracy', ascending=False)"
      ],
      "execution_count": 46,
      "outputs": [
        {
          "output_type": "execute_result",
          "data": {
            "text/html": [
              "<div>\n",
              "<style scoped>\n",
              "    .dataframe tbody tr th:only-of-type {\n",
              "        vertical-align: middle;\n",
              "    }\n",
              "\n",
              "    .dataframe tbody tr th {\n",
              "        vertical-align: top;\n",
              "    }\n",
              "\n",
              "    .dataframe thead th {\n",
              "        text-align: right;\n",
              "    }\n",
              "</style>\n",
              "<table border=\"1\" class=\"dataframe\">\n",
              "  <thead>\n",
              "    <tr style=\"text-align: right;\">\n",
              "      <th></th>\n",
              "      <th>Model</th>\n",
              "      <th>Score</th>\n",
              "      <th>Accuracy</th>\n",
              "    </tr>\n",
              "  </thead>\n",
              "  <tbody>\n",
              "    <tr>\n",
              "      <th>acc_svc</th>\n",
              "      <td>Support Vector Machines</td>\n",
              "      <td>84.39</td>\n",
              "      <td>85.39</td>\n",
              "    </tr>\n",
              "    <tr>\n",
              "      <th>acc_knn</th>\n",
              "      <td>K-Nearest Neighbors</td>\n",
              "      <td>88.47</td>\n",
              "      <td>84.83</td>\n",
              "    </tr>\n",
              "    <tr>\n",
              "      <th>acc_random_forest</th>\n",
              "      <td>Random Forest</td>\n",
              "      <td>97.47</td>\n",
              "      <td>84.27</td>\n",
              "    </tr>\n",
              "    <tr>\n",
              "      <th>acc_decision_tree</th>\n",
              "      <td>Decision Tree</td>\n",
              "      <td>97.47</td>\n",
              "      <td>84.27</td>\n",
              "    </tr>\n",
              "    <tr>\n",
              "      <th>acc_gaussian</th>\n",
              "      <td>Gaussian Naive Bayes</td>\n",
              "      <td>80.31</td>\n",
              "      <td>83.71</td>\n",
              "    </tr>\n",
              "    <tr>\n",
              "      <th>acc_log</th>\n",
              "      <td>Logistic Regression</td>\n",
              "      <td>82.14</td>\n",
              "      <td>83.15</td>\n",
              "    </tr>\n",
              "    <tr>\n",
              "      <th>acc_sgd</th>\n",
              "      <td>Stochastic Gradient Decent</td>\n",
              "      <td>80.03</td>\n",
              "      <td>78.65</td>\n",
              "    </tr>\n",
              "  </tbody>\n",
              "</table>\n",
              "</div>"
            ],
            "text/plain": [
              "                                        Model  Score  Accuracy\n",
              "acc_svc               Support Vector Machines  84.39     85.39\n",
              "acc_knn                   K-Nearest Neighbors  88.47     84.83\n",
              "acc_random_forest               Random Forest  97.47     84.27\n",
              "acc_decision_tree               Decision Tree  97.47     84.27\n",
              "acc_gaussian             Gaussian Naive Bayes  80.31     83.71\n",
              "acc_log                   Logistic Regression  82.14     83.15\n",
              "acc_sgd            Stochastic Gradient Decent  80.03     78.65"
            ]
          },
          "metadata": {
            "tags": []
          },
          "execution_count": 46
        }
      ]
    },
    {
      "cell_type": "markdown",
      "metadata": {
        "id": "QalNLkg72J_O",
        "colab_type": "text"
      },
      "source": [
        "**We summarized the best models in each data set.**"
      ]
    },
    {
      "cell_type": "code",
      "metadata": {
        "id": "g-Hc4niF_ofc",
        "colab_type": "code",
        "colab": {}
      },
      "source": [
        "best_data = pd.DataFrame({\n",
        "    'Data': data_index_dict,\n",
        "    'Score(Train Set)': result_models_score.max(axis=1),\n",
        "    'Score_Model': result_models_score.idxmax(axis=1),\n",
        "    'Accuracy(Test Set)': result_models.max(axis=1),\n",
        "    'Accuracy_Model':result_models.idxmax(axis=1)\n",
        "              })"
      ],
      "execution_count": 0,
      "outputs": []
    },
    {
      "cell_type": "markdown",
      "metadata": {
        "id": "iEkQ05up_Jse",
        "colab_type": "text"
      },
      "source": [
        "Ordered by \"Score\" measured using training data."
      ]
    },
    {
      "cell_type": "code",
      "metadata": {
        "id": "PdwfRp72AB4r",
        "colab_type": "code",
        "colab": {
          "base_uri": "https://localhost:8080/",
          "height": 421
        },
        "outputId": "94985713-5f5f-40e3-bd7b-4c9706edd7f7"
      },
      "source": [
        "best_data.sort_values(by='Score(Train Set)', ascending=False)"
      ],
      "execution_count": 48,
      "outputs": [
        {
          "output_type": "execute_result",
          "data": {
            "text/html": [
              "<div>\n",
              "<style scoped>\n",
              "    .dataframe tbody tr th:only-of-type {\n",
              "        vertical-align: middle;\n",
              "    }\n",
              "\n",
              "    .dataframe tbody tr th {\n",
              "        vertical-align: top;\n",
              "    }\n",
              "\n",
              "    .dataframe thead th {\n",
              "        text-align: right;\n",
              "    }\n",
              "</style>\n",
              "<table border=\"1\" class=\"dataframe\">\n",
              "  <thead>\n",
              "    <tr style=\"text-align: right;\">\n",
              "      <th></th>\n",
              "      <th>Data</th>\n",
              "      <th>Score(Train Set)</th>\n",
              "      <th>Score_Model</th>\n",
              "      <th>Accuracy(Test Set)</th>\n",
              "      <th>Accuracy_Model</th>\n",
              "    </tr>\n",
              "  </thead>\n",
              "  <tbody>\n",
              "    <tr>\n",
              "      <th>0</th>\n",
              "      <td>[Fare, FamilySize, Age]</td>\n",
              "      <td>97.47</td>\n",
              "      <td>acc_random_forest_score</td>\n",
              "      <td>82.02</td>\n",
              "      <td>acc_knn</td>\n",
              "    </tr>\n",
              "    <tr>\n",
              "      <th>3</th>\n",
              "      <td>[Fare, FamilySize_bin, Age]</td>\n",
              "      <td>96.91</td>\n",
              "      <td>acc_random_forest_score</td>\n",
              "      <td>84.83</td>\n",
              "      <td>acc_knn</td>\n",
              "    </tr>\n",
              "    <tr>\n",
              "      <th>1</th>\n",
              "      <td>[Fare, FamilySize, Age_man_bin8]</td>\n",
              "      <td>94.66</td>\n",
              "      <td>acc_random_forest_score</td>\n",
              "      <td>80.34</td>\n",
              "      <td>acc_log</td>\n",
              "    </tr>\n",
              "    <tr>\n",
              "      <th>9</th>\n",
              "      <td>[Fare_bin3, FamilySize_bin, Age]</td>\n",
              "      <td>94.66</td>\n",
              "      <td>acc_random_forest_score</td>\n",
              "      <td>79.78</td>\n",
              "      <td>acc_knn</td>\n",
              "    </tr>\n",
              "    <tr>\n",
              "      <th>6</th>\n",
              "      <td>[Fare_bin3, FamilySize, Age]</td>\n",
              "      <td>94.37</td>\n",
              "      <td>acc_random_forest_score</td>\n",
              "      <td>82.58</td>\n",
              "      <td>acc_gaussian</td>\n",
              "    </tr>\n",
              "    <tr>\n",
              "      <th>2</th>\n",
              "      <td>[Fare, FamilySize, Age_man_bin5]</td>\n",
              "      <td>93.53</td>\n",
              "      <td>acc_random_forest_score</td>\n",
              "      <td>84.27</td>\n",
              "      <td>acc_random_forest</td>\n",
              "    </tr>\n",
              "    <tr>\n",
              "      <th>5</th>\n",
              "      <td>[Fare, FamilySize_bin, Age_man_bin5]</td>\n",
              "      <td>93.53</td>\n",
              "      <td>acc_random_forest_score</td>\n",
              "      <td>80.34</td>\n",
              "      <td>acc_log</td>\n",
              "    </tr>\n",
              "    <tr>\n",
              "      <th>4</th>\n",
              "      <td>[Fare, FamilySize_bin, Age_man_bin8]</td>\n",
              "      <td>93.39</td>\n",
              "      <td>acc_random_forest_score</td>\n",
              "      <td>83.15</td>\n",
              "      <td>acc_log</td>\n",
              "    </tr>\n",
              "    <tr>\n",
              "      <th>7</th>\n",
              "      <td>[Fare_bin3, FamilySize, Age_man_bin8]</td>\n",
              "      <td>87.62</td>\n",
              "      <td>acc_random_forest_score</td>\n",
              "      <td>85.39</td>\n",
              "      <td>acc_svc</td>\n",
              "    </tr>\n",
              "    <tr>\n",
              "      <th>11</th>\n",
              "      <td>[Fare_bin3, FamilySize_bin, Age_man_bin5]</td>\n",
              "      <td>87.62</td>\n",
              "      <td>acc_random_forest_score</td>\n",
              "      <td>80.34</td>\n",
              "      <td>acc_log</td>\n",
              "    </tr>\n",
              "    <tr>\n",
              "      <th>8</th>\n",
              "      <td>[Fare_bin3, FamilySize, Age_man_bin5]</td>\n",
              "      <td>87.48</td>\n",
              "      <td>acc_random_forest_score</td>\n",
              "      <td>85.39</td>\n",
              "      <td>acc_svc</td>\n",
              "    </tr>\n",
              "    <tr>\n",
              "      <th>10</th>\n",
              "      <td>[Fare_bin3, FamilySize_bin, Age_man_bin8]</td>\n",
              "      <td>87.34</td>\n",
              "      <td>acc_random_forest_score</td>\n",
              "      <td>84.27</td>\n",
              "      <td>acc_svc</td>\n",
              "    </tr>\n",
              "  </tbody>\n",
              "</table>\n",
              "</div>"
            ],
            "text/plain": [
              "                                         Data  Score(Train Set)  \\\n",
              "0                     [Fare, FamilySize, Age]             97.47   \n",
              "3                 [Fare, FamilySize_bin, Age]             96.91   \n",
              "1            [Fare, FamilySize, Age_man_bin8]             94.66   \n",
              "9            [Fare_bin3, FamilySize_bin, Age]             94.66   \n",
              "6                [Fare_bin3, FamilySize, Age]             94.37   \n",
              "2            [Fare, FamilySize, Age_man_bin5]             93.53   \n",
              "5        [Fare, FamilySize_bin, Age_man_bin5]             93.53   \n",
              "4        [Fare, FamilySize_bin, Age_man_bin8]             93.39   \n",
              "7       [Fare_bin3, FamilySize, Age_man_bin8]             87.62   \n",
              "11  [Fare_bin3, FamilySize_bin, Age_man_bin5]             87.62   \n",
              "8       [Fare_bin3, FamilySize, Age_man_bin5]             87.48   \n",
              "10  [Fare_bin3, FamilySize_bin, Age_man_bin8]             87.34   \n",
              "\n",
              "                Score_Model  Accuracy(Test Set)     Accuracy_Model  \n",
              "0   acc_random_forest_score               82.02            acc_knn  \n",
              "3   acc_random_forest_score               84.83            acc_knn  \n",
              "1   acc_random_forest_score               80.34            acc_log  \n",
              "9   acc_random_forest_score               79.78            acc_knn  \n",
              "6   acc_random_forest_score               82.58       acc_gaussian  \n",
              "2   acc_random_forest_score               84.27  acc_random_forest  \n",
              "5   acc_random_forest_score               80.34            acc_log  \n",
              "4   acc_random_forest_score               83.15            acc_log  \n",
              "7   acc_random_forest_score               85.39            acc_svc  \n",
              "11  acc_random_forest_score               80.34            acc_log  \n",
              "8   acc_random_forest_score               85.39            acc_svc  \n",
              "10  acc_random_forest_score               84.27            acc_svc  "
            ]
          },
          "metadata": {
            "tags": []
          },
          "execution_count": 48
        }
      ]
    },
    {
      "cell_type": "markdown",
      "metadata": {
        "id": "aP50rzw4_Qlx",
        "colab_type": "text"
      },
      "source": [
        "Ordered by \"Accuracy\" measured using testing data."
      ]
    },
    {
      "cell_type": "code",
      "metadata": {
        "id": "5oaODS7qBo8-",
        "colab_type": "code",
        "colab": {
          "base_uri": "https://localhost:8080/",
          "height": 421
        },
        "outputId": "5b27b991-292d-4820-f7f9-ecf44a358b3b"
      },
      "source": [
        "best_data.sort_values(by='Accuracy(Test Set)', ascending=False)"
      ],
      "execution_count": 49,
      "outputs": [
        {
          "output_type": "execute_result",
          "data": {
            "text/html": [
              "<div>\n",
              "<style scoped>\n",
              "    .dataframe tbody tr th:only-of-type {\n",
              "        vertical-align: middle;\n",
              "    }\n",
              "\n",
              "    .dataframe tbody tr th {\n",
              "        vertical-align: top;\n",
              "    }\n",
              "\n",
              "    .dataframe thead th {\n",
              "        text-align: right;\n",
              "    }\n",
              "</style>\n",
              "<table border=\"1\" class=\"dataframe\">\n",
              "  <thead>\n",
              "    <tr style=\"text-align: right;\">\n",
              "      <th></th>\n",
              "      <th>Data</th>\n",
              "      <th>Score(Train Set)</th>\n",
              "      <th>Score_Model</th>\n",
              "      <th>Accuracy(Test Set)</th>\n",
              "      <th>Accuracy_Model</th>\n",
              "    </tr>\n",
              "  </thead>\n",
              "  <tbody>\n",
              "    <tr>\n",
              "      <th>7</th>\n",
              "      <td>[Fare_bin3, FamilySize, Age_man_bin8]</td>\n",
              "      <td>87.62</td>\n",
              "      <td>acc_random_forest_score</td>\n",
              "      <td>85.39</td>\n",
              "      <td>acc_svc</td>\n",
              "    </tr>\n",
              "    <tr>\n",
              "      <th>8</th>\n",
              "      <td>[Fare_bin3, FamilySize, Age_man_bin5]</td>\n",
              "      <td>87.48</td>\n",
              "      <td>acc_random_forest_score</td>\n",
              "      <td>85.39</td>\n",
              "      <td>acc_svc</td>\n",
              "    </tr>\n",
              "    <tr>\n",
              "      <th>3</th>\n",
              "      <td>[Fare, FamilySize_bin, Age]</td>\n",
              "      <td>96.91</td>\n",
              "      <td>acc_random_forest_score</td>\n",
              "      <td>84.83</td>\n",
              "      <td>acc_knn</td>\n",
              "    </tr>\n",
              "    <tr>\n",
              "      <th>2</th>\n",
              "      <td>[Fare, FamilySize, Age_man_bin5]</td>\n",
              "      <td>93.53</td>\n",
              "      <td>acc_random_forest_score</td>\n",
              "      <td>84.27</td>\n",
              "      <td>acc_random_forest</td>\n",
              "    </tr>\n",
              "    <tr>\n",
              "      <th>10</th>\n",
              "      <td>[Fare_bin3, FamilySize_bin, Age_man_bin8]</td>\n",
              "      <td>87.34</td>\n",
              "      <td>acc_random_forest_score</td>\n",
              "      <td>84.27</td>\n",
              "      <td>acc_svc</td>\n",
              "    </tr>\n",
              "    <tr>\n",
              "      <th>4</th>\n",
              "      <td>[Fare, FamilySize_bin, Age_man_bin8]</td>\n",
              "      <td>93.39</td>\n",
              "      <td>acc_random_forest_score</td>\n",
              "      <td>83.15</td>\n",
              "      <td>acc_log</td>\n",
              "    </tr>\n",
              "    <tr>\n",
              "      <th>6</th>\n",
              "      <td>[Fare_bin3, FamilySize, Age]</td>\n",
              "      <td>94.37</td>\n",
              "      <td>acc_random_forest_score</td>\n",
              "      <td>82.58</td>\n",
              "      <td>acc_gaussian</td>\n",
              "    </tr>\n",
              "    <tr>\n",
              "      <th>0</th>\n",
              "      <td>[Fare, FamilySize, Age]</td>\n",
              "      <td>97.47</td>\n",
              "      <td>acc_random_forest_score</td>\n",
              "      <td>82.02</td>\n",
              "      <td>acc_knn</td>\n",
              "    </tr>\n",
              "    <tr>\n",
              "      <th>1</th>\n",
              "      <td>[Fare, FamilySize, Age_man_bin8]</td>\n",
              "      <td>94.66</td>\n",
              "      <td>acc_random_forest_score</td>\n",
              "      <td>80.34</td>\n",
              "      <td>acc_log</td>\n",
              "    </tr>\n",
              "    <tr>\n",
              "      <th>5</th>\n",
              "      <td>[Fare, FamilySize_bin, Age_man_bin5]</td>\n",
              "      <td>93.53</td>\n",
              "      <td>acc_random_forest_score</td>\n",
              "      <td>80.34</td>\n",
              "      <td>acc_log</td>\n",
              "    </tr>\n",
              "    <tr>\n",
              "      <th>11</th>\n",
              "      <td>[Fare_bin3, FamilySize_bin, Age_man_bin5]</td>\n",
              "      <td>87.62</td>\n",
              "      <td>acc_random_forest_score</td>\n",
              "      <td>80.34</td>\n",
              "      <td>acc_log</td>\n",
              "    </tr>\n",
              "    <tr>\n",
              "      <th>9</th>\n",
              "      <td>[Fare_bin3, FamilySize_bin, Age]</td>\n",
              "      <td>94.66</td>\n",
              "      <td>acc_random_forest_score</td>\n",
              "      <td>79.78</td>\n",
              "      <td>acc_knn</td>\n",
              "    </tr>\n",
              "  </tbody>\n",
              "</table>\n",
              "</div>"
            ],
            "text/plain": [
              "                                         Data  Score(Train Set)  \\\n",
              "7       [Fare_bin3, FamilySize, Age_man_bin8]             87.62   \n",
              "8       [Fare_bin3, FamilySize, Age_man_bin5]             87.48   \n",
              "3                 [Fare, FamilySize_bin, Age]             96.91   \n",
              "2            [Fare, FamilySize, Age_man_bin5]             93.53   \n",
              "10  [Fare_bin3, FamilySize_bin, Age_man_bin8]             87.34   \n",
              "4        [Fare, FamilySize_bin, Age_man_bin8]             93.39   \n",
              "6                [Fare_bin3, FamilySize, Age]             94.37   \n",
              "0                     [Fare, FamilySize, Age]             97.47   \n",
              "1            [Fare, FamilySize, Age_man_bin8]             94.66   \n",
              "5        [Fare, FamilySize_bin, Age_man_bin5]             93.53   \n",
              "11  [Fare_bin3, FamilySize_bin, Age_man_bin5]             87.62   \n",
              "9            [Fare_bin3, FamilySize_bin, Age]             94.66   \n",
              "\n",
              "                Score_Model  Accuracy(Test Set)     Accuracy_Model  \n",
              "7   acc_random_forest_score               85.39            acc_svc  \n",
              "8   acc_random_forest_score               85.39            acc_svc  \n",
              "3   acc_random_forest_score               84.83            acc_knn  \n",
              "2   acc_random_forest_score               84.27  acc_random_forest  \n",
              "10  acc_random_forest_score               84.27            acc_svc  \n",
              "4   acc_random_forest_score               83.15            acc_log  \n",
              "6   acc_random_forest_score               82.58       acc_gaussian  \n",
              "0   acc_random_forest_score               82.02            acc_knn  \n",
              "1   acc_random_forest_score               80.34            acc_log  \n",
              "5   acc_random_forest_score               80.34            acc_log  \n",
              "11  acc_random_forest_score               80.34            acc_log  \n",
              "9   acc_random_forest_score               79.78            acc_knn  "
            ]
          },
          "metadata": {
            "tags": []
          },
          "execution_count": 49
        }
      ]
    },
    {
      "cell_type": "markdown",
      "metadata": {
        "id": "Cc3HbZfw7T1p",
        "colab_type": "text"
      },
      "source": [
        "## Synthetic Data"
      ]
    },
    {
      "cell_type": "markdown",
      "metadata": {
        "id": "g0Z3Ys2Vr1TT",
        "colab_type": "text"
      },
      "source": [
        "**Two more data set: Synthetic data (generated 1000 rows).**\n",
        "\n",
        "* Index 12: ['Age_man_bin8', 'Fare_bin3', 'FamilySize_bin', 'Pclass', 'Sex', 'Embarked', 'Title']\n",
        "* Index 13: ['Age_man_bin5', 'Fare_bin3', 'FamilySize_bin', 'Pclass', 'Sex', 'Embarked', 'Title']"
      ]
    },
    {
      "cell_type": "code",
      "metadata": {
        "id": "8FyB2F0pP31I",
        "colab_type": "code",
        "colab": {
          "base_uri": "https://localhost:8080/",
          "height": 51
        },
        "outputId": "ebac5b76-2a16-4ede-a548-7deef01b5d82"
      },
      "source": [
        "# Synthetic data\n",
        "\n",
        "dup_cols = [\"Age_man_bin8\", \"Age_man_bin5\"]\n",
        "\n",
        "for c in dup_cols:\n",
        "  X_gen = X_gen_lab.drop(c, axis=1)\n",
        "\n",
        "  data_index_dict[i] = \"Synthetic data: ['\"+ c +\"', 'Fare_bin3', 'FamilySize_bin']\"\n",
        "  data_all_index_dict[i] = [c, 'Fare_bin3', 'FamilySize_bin'] + ['Pclass', 'Sex', 'Embarked', 'Title'] \n",
        "  print(data_all_index_dict[i])\n",
        "  i+=1\n",
        "\n",
        "  X_train, X_test, Y_train, Y_test = train_test_split(X_gen, Y_gen, test_size=0.2)  #split train data 80% and test data 20%\n",
        "  buildClfModels(X_train, X_test, Y_train, Y_test)"
      ],
      "execution_count": 50,
      "outputs": [
        {
          "output_type": "stream",
          "text": [
            "['Age_man_bin8', 'Fare_bin3', 'FamilySize_bin', 'Pclass', 'Sex', 'Embarked', 'Title']\n",
            "['Age_man_bin5', 'Fare_bin3', 'FamilySize_bin', 'Pclass', 'Sex', 'Embarked', 'Title']\n"
          ],
          "name": "stdout"
        }
      ]
    },
    {
      "cell_type": "code",
      "metadata": {
        "id": "AJyz9X7C78gE",
        "colab_type": "code",
        "colab": {}
      },
      "source": [
        "result_models_score = pd.DataFrame(result_models_score_dict)\n",
        "result_models = pd.DataFrame(result_models_acc_dict)"
      ],
      "execution_count": 0,
      "outputs": []
    },
    {
      "cell_type": "code",
      "metadata": {
        "id": "5ZIZp2Ds789E",
        "colab_type": "code",
        "colab": {}
      },
      "source": [
        "best_models = pd.DataFrame({\n",
        "    'Model': ['Logistic Regression', 'Support Vector Machines', 'Random Forest',\n",
        "              'Decision Tree', 'Stochastic Gradient Decent', 'Gaussian Naive Bayes', \n",
        "              'K-Nearest Neighbors'],\n",
        "    'Score': result_models_score.max().to_list(),\n",
        "    'Accuracy': result_models.max()\n",
        "              })\n",
        "\n",
        "best_data = pd.DataFrame({\n",
        "    'Data': data_index_dict,\n",
        "    'Score(Train Set)': result_models_score.max(axis=1),\n",
        "    'Score_Model': result_models_score.idxmax(axis=1),\n",
        "    'Accuracy(Test Set)': result_models.max(axis=1),\n",
        "    'Accuracy_Model':result_models.idxmax(axis=1)\n",
        "              })"
      ],
      "execution_count": 0,
      "outputs": []
    },
    {
      "cell_type": "code",
      "metadata": {
        "id": "FizRZf0O8ZFi",
        "colab_type": "code",
        "colab": {
          "base_uri": "https://localhost:8080/",
          "height": 111
        },
        "outputId": "79a526b8-40f8-466b-d6dc-4048096086a2"
      },
      "source": [
        "best_data.iloc[12:]"
      ],
      "execution_count": 57,
      "outputs": [
        {
          "output_type": "execute_result",
          "data": {
            "text/html": [
              "<div>\n",
              "<style scoped>\n",
              "    .dataframe tbody tr th:only-of-type {\n",
              "        vertical-align: middle;\n",
              "    }\n",
              "\n",
              "    .dataframe tbody tr th {\n",
              "        vertical-align: top;\n",
              "    }\n",
              "\n",
              "    .dataframe thead th {\n",
              "        text-align: right;\n",
              "    }\n",
              "</style>\n",
              "<table border=\"1\" class=\"dataframe\">\n",
              "  <thead>\n",
              "    <tr style=\"text-align: right;\">\n",
              "      <th></th>\n",
              "      <th>Data</th>\n",
              "      <th>Score(Train Set)</th>\n",
              "      <th>Score_Model</th>\n",
              "      <th>Accuracy(Test Set)</th>\n",
              "      <th>Accuracy_Model</th>\n",
              "    </tr>\n",
              "  </thead>\n",
              "  <tbody>\n",
              "    <tr>\n",
              "      <th>12</th>\n",
              "      <td>Synthetic data: ['Age_man_bin8', 'Fare_bin3', ...</td>\n",
              "      <td>79.50</td>\n",
              "      <td>acc_random_forest_score</td>\n",
              "      <td>62.0</td>\n",
              "      <td>acc_log</td>\n",
              "    </tr>\n",
              "    <tr>\n",
              "      <th>13</th>\n",
              "      <td>Synthetic data: ['Age_man_bin5', 'Fare_bin3', ...</td>\n",
              "      <td>82.25</td>\n",
              "      <td>acc_random_forest_score</td>\n",
              "      <td>61.0</td>\n",
              "      <td>acc_sgd</td>\n",
              "    </tr>\n",
              "  </tbody>\n",
              "</table>\n",
              "</div>"
            ],
            "text/plain": [
              "                                                 Data  Score(Train Set)  \\\n",
              "12  Synthetic data: ['Age_man_bin8', 'Fare_bin3', ...             79.50   \n",
              "13  Synthetic data: ['Age_man_bin5', 'Fare_bin3', ...             82.25   \n",
              "\n",
              "                Score_Model  Accuracy(Test Set) Accuracy_Model  \n",
              "12  acc_random_forest_score                62.0        acc_log  \n",
              "13  acc_random_forest_score                61.0        acc_sgd  "
            ]
          },
          "metadata": {
            "tags": []
          },
          "execution_count": 57
        }
      ]
    }
  ]
}